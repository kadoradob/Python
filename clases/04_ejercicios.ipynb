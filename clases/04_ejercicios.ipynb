{
 "cells": [
  {
   "cell_type": "markdown",
   "metadata": {
    "ein.tags": "worksheet-0",
    "slideshow": {
     "slide_type": "-"
    }
   },
   "source": [
    "# Ejercicios 04 <a class=\"tocSkip\">\n",
    "\n",
    "1. Realice un programa para:\n",
    "    * Leer los datos del archivo **aluminio.dat** y poner los datos del elemento en un diccionario de la forma:\n",
    "```python\n",
    "    d = {'S': 'Al', 'Z':13, 'A':27, 'M': '26.98153863(12)', 'P': 1.0000, 'MS':26.9815386(8)'}\n",
    "    ```\n",
    "    * Modifique el programa anterior para que las masas sean números (`float`) y descarte el valor de la incerteza (el número entre paréntesis)\n",
    "    * Agregue el código necesario para obtener una impresión de la forma:\n",
    "```\n",
    "    Elemento: S\n",
    "    Número Atómico: 13\n",
    "    Número de Masa: 27\n",
    "    Masa: 26.98154\n",
    "```\n",
    "      Note que la masa sólo debe contener 5 números decimales\n",
    "    \n",
    "2. Realice un programa para:\n",
    "    * Leer el archivo **elementos.dat** en el directorio **data** y guardar los datos en un diccionario, cuyas claves serán los símbolos del elemento:\n",
    "      ```python\n",
    "      elementos.keys() = ['C', 'H', 'O', 'N', 'Na', 'Cl', 'Ca', 'Au']\n",
    "      ```\n",
    "y los valores serán diccionarios tal como se definieron en el ejercicio anterior. Por ejemplo:\n",
    "      ```python\n",
    "    elementos['H'] = {'S': 'H', 'Z':1, 'A':1, 'M': 1.00782503207, 'P': 0.999885, 'MS':1.00794}\n",
    "    ```\n",
    "    * Imprimir todos los elementos, en un formato legible (y si le sale: agradable) para personas, ordenados en valores crecientes de masa.\n",
    "\n",
    "3. **PARA ENTREGAR:** Adapte los programas realizados en el punto anterior para trabajar con funciones. Se requiere que escriba:\n",
    "    * Una función que lea un archivo (cuyo nombre es el argumento) y devuelva un diccionario donde cada clave es el símbolo del elemento.\n",
    "    * Una función que escriba en un string todos los elementos, ordenados alfabéticamente por clave, en una forma similar a:\n",
    "    ```python\n",
    "     s = \"\"\"\n",
    "       Elemento: C\n",
    "       Z = 6\n",
    "       A = 12\n",
    "       Masa = 12.0000000\n",
    "       Abundancia = 0.9893\n",
    "       Masa Promedio = 12.0107\n",
    "\n",
    "       Elemento: Ca\n",
    "       Z = 20\n",
    "       A = 40\n",
    "       Masa = 39.96259098\n",
    "       Abundancia = 0.96941\n",
    "       Masa Promedio = 40.078\n",
    "\n",
    "       ...\n",
    "     \"\"\"\n",
    "     ```\n",
    "     Esta función tendrá un argumento requerido que es el diccionario con los elementos y un argumento opcional `reverse` con valor por defecto `False`. Este argumento indica si los elementos se ordenan alfabéticamente de la manera natural (a,b,c...,y,z) o inversa (z,y,x, ... b,a).\n",
    "    * Una función que reciba un nombre de archivo y un string y escriba el string en el archivo dado.\n",
    "    * Finalmente, escriba también el código llamando a las funciones anteriores para realizar el trabajo de lectura y escritura de los elementos en archivos.\n",
    "\n",
    "   **Instrucciones de envío:** Envíe el código en un archivo llamado `04_SuApellido.py` por correo electrónico con asunto (*subject*) `04_SuApellido`.\n",
    "\n",
    "4. Escriba funciones para analizar la divisibilidad de enteros:\n",
    "    * La función `es_divisible1(x)` que retorna verdadero si x es divisible por alguno de `2,3,5,7` o falso en caso contrario.\n",
    "    * La función `es_divisible_por_lista` que cumple la misma función que `es_divisible1` pero recibe dos argumentos: el entero `x` y una variable del tipo lista que contiene los valores para los cuáles debemos examinar la divisibilidad. Las siguientes expresiones deben retornar el mismo valor:\n",
    "    ```python\n",
    "    es_divisible1(x) \n",
    "    es_divisible_por_lista(x, [2,3,5,7])\n",
    "    es_divisible_por_lista(x)\n",
    "    ```\n",
    "    * La función `es_divisible_por` cuyo primer argumento (mandatorio) es `x`, y luego puede aceptar un número indeterminado de argumentos:\n",
    "    ```python\n",
    "    es_divisible_por(x)  # retorna verdadero siempre\n",
    "    es_divisible_por(x, 2) # verdadero si x es par\n",
    "    es_divisible_por(x, 2, 3, 5, 7) # igual resultado que es_divisible1(x) e igual a es_divisible_por_lista(x)\n",
    "    es_divisible_por(x, 2, 3, 5, 7, 9, 11, 13)  # o cualquier secuencia de argumentos debe funcionar\n",
    "    ```"
   ]
  }
 ],
 "metadata": {
  "kernelspec": {
   "display_name": "Python 3",
   "language": "python",
   "name": "python3"
  },
  "language_info": {
   "codemirror_mode": {
    "name": "ipython",
    "version": 3
   },
   "file_extension": ".py",
   "mimetype": "text/x-python",
   "name": "python",
   "nbconvert_exporter": "python",
   "pygments_lexer": "ipython3",
   "version": "3.7.2"
  },
  "name": "04_ejercicios.ipynb",
  "toc": {
   "base_numbering": 1,
   "nav_menu": {
    "height": "12px",
    "width": "252px"
   },
   "number_sections": true,
   "sideBar": true,
   "skip_h1_title": false,
   "title_cell": "Table of Contents",
   "title_sidebar": "Contents",
   "toc_cell": false,
   "toc_position": null,
   "toc_section_display": true,
   "toc_window_display": false
  }
 },
 "nbformat": 4,
 "nbformat_minor": 1
}
