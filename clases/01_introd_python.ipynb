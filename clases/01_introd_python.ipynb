{
 "cells": [
  {
   "cell_type": "markdown",
   "metadata": {
    "ein.tags": "worksheet-0",
    "slideshow": {
     "slide_type": "-"
    }
   },
   "source": [
    "## Conceptos básicos de Python"
   ]
  },
  {
   "cell_type": "markdown",
   "metadata": {
    "ein.tags": "worksheet-0",
    "slideshow": {
     "slide_type": "-"
    }
   },
   "source": [
    "### Características generales del lenguaje\n",
    "Python presenta características modernas. Posiblemente su característica más visible/notable es que la estructuración del código está fuertemente relacionada con su legibilidad:\n",
    "\n",
    "- Es un lenguaje interpretado (no se compila separadamente)\n",
    "\n",
    "- Provee tanto un entorno interactivo como de programas separados \n",
    "\n",
    "- Las funciones, bloques, ámbitos están definidos por la indentación\n",
    "\n",
    "- Tiene una estructura altamente modular, permitiendo su reusabilidad\n",
    "\n",
    "- Es un lenguaje de *tipeado dinámico*, no tenemos que declarar el tipo de variable antes de usarla.\n",
    "\n",
    "Python es un lenguaje altamente modular con una biblioteca standard que provee de funciones y tipos para un amplio rango de aplicaciones, y que se distribuye junto con el lenguaje. Además hay un conjunto muy importante de utilidades que pueden instalarse e incorporarse muy fácilmente. El núcleo del lenguaje es pequeño, existiendo sólo unas pocas palabras reservadas:\n",
    "\n",
    "\n",
    "\n",
    "| False    | class      | finally   | is         | return   |\n",
    "|----------|------------|-----------|------------|----------|\n",
    "| None     | continue   | for       | lambda     | try      |\n",
    "| True     | def        | from      | nonlocal   | while    |\n",
    "| and      | del        | global    | not        | with     |\n",
    "| as       | elif       | if        | or         | yield    |\n",
    "| assert   | else       | import    | pass       |          |\n",
    "| break    | except     | in        | raise      |          |\n",
    "\n",
    "\n",
    "\n",
    "### Tipos de variables\n",
    "\n",
    "Python es un lenguaje de muy alto nivel y por lo tanto trae muchos *tipos* de datos ya definidos:\n",
    "\n",
    "  - Números: enteros, reales, complejos\n",
    "  - Tipos lógicos (booleanos)\n",
    "  - Cadenas de caracteres (strings) y bytes\n",
    "  - Listas: una lista es una colección de cosas, ordenadas, que pueden ser todas distintas entre sí\n",
    "  - Diccionarios: También son colecciones de cosas, pero no están ordenadas y son identificadas con una etiqueta\n",
    "  - Conjuntos, tuples, ...\n",
    "\n",
    "#### Tipos simples: Números\n",
    "\n",
    "Hay varios tipos de números en Python. Aquí definimos y asignamos valor a distintas variables:"
   ]
  },
  {
   "cell_type": "code",
   "execution_count": 116,
   "metadata": {
    "autoscroll": false,
    "ein.hycell": false,
    "ein.tags": "worksheet-0",
    "slideshow": {
     "slide_type": "-"
    }
   },
   "outputs": [
    {
     "name": "stdout",
     "output_type": "stream",
     "text": [
      "13 <class 'int'>\n",
      "1.23 <class 'float'>\n",
      "14.23 <class 'float'>\n"
     ]
    }
   ],
   "source": [
    "a = 13\n",
    "b = 1.23\n",
    "c = a + b\n",
    "print(a, type(a))\n",
    "print(b, type(b))\n",
    "print(c, type(c))"
   ]
  },
  {
   "cell_type": "markdown",
   "metadata": {
    "ein.tags": "worksheet-0",
    "slideshow": {
     "slide_type": "-"
    }
   },
   "source": [
    "Esta es una de las características de Python. Se define el tipo de variable en forma dinámica, al asignarle un valor. \n",
    "\n",
    "De la misma manera se cambia el tipo de una variable en forma dinámica, para poder operar. Por ejemplo en el último caso, la variable `a` es de tipo `int`, pero para poder sumarla con la variable `b` debe convertirse su valor a otra de tipo `float`."
   ]
  },
  {
   "cell_type": "code",
   "execution_count": 117,
   "metadata": {
    "autoscroll": false,
    "ein.hycell": false,
    "ein.tags": "worksheet-0",
    "slideshow": {
     "slide_type": "-"
    }
   },
   "outputs": [
    {
     "name": "stdout",
     "output_type": "stream",
     "text": [
      "13 <class 'int'>\n",
      "19.5 <class 'float'>\n"
     ]
    }
   ],
   "source": [
    "print (a, type(a))\n",
    "a = 1.5 * a\n",
    "print (a, type(a))"
   ]
  },
  {
   "cell_type": "markdown",
   "metadata": {
    "ein.tags": "worksheet-0",
    "slideshow": {
     "slide_type": "-"
    }
   },
   "source": [
    "Ahora, la variable `a` es del tipo `float`. \n",
    "\n",
    "En Python 3 la división entre números enteros da como resultado un número flotante "
   ]
  },
  {
   "cell_type": "code",
   "execution_count": 118,
   "metadata": {
    "autoscroll": false,
    "ein.hycell": false,
    "ein.tags": "worksheet-0",
    "slideshow": {
     "slide_type": "-"
    }
   },
   "outputs": [
    {
     "name": "stdout",
     "output_type": "stream",
     "text": [
      "4.0\n",
      "<class 'float'>\n",
      "6.666666666666667\n"
     ]
    }
   ],
   "source": [
    "print(20/5)\n",
    "print(type(20/5))\n",
    "print(20/3)"
   ]
  },
  {
   "cell_type": "markdown",
   "metadata": {
    "ein.tags": "worksheet-0",
    "slideshow": {
     "slide_type": "-"
    }
   },
   "source": [
    "\n",
    "**Warning:** En *Python 2.x* la división entre números enteros es entera\n",
    "\n",
    "Por ejemplo, en cualquier versión de Python 2 tendremos: 1/2 = 3/4 = 0.\n",
    "Esto es diferente en *Python 3* donde 1/2=0.5 y 3/4=0.75."
   ]
  },
  {
   "cell_type": "code",
   "execution_count": 119,
   "metadata": {
    "autoscroll": false,
    "ein.hycell": false,
    "ein.tags": "worksheet-0",
    "slideshow": {
     "slide_type": "-"
    }
   },
   "outputs": [
    {
     "name": "stdout",
     "output_type": "stream",
     "text": [
      "0.5\n",
      "6.666666666666667\n"
     ]
    }
   ],
   "source": [
    "print( 1/2)\n",
    "print( 20/3)"
   ]
  },
  {
   "cell_type": "code",
   "execution_count": 120,
   "metadata": {
    "autoscroll": false,
    "ein.hycell": false,
    "ein.tags": "worksheet-0",
    "slideshow": {
     "slide_type": "-"
    }
   },
   "outputs": [
    {
     "name": "stdout",
     "output_type": "stream",
     "text": [
      "0\n",
      "6\n"
     ]
    }
   ],
   "source": [
    "%%python2\n",
    "print 1/2\n",
    "print 20/3"
   ]
  },
  {
   "cell_type": "markdown",
   "metadata": {
    "ein.tags": "worksheet-0",
    "slideshow": {
     "slide_type": "-"
    }
   },
   "source": [
    "#### Nota: La función `print`\n",
    "\n",
    "Estuvimos usando, sin hacer ningún comentario, la función `print(arg1, arg2, arg3, ..., sep=' ', end='\\n', file=sys.stdout, flush=False)` acepta un número variable de argumentos. Imprime por pantalla todos los argumentos que se le pasan separados por el string `sep` (cuyo valor por defecto es un espacio), y termina con el string `end` (con valor por defecto *newline*)."
   ]
  },
  {
   "cell_type": "code",
   "execution_count": 121,
   "metadata": {
    "autoscroll": false,
    "ein.hycell": false,
    "ein.tags": "worksheet-0",
    "slideshow": {
     "slide_type": "-"
    }
   },
   "outputs": [],
   "source": [
    "print?"
   ]
  },
  {
   "cell_type": "code",
   "execution_count": 122,
   "metadata": {
    "autoscroll": false,
    "ein.hycell": false,
    "ein.tags": "worksheet-0",
    "slideshow": {
     "slide_type": "-"
    }
   },
   "outputs": [
    {
     "name": "stdout",
     "output_type": "stream",
     "text": [
      "3 2 hola\n",
      "4 1 chau\n"
     ]
    }
   ],
   "source": [
    "print(3,2,'hola')\n",
    "print(4,1,'chau')"
   ]
  },
  {
   "cell_type": "code",
   "execution_count": 123,
   "metadata": {
    "autoscroll": false,
    "ein.hycell": false,
    "ein.tags": "worksheet-0",
    "slideshow": {
     "slide_type": "-"
    }
   },
   "outputs": [
    {
     "name": "stdout",
     "output_type": "stream",
     "text": [
      "3++++2++++hola -> 4++++1++++chau\n"
     ]
    }
   ],
   "source": [
    "print(3,2,'hola',sep='++++',end=' -> ')\n",
    "print(4,1,'chau',sep='++++')"
   ]
  },
  {
   "cell_type": "markdown",
   "metadata": {
    "ein.tags": "worksheet-0",
    "slideshow": {
     "slide_type": "-"
    }
   },
   "source": [
    "**Warning:** En *Python 2.x* no existe la función ``print()``.\n",
    "\n",
    "Se trata de un comando. Para escribir las sentencias anteriores\n",
    "en Python 2 sólo debemos omitir los paréntesis.\n"
   ]
  },
  {
   "cell_type": "markdown",
   "metadata": {
    "ein.tags": "worksheet-0",
    "slideshow": {
     "slide_type": "-"
    }
   },
   "source": [
    "#### Números complejos\n",
    "\n",
    "Los números complejos son parte standard del lenguaje, y las operaciones básicas que están incorporadas en forma nativa pueden utilizarse normalmente"
   ]
  },
  {
   "cell_type": "code",
   "execution_count": 124,
   "metadata": {
    "autoscroll": false,
    "ein.hycell": false,
    "ein.tags": "worksheet-0",
    "slideshow": {
     "slide_type": "-"
    }
   },
   "outputs": [
    {
     "name": "stdout",
     "output_type": "stream",
     "text": [
      "z1 = (3+1j) , z2 = (2+2.124j)\n"
     ]
    }
   ],
   "source": [
    "z1 = 3 + 1j\n",
    "z2 = 2 + 2.124j\n",
    "print ('z1 =', z1, ', z2 =', z2)"
   ]
  },
  {
   "cell_type": "code",
   "execution_count": 125,
   "metadata": {
    "autoscroll": false,
    "ein.hycell": false,
    "ein.tags": "worksheet-0",
    "slideshow": {
     "slide_type": "-"
    }
   },
   "outputs": [
    {
     "name": "stdout",
     "output_type": "stream",
     "text": [
      "1.5j * z2 + z1 =  (-0.18599999999999994+4j)\n",
      "z2² =  (-0.5113760000000003+8.496j)\n",
      "conj(z1) =  (3-1j)\n"
     ]
    }
   ],
   "source": [
    "print('1.5j * z2 + z1 = ', 1.5j * z2 + z1)  # sumas, multiplicaciones de números complejos\n",
    "print('z2² = ', z2**2)  # potencia de números complejos\n",
    "print('conj(z1) = ', z1.conjugate())"
   ]
  },
  {
   "cell_type": "code",
   "execution_count": 126,
   "metadata": {
    "autoscroll": false,
    "ein.hycell": false,
    "ein.tags": "worksheet-0",
    "slideshow": {
     "slide_type": "-"
    }
   },
   "outputs": [
    {
     "name": "stdout",
     "output_type": "stream",
     "text": [
      "Im(z1) =  1.0\n",
      "Re(z1) =  3.0\n",
      "abs(z1) =  3.1622776601683795\n"
     ]
    }
   ],
   "source": [
    "print ('Im(z1) = ', z1.imag)\n",
    "print ('Re(z1) = ', z1.real)\n",
    "print ('abs(z1) = ', abs(z1))"
   ]
  },
  {
   "cell_type": "markdown",
   "metadata": {
    "ein.tags": "worksheet-0",
    "slideshow": {
     "slide_type": "-"
    }
   },
   "source": [
    "#### Operaciones\n",
    "Las operaciones aritméticas básicas son:\n",
    "\n",
    "* adición: `+`\n",
    "* sustracción: `-`\n",
    "* multiplicación: `*`\n",
    "* división: `/`\n",
    "* potencia: `**`\n",
    "* módulo: `%`\n",
    "* división entera: `//`\n",
    "\n",
    "Las operaciones se pueden agrupar con parentesis y tienen precedencia estándar.\n",
    "\n",
    "División entera (//) significa quedarse con la parte entera de la división (sin redondear).\n",
    "\n",
    "\n",
    "**Nota:**  Las funciones matemáticas están incluidas en el lenguaje.\n",
    "\n",
    "En particular las funciones elementales: trigonométricas, hiperbólicas, logaritmos no están incluidas. En todos los casos es fácil utilizarlas porque las proveen módulos. Lo veremos pronto. \n"
   ]
  },
  {
   "cell_type": "code",
   "execution_count": 127,
   "metadata": {
    "autoscroll": false,
    "ein.hycell": false,
    "ein.tags": "worksheet-0",
    "slideshow": {
     "slide_type": "-"
    }
   },
   "outputs": [
    {
     "name": "stdout",
     "output_type": "stream",
     "text": [
      "división de 20/3:          6.666666666666667\n",
      "parte entera de 20/3:      6\n",
      "fracción restante de 20/3: 0.666666666666667\n",
      "Resto de 20/3:             2\n"
     ]
    }
   ],
   "source": [
    "print('división de 20/3:         ', 20/3)\n",
    "print('parte entera de 20/3:     ', 20//3)\n",
    "print('fracción restante de 20/3:', 20/3 - 20//3)\n",
    "print('Resto de 20/3:            ', 20%3)"
   ]
  },
  {
   "cell_type": "markdown",
   "metadata": {
    "ein.tags": "worksheet-0",
    "slideshow": {
     "slide_type": "-"
    }
   },
   "source": [
    "#### Tipos simples: Booleanos\n",
    "\n",
    "Los tipos lógicos o *booleanos*, pueden tomar los valores *Verdadero* o *Falso* (`True` o `False`)"
   ]
  },
  {
   "cell_type": "code",
   "execution_count": 128,
   "metadata": {
    "autoscroll": false,
    "ein.hycell": false,
    "ein.tags": "worksheet-0",
    "slideshow": {
     "slide_type": "-"
    }
   },
   "outputs": [
    {
     "name": "stdout",
     "output_type": "stream",
     "text": [
      "¿t is True? False\n",
      "¿t is False? True\n"
     ]
    }
   ],
   "source": [
    "t = False\n",
    "print('¿t is True?', t == True)\n",
    "print('¿t is False?', t == False)"
   ]
  },
  {
   "cell_type": "code",
   "execution_count": 129,
   "metadata": {
    "autoscroll": false,
    "ein.hycell": false,
    "ein.tags": "worksheet-0",
    "slideshow": {
     "slide_type": "-"
    }
   },
   "outputs": [
    {
     "name": "stdout",
     "output_type": "stream",
     "text": [
      "¿t is True? False\n",
      "<class 'bool'>\n"
     ]
    }
   ],
   "source": [
    "c = (t == True)\n",
    "print('¿t is True?', c)\n",
    "print (type(c))"
   ]
  },
  {
   "cell_type": "markdown",
   "metadata": {
    "ein.tags": "worksheet-0",
    "slideshow": {
     "slide_type": "-"
    }
   },
   "source": [
    "Hay un tipo *especial*, el elemento ``None``."
   ]
  },
  {
   "cell_type": "code",
   "execution_count": 130,
   "metadata": {
    "autoscroll": false,
    "ein.hycell": false,
    "ein.tags": "worksheet-0",
    "slideshow": {
     "slide_type": "-"
    }
   },
   "outputs": [
    {
     "name": "stdout",
     "output_type": "stream",
     "text": [
      "True == None:  False\n",
      "False == None:  False\n",
      "type(a):  <class 'NoneType'>\n",
      "False\n"
     ]
    }
   ],
   "source": [
    "print ('True == None: ',True == None)\n",
    "print ('False == None: ', False == None)\n",
    "a = None\n",
    "print ('type(a): ',type(a))\n",
    "print (bool(None))"
   ]
  },
  {
   "cell_type": "markdown",
   "metadata": {
    "ein.tags": "worksheet-0",
    "slideshow": {
     "slide_type": "-"
    }
   },
   "source": [
    "Aquí hemos estado preguntando si dos cosas eran iguales o no (igualdad). También podemos preguntar si una **es** la otra (identidad):"
   ]
  },
  {
   "cell_type": "code",
   "execution_count": null,
   "metadata": {},
   "outputs": [],
   "source": [
    "d = 1\n"
   ]
  },
  {
   "cell_type": "code",
   "execution_count": 131,
   "metadata": {
    "autoscroll": false,
    "ein.hycell": false,
    "ein.tags": "worksheet-0",
    "slideshow": {
     "slide_type": "-"
    }
   },
   "outputs": [
    {
     "name": "stdout",
     "output_type": "stream",
     "text": [
      "b is True:  True\n",
      "a is None:  True\n",
      "c is a:  True\n"
     ]
    }
   ],
   "source": [
    "a = None\n",
    "b= True\n",
    "c = a\n",
    "print ('b is True: ', b is True)\n",
    "print ('a is None: ', a is None)\n",
    "print ('c is a: ', c is a)"
   ]
  },
  {
   "cell_type": "markdown",
   "metadata": {
    "ein.tags": "worksheet-0",
    "slideshow": {
     "slide_type": "-"
    }
   },
   "source": [
    "#### Operadores lógicos\n",
    "\n",
    "Los operadores lógicos en Python son muy explicitos:\n",
    "\n",
    "    A == B  (A igual que B)\n",
    "    A > B   (A mayor que B)\n",
    "    A < B   (A menor que B)\n",
    "    A >= B  (A igual o mayor que B)\n",
    "    A <= B  (A igual o menor que B)\n",
    "    A != B  (A diferente que B)\n",
    "    A in B  (A incluido en B)\n",
    "    A is B  (Identidad: A es el mismo elemento que B)\n",
    "\n",
    "y a todos los podemos combinar con `not`, que niega la condición"
   ]
  },
  {
   "cell_type": "code",
   "execution_count": 132,
   "metadata": {
    "autoscroll": false,
    "ein.hycell": false,
    "ein.tags": "worksheet-0",
    "slideshow": {
     "slide_type": "-"
    }
   },
   "outputs": [
    {
     "name": "stdout",
     "output_type": "stream",
     "text": [
      "¿20/3 == 6? False\n",
      "¿20//3 == 6? True\n",
      "¿20//3 >= 6? True\n",
      "¿20//3 > 6? False\n"
     ]
    }
   ],
   "source": [
    "print ('¿20/3 == 6?',20/3 == 6)\n",
    "print ('¿20//3 == 6?', 20//3 == 6)\n",
    "print ('¿20//3 >= 6?', 20//3 >= 6)\n",
    "print ('¿20//3 > 6?', 20//3 > 6)"
   ]
  },
  {
   "cell_type": "code",
   "execution_count": 133,
   "metadata": {
    "autoscroll": false,
    "ein.hycell": false,
    "ein.tags": "worksheet-0",
    "slideshow": {
     "slide_type": "-"
    }
   },
   "outputs": [
    {
     "name": "stdout",
     "output_type": "stream",
     "text": [
      "a == b: True\n",
      "a is b: False\n",
      "a is not b: True\n"
     ]
    }
   ],
   "source": [
    "a = 1001\n",
    "b = 1001\n",
    "print ('a == b:', a == b)\n",
    "print ('a is b:',a is b)\n",
    "print ('a is not b:',a is not b)"
   ]
  },
  {
   "cell_type": "markdown",
   "metadata": {
    "ein.tags": "worksheet-0",
    "slideshow": {
     "slide_type": "-"
    }
   },
   "source": [
    "Note que en las últimas dos líneas estamos fijándonos si las dos variables son la misma (identidad), y no ocurre aunque vemos que sus valores son iguales."
   ]
  },
  {
   "cell_type": "markdown",
   "metadata": {
    "ein.tags": "worksheet-0",
    "slideshow": {
     "slide_type": "-"
    }
   },
   "source": [
    "**Warning:** En algunos casos  **Python** puede reusar un lugar de memoria.\n",
    "\n",
    "Por razones de optimización, en algunos casos **Python** puede utilizar el mismo lugar de memoria para dos variables que tienen el mismo valor, cuando este es pequeño.\n",
    "\n",
    "Por ejemplo, la implementación que estamos usando,  utiliza el mismo lugar de memoria para dos números enteros iguales si son menores o iguales a 256. De todas maneras, es claro que deberíamos utilizar el símbolo `==` para probar igualdad y la palabra `is` para probar identidad."
   ]
  },
  {
   "cell_type": "code",
   "execution_count": 139,
   "metadata": {
    "autoscroll": false,
    "ein.hycell": false,
    "ein.tags": "worksheet-0",
    "slideshow": {
     "slide_type": "-"
    }
   },
   "outputs": [
    {
     "name": "stdout",
     "output_type": "stream",
     "text": [
      "11 : a is b: True\n"
     ]
    }
   ],
   "source": [
    "a = 11\n",
    "b = 11\n",
    "print (a, ': a is b:', a is b)"
   ]
  },
  {
   "cell_type": "code",
   "execution_count": 140,
   "metadata": {
    "autoscroll": false,
    "ein.hycell": false,
    "ein.tags": "worksheet-0",
    "slideshow": {
     "slide_type": "-"
    }
   },
   "outputs": [
    {
     "name": "stdout",
     "output_type": "stream",
     "text": [
      "11 22 False\n"
     ]
    }
   ],
   "source": [
    "b=2*b\n",
    "print(a,b,a is b)"
   ]
  },
  {
   "cell_type": "markdown",
   "metadata": {
    "ein.tags": "worksheet-0",
    "slideshow": {
     "slide_type": "-"
    }
   },
   "source": [
    "Acá utilizó otro lugar de memoria para guardar el nuevo valor de `b` (22). \n",
    "\n",
    "Esto sigue valiendo para otros números:"
   ]
  },
  {
   "cell_type": "code",
   "execution_count": 135,
   "metadata": {
    "autoscroll": false,
    "ein.hycell": false,
    "ein.tags": "worksheet-0",
    "slideshow": {
     "slide_type": "-"
    }
   },
   "outputs": [
    {
     "name": "stdout",
     "output_type": "stream",
     "text": [
      "256 : a is b: True\n"
     ]
    }
   ],
   "source": [
    "a = 256\n",
    "b = 256\n",
    "print (a, ': a is b:', a is b)"
   ]
  },
  {
   "cell_type": "code",
   "execution_count": 136,
   "metadata": {
    "autoscroll": false,
    "ein.hycell": false,
    "ein.tags": "worksheet-0",
    "slideshow": {
     "slide_type": "-"
    }
   },
   "outputs": [
    {
     "name": "stdout",
     "output_type": "stream",
     "text": [
      "257 : a is b: False\n"
     ]
    }
   ],
   "source": [
    "a = 257\n",
    "b = 257\n",
    "print (a, ': a is b:', a is b)"
   ]
  },
  {
   "cell_type": "markdown",
   "metadata": {
    "ein.tags": "worksheet-0",
    "slideshow": {
     "slide_type": "-"
    }
   },
   "source": [
    "En este caso, para valores mayores que 256, ya no usa el mismo lugar de memoria. Tampoco lo hace para números de punto flotante."
   ]
  },
  {
   "cell_type": "code",
   "execution_count": 137,
   "metadata": {
    "autoscroll": false,
    "ein.hycell": false,
    "ein.tags": "worksheet-0",
    "slideshow": {
     "slide_type": "-"
    }
   },
   "outputs": [
    {
     "name": "stdout",
     "output_type": "stream",
     "text": [
      "-256 : a is b: False\n",
      "<class 'int'>\n"
     ]
    }
   ],
   "source": [
    "a = -256\n",
    "b = -256\n",
    "print (a, ': a is b:', a is b)\n",
    "print(type(a))"
   ]
  },
  {
   "cell_type": "code",
   "execution_count": 138,
   "metadata": {
    "autoscroll": false,
    "ein.hycell": false,
    "ein.tags": "worksheet-0",
    "slideshow": {
     "slide_type": "-"
    }
   },
   "outputs": [
    {
     "name": "stdout",
     "output_type": "stream",
     "text": [
      "1.5 : a is b: False\n",
      "<class 'float'>\n"
     ]
    }
   ],
   "source": [
    "a = 1.5\n",
    "b = 1.5\n",
    "print (a, ': a is b:', a is b)\n",
    "print(type(a))"
   ]
  },
  {
   "cell_type": "markdown",
   "metadata": {
    "ein.tags": "worksheet-0",
    "slideshow": {
     "slide_type": "-"
    }
   },
   "source": [
    "#### Strings: Secuencias de caracteres\n",
    "\n",
    "Una cadena o *string* es una **secuencia** de caracteres (letras, \"números\", símbolos). \n",
    "\n",
    "Se pueden definir con comillas, comillas simples, o tres comillas (simples o dobles). \n",
    "Comillas simples o dobles producen el mismo resultado. Sólo debe asegurarse que se  utilizan el mismo tipo para abrir y para cerrar el *string*\n",
    "\n",
    "Triple comillas (simples o dobles) sirven para incluir una cadena de caracteres en forma textual, incluyendo saltos de líneas.\n",
    "\n",
    "\n",
    "#### Operaciones\n",
    "\n",
    "En **Python** ya hay definidas algunas operaciones como suma (composición o concatenación), producto por enteros (repetición)."
   ]
  },
  {
   "cell_type": "code",
   "execution_count": 141,
   "metadata": {
    "autoscroll": false,
    "ein.hycell": false,
    "ein.tags": "worksheet-0",
    "slideshow": {
     "slide_type": "-"
    }
   },
   "outputs": [],
   "source": [
    "saludo = 'Hola Mundo'\n",
    "otro= \"that's all\"\n",
    "dijo = 'Él dijo: \"hola\" y yo no dije nada'\n",
    "Texto_largo = '''Aquí me pongo a cantar\n",
    "Al compás de la vigüela,\n",
    "Que el hombre que lo desvela\n",
    "Una pena estraordinaria\n",
    "Como la ave solitaria\n",
    "Con el cantar se consuela.'''\n",
    "otro = 'þß€→\"\\'oó@¬'"
   ]
  },
  {
   "cell_type": "markdown",
   "metadata": {
    "ein.tags": "worksheet-0",
    "slideshow": {
     "slide_type": "-"
    }
   },
   "source": [
    "Podemos imprimir los strings"
   ]
  },
  {
   "cell_type": "code",
   "execution_count": 143,
   "metadata": {
    "autoscroll": false,
    "ein.hycell": false,
    "ein.tags": "worksheet-0",
    "slideshow": {
     "slide_type": "-"
    }
   },
   "outputs": [
    {
     "name": "stdout",
     "output_type": "stream",
     "text": [
      "Hola Mundo \n",
      "\n",
      "Aquí me pongo a cantar\n",
      "Al compás de la vigüela,\n",
      "Que el hombre que lo desvela\n",
      "Una pena estraordinaria\n",
      "Como la ave solitaria\n",
      "Con el cantar se consuela. \n",
      "\n",
      "þß€→\"'oó@¬\n"
     ]
    }
   ],
   "source": [
    "print (saludo,'\\n')\n",
    "print (Texto_largo,'\\n')\n",
    "print(otro)"
   ]
  },
  {
   "cell_type": "markdown",
   "metadata": {
    "ein.tags": "worksheet-0",
    "slideshow": {
     "slide_type": "-"
    }
   },
   "source": [
    "Podemos imprimir varios strings simplemente usándolos como argumentos a la función print, o sumándolos"
   ]
  },
  {
   "cell_type": "code",
   "execution_count": 144,
   "metadata": {
    "autoscroll": false,
    "ein.hycell": false,
    "ein.tags": "worksheet-0",
    "slideshow": {
     "slide_type": "-"
    }
   },
   "outputs": [
    {
     "name": "stdout",
     "output_type": "stream",
     "text": [
      "Hola Mundo + þß€→\"'oó@¬\n",
      "Hola Mundo þß€→\"'oó@¬\n",
      "Hola Mundo þß€→\"'oó@¬\n",
      "\n"
     ]
    }
   ],
   "source": [
    "print (saludo,\"+\", otro)\n",
    "print (saludo, otro)\n",
    "print (saludo + ' ' + otro + '\\n')"
   ]
  },
  {
   "cell_type": "code",
   "execution_count": 145,
   "metadata": {
    "autoscroll": false,
    "ein.hycell": false,
    "ein.tags": "worksheet-0",
    "slideshow": {
     "slide_type": "-"
    }
   },
   "outputs": [
    {
     "name": "stdout",
     "output_type": "stream",
     "text": [
      "1 <class 'str'>\n",
      "1 <class 'int'>\n"
     ]
    }
   ],
   "source": [
    "a = '1'\n",
    "b = 1\n",
    "print(a, type(a))\n",
    "print(b, type(b))"
   ]
  },
  {
   "cell_type": "code",
   "execution_count": 146,
   "metadata": {
    "autoscroll": false,
    "ein.hycell": false,
    "ein.tags": "worksheet-0",
    "slideshow": {
     "slide_type": "-"
    }
   },
   "outputs": [
    {
     "name": "stdout",
     "output_type": "stream",
     "text": [
      "11\n",
      "2\n"
     ]
    }
   ],
   "source": [
    "print (2*a)\n",
    "print (2*b)"
   ]
  },
  {
   "cell_type": "markdown",
   "metadata": {
    "ein.tags": "worksheet-0",
    "slideshow": {
     "slide_type": "-"
    }
   },
   "source": [
    "También podemos calcular su longitud, con la función `len`"
   ]
  },
  {
   "cell_type": "code",
   "execution_count": 147,
   "metadata": {
    "autoscroll": false,
    "ein.hycell": false,
    "ein.tags": "worksheet-0",
    "slideshow": {
     "slide_type": "-"
    }
   },
   "outputs": [
    {
     "name": "stdout",
     "output_type": "stream",
     "text": [
      "longitud del saludo = 10 caracteres\n"
     ]
    }
   ],
   "source": [
    "print ('longitud del saludo =', len(saludo), 'caracteres')"
   ]
  },
  {
   "cell_type": "markdown",
   "metadata": {
    "ein.tags": "worksheet-0",
    "slideshow": {
     "slide_type": "-"
    }
   },
   "source": [
    "Utilizando esta idea podemos hacer un centrado \"manual\""
   ]
  },
  {
   "cell_type": "code",
   "execution_count": 148,
   "metadata": {
    "autoscroll": false,
    "ein.hycell": false,
    "ein.tags": "worksheet-0",
    "slideshow": {
     "slide_type": "-"
    }
   },
   "outputs": [
    {
     "name": "stdout",
     "output_type": "stream",
     "text": [
      "<<<<<<<<<<<<<<<<<<<<< Poor man centering >>>>>>>>>>>>>>>>>>>>>\n",
      "************************* Hola Mundo *************************\n"
     ]
    }
   ],
   "source": [
    "n = int((30-len(saludo)//2)) \n",
    "print ((n-4)*'<', \"Poor man centering\",(n-4)*'>')\n",
    "print (n*'*', saludo, n*'*')"
   ]
  },
  {
   "cell_type": "markdown",
   "metadata": {
    "ein.tags": "worksheet-0",
    "slideshow": {
     "slide_type": "-"
    }
   },
   "source": [
    "#### Métodos de Strings\n",
    "\n",
    "Los *strings* poseen varias cualidades y funcionalidades.\n",
    "Por ejemplo:\n",
    "\n",
    "- Se puede iterar sobre ellos, o quedarse con una parte (slicing)\n",
    "- Tienen métodos (funciones que se aplican a su *dueño*)\n",
    "  \n",
    "Veamos en primer lugar cómo se hace para seleccionar parte de un *string*"
   ]
  },
  {
   "cell_type": "code",
   "execution_count": 149,
   "metadata": {
    "autoscroll": false,
    "ein.hycell": false,
    "ein.tags": "worksheet-0",
    "slideshow": {
     "slide_type": "-"
    }
   },
   "outputs": [
    {
     "name": "stdout",
     "output_type": "stream",
     "text": [
      "Primer caracter  : 0\n",
      "Segundo caracter : 1\n",
      "Los tres primeros: 012\n",
      "Todos a partir del tercero: 3456789\n",
      "Los últimos dos  : 89\n",
      "Todos menos los últimos dos: 01234567\n"
     ]
    }
   ],
   "source": [
    "s = \"0123456789\"\n",
    "print ('Primer caracter  :', s[0])\n",
    "print (\"Segundo caracter :\", s[1])\n",
    "print ('Los tres primeros:', s[0:3])\n",
    "print ('Todos a partir del tercero:', s[3:])\n",
    "print ('Los últimos dos  :', s[-2:])\n",
    "print ('Todos menos los últimos dos:', s[:-2])"
   ]
  },
  {
   "cell_type": "code",
   "execution_count": 150,
   "metadata": {
    "autoscroll": false,
    "ein.hycell": false,
    "ein.tags": "worksheet-0",
    "slideshow": {
     "slide_type": "-"
    }
   },
   "outputs": [
    {
     "name": "stdout",
     "output_type": "stream",
     "text": [
      "0123456789\n",
      "0123489\n",
      "024\n",
      "02468\n",
      "9876543210\n",
      "9630\n"
     ]
    }
   ],
   "source": [
    "print(s)\n",
    "print (s[:5] + s[-2:])\n",
    "print(s[0:5:2])\n",
    "print (s[::2])\n",
    "print (s[::-1])\n",
    "print (s[::-3])"
   ]
  },
  {
   "cell_type": "code",
   "execution_count": null,
   "metadata": {
    "autoscroll": false,
    "ein.hycell": false,
    "ein.tags": "worksheet-0",
    "slideshow": {
     "slide_type": "-"
    }
   },
   "outputs": [],
   "source": [
    "Veamos cómo se puede operar sobre un string:"
   ]
  },
  {
   "cell_type": "code",
   "execution_count": 151,
   "metadata": {
    "autoscroll": false,
    "ein.hycell": false,
    "ein.tags": "worksheet-0",
    "slideshow": {
     "slide_type": "-"
    }
   },
   "outputs": [
    {
     "name": "stdout",
     "output_type": "stream",
     "text": [
      "La mar estaba serena!\n"
     ]
    }
   ],
   "source": [
    "a = \"La mar estaba serena!\"\n",
    "print(a)"
   ]
  },
  {
   "cell_type": "markdown",
   "metadata": {
    "ein.tags": "worksheet-0",
    "slideshow": {
     "slide_type": "-"
    }
   },
   "source": [
    "Por ejemplo, en python es muy fácil reemplazar una cadena por otra:"
   ]
  },
  {
   "cell_type": "code",
   "execution_count": 152,
   "metadata": {
    "autoscroll": false,
    "ein.hycell": false,
    "ein.tags": "worksheet-0",
    "slideshow": {
     "slide_type": "-"
    }
   },
   "outputs": [
    {
     "name": "stdout",
     "output_type": "stream",
     "text": [
      "La mar astaba sarana!\n"
     ]
    }
   ],
   "source": [
    "b = a.replace('e','a')\n",
    "print(b)"
   ]
  },
  {
   "cell_type": "markdown",
   "metadata": {
    "ein.tags": "worksheet-0",
    "slideshow": {
     "slide_type": "-"
    }
   },
   "source": [
    "o separar las palabras:"
   ]
  },
  {
   "cell_type": "code",
   "execution_count": 153,
   "metadata": {
    "autoscroll": false,
    "ein.hycell": false,
    "ein.tags": "worksheet-0",
    "slideshow": {
     "slide_type": "-"
    }
   },
   "outputs": [
    {
     "name": "stdout",
     "output_type": "stream",
     "text": [
      "['La', 'mar', 'astaba', 'sarana!']\n"
     ]
    }
   ],
   "source": [
    "print(b.split())"
   ]
  },
  {
   "cell_type": "markdown",
   "metadata": {
    "ein.tags": "worksheet-0",
    "slideshow": {
     "slide_type": "-"
    }
   },
   "source": [
    "Estos son métodos que tienen definidos los *strings*.\n",
    "\n",
    "Un método es una función que está definida junto con el objeto. En este caso el string. Hay más información sobre los métodos de las cadenas de caracteres en: [String Methods](https://docs.python.org/3/library/stdtypes.html#string-methods \"String Methods en la documentación oficial de Python\")\n",
    "\n",
    " Veamos algunos ejemplos más:"
   ]
  },
  {
   "cell_type": "code",
   "execution_count": 154,
   "metadata": {
    "autoscroll": false,
    "ein.hycell": false,
    "ein.tags": "worksheet-0",
    "slideshow": {
     "slide_type": "-"
    }
   },
   "outputs": [
    {
     "name": "stdout",
     "output_type": "stream",
     "text": [
      "\n",
      " Programa 0 en cualquier lenguaje:\n",
      "\t\t\tHola Mundo! \n",
      "\n",
      "--------------------------------------------------------------------------------\n",
      "Otro texto:\n",
      "Somos los colectiveros que cumplimos nuestro deber!\n",
      "Longitud del texto:  51 caracteres\n"
     ]
    }
   ],
   "source": [
    "a = 'Hola Mundo!'\n",
    "b = \"Somos los colectiveros que cumplimos nuestro deber!\"\n",
    "c = Texto_largo\n",
    "print ('\\n', \"Programa 0 en cualquier lenguaje:\\n\\t\\t\\t\" + a,'\\n')\n",
    "print (80*'-')\n",
    "print ('Otro texto:', b, sep='\\n')\n",
    "print ('Longitud del texto: ',len(b), 'caracteres')"
   ]
  },
  {
   "cell_type": "markdown",
   "metadata": {
    "ein.tags": "worksheet-0",
    "slideshow": {
     "slide_type": "-"
    }
   },
   "source": [
    "Buscar y reemplazar cosas en un string:"
   ]
  },
  {
   "cell_type": "code",
   "execution_count": 155,
   "metadata": {
    "autoscroll": false,
    "ein.hycell": false,
    "ein.tags": "worksheet-0",
    "slideshow": {
     "slide_type": "-"
    }
   },
   "outputs": [
    {
     "data": {
      "text/plain": [
       "6"
      ]
     },
     "execution_count": 155,
     "metadata": {},
     "output_type": "execute_result"
    }
   ],
   "source": [
    "b.find('l')"
   ]
  },
  {
   "cell_type": "code",
   "execution_count": 156,
   "metadata": {
    "autoscroll": false,
    "ein.hycell": false,
    "ein.tags": "worksheet-0",
    "slideshow": {
     "slide_type": "-"
    }
   },
   "outputs": [
    {
     "data": {
      "text/plain": [
       "12"
      ]
     },
     "execution_count": 156,
     "metadata": {},
     "output_type": "execute_result"
    }
   ],
   "source": [
    "b.find('l',7)"
   ]
  },
  {
   "cell_type": "code",
   "execution_count": 157,
   "metadata": {
    "autoscroll": false,
    "ein.hycell": false,
    "ein.tags": "worksheet-0",
    "slideshow": {
     "slide_type": "-"
    }
   },
   "outputs": [
    {
     "data": {
      "text/plain": [
       "12"
      ]
     },
     "execution_count": 157,
     "metadata": {},
     "output_type": "execute_result"
    }
   ],
   "source": [
    "b.find('le')"
   ]
  },
  {
   "cell_type": "code",
   "execution_count": 158,
   "metadata": {},
   "outputs": [],
   "source": [
    "b.find?"
   ]
  },
  {
   "cell_type": "code",
   "execution_count": 159,
   "metadata": {
    "autoscroll": false,
    "ein.hycell": false,
    "ein.tags": "worksheet-0",
    "slideshow": {
     "slide_type": "-"
    }
   },
   "outputs": [
    {
     "name": "stdout",
     "output_type": "stream",
     "text": [
      "Somos los colectiveros y cumplimos nuestro deber!\n",
      "Somos los coluctivuros que cumplimos nuestro deber!\n"
     ]
    }
   ],
   "source": [
    "print (b.replace('que','y')) # Reemplazamos un substring\n",
    "print (b.replace('e','u',2)) # Reemplazamos un substring sólo 2 veces"
   ]
  },
  {
   "cell_type": "code",
   "execution_count": 160,
   "metadata": {
    "autoscroll": false,
    "ein.hycell": false,
    "ein.tags": "worksheet-0",
    "slideshow": {
     "slide_type": "-"
    }
   },
   "outputs": [
    {
     "name": "stdout",
     "output_type": "stream",
     "text": [
      "tipo de label:  <class 'str'>\n",
      "Resultados corresponden a: σ = λ T/ µ + π · δξ  (en m/s²)\n"
     ]
    }
   ],
   "source": [
    "# Un ejemplo que puede interesarnos un poco más:\n",
    "label = \"σ = λ T/ µ + π · δξ\"\n",
    "print('tipo de label: ', type(label))\n",
    "print ('Resultados corresponden a:', label, ' (en m/s²)')"
   ]
  },
  {
   "cell_type": "markdown",
   "metadata": {
    "ein.tags": "worksheet-0",
    "slideshow": {
     "slide_type": "-"
    }
   },
   "source": [
    "#### Formato de strings\n",
    "\n",
    "En python el formato de strings se realiza con el método `format()`. Esta función busca en el strings las llaves y las reemplaza por los argumentos. Veamos esto con algunos ejemplos:"
   ]
  },
  {
   "cell_type": "code",
   "execution_count": 162,
   "metadata": {
    "autoscroll": false,
    "ein.hycell": false,
    "ein.tags": "worksheet-0",
    "slideshow": {
     "slide_type": "-"
    }
   },
   "outputs": [
    {
     "name": "stdout",
     "output_type": "stream",
     "text": [
      "Hoy es el día 11 de Feb de 2019\n",
      "Hoy es el día 11/Feb/2019\n",
      "Hoy es el día 11/Feb/2019\n",
      "Hoy es el día 2019/Feb/11\n"
     ]
    }
   ],
   "source": [
    "a = 2019\n",
    "m = 'Feb'\n",
    "d = 11\n",
    "s = \"Hoy es el día {} de {} de {}\".format(d, m, a)\n",
    "print(s)\n",
    "print(\"Hoy es el día {}/{}/{}\".format(d,m,a))\n",
    "print(\"Hoy es el día {0}/{1}/{2}\".format(d,m,a))\n",
    "print(\"Hoy es el día {2}/{1}/{0}\".format(d,m,a))\n"
   ]
  },
  {
   "cell_type": "code",
   "execution_count": 164,
   "metadata": {
    "autoscroll": false,
    "ein.hycell": false,
    "ein.tags": "worksheet-0",
    "slideshow": {
     "slide_type": "-"
    }
   },
   "outputs": [
    {
     "name": "stdout",
     "output_type": "stream",
     "text": [
      "datos-2019-Feb-11\n"
     ]
    }
   ],
   "source": [
    "fname = \"datos-{}-{}-{}\".format(a,m,d)\n",
    "print(fname)"
   ]
  },
  {
   "cell_type": "code",
   "execution_count": 171,
   "metadata": {
    "autoscroll": false,
    "ein.hycell": false,
    "ein.tags": "worksheet-0",
    "slideshow": {
     "slide_type": "-"
    }
   },
   "outputs": [
    {
     "name": "stdout",
     "output_type": "stream",
     "text": [
      "El valor de π es 3.141592653589793\n",
      "El valor de π con cuatro decimales es 3.1416\n",
      "El valor de π con seis decimales es 3.141593\n",
      "005\n"
     ]
    }
   ],
   "source": [
    "pi = 3.141592653589793\n",
    "s1 = \"El valor de π es {}\".format(pi)\n",
    "s2 = \"El valor de π con cuatro decimales es {0:.4f}\".format(pi)\n",
    "s3 = \"El valor de π con seis decimales es {:.6f}\".format(pi)\n",
    "print(s1)\n",
    "print(s2)\n",
    "print(s3)\n",
    "print(\"{:03d}\".format(5))"
   ]
  },
  {
   "cell_type": "markdown",
   "metadata": {
    "ein.tags": "worksheet-0",
    "slideshow": {
     "slide_type": "-"
    }
   },
   "source": [
    "#### Conversión de tipos\n",
    "\n",
    "Como comentamos anteriormente, y se ve en los ejemplos anteriores, uno no define el tipo de variable *a-priori* sino que queda definido al asignársele un valor (por ejemplo a=3 define a como una variable del tipo entero).\n",
    "\n",
    "Si bien **Python** hace la conversión de tipos de variables en algunos casos, **no hace magia**, no puede adivinar nuestra intención si no la explicitamos."
   ]
  },
  {
   "cell_type": "code",
   "execution_count": 172,
   "metadata": {
    "autoscroll": false,
    "ein.hycell": false,
    "ein.tags": "worksheet-0",
    "slideshow": {
     "slide_type": "-"
    }
   },
   "outputs": [
    {
     "name": "stdout",
     "output_type": "stream",
     "text": [
      "a es de tipo <class 'int'>\n",
      "b es de tipo <class 'float'>\n",
      "c es de tipo <class 'complex'>\n",
      "'a + b' es de tipo <class 'float'> y 'a + c' es de tipo <class 'complex'>\n"
     ]
    }
   ],
   "source": [
    "a = 3                           # a es entero\n",
    "b = 3.1                         # b es real\n",
    "c = 3 + 0j                      # c es complejo\n",
    "print (\"a es de tipo {0}\\nb es de tipo {1}\\nc es de tipo {2}\".format(type(a), type(b), type(c)))\n",
    "print (\"'a + b' es de tipo {0} y 'a + c' es de tipo {1}\".format(type(a+b), type(a+c)))"
   ]
  },
  {
   "cell_type": "code",
   "execution_count": 173,
   "metadata": {
    "autoscroll": false,
    "ein.hycell": false,
    "ein.tags": "worksheet-0",
    "slideshow": {
     "slide_type": "-"
    }
   },
   "outputs": [
    {
     "ename": "TypeError",
     "evalue": "unsupported operand type(s) for +: 'int' and 'str'",
     "output_type": "error",
     "traceback": [
      "\u001b[0;31m---------------------------------------------------------------------------\u001b[0m",
      "\u001b[0;31mTypeError\u001b[0m                                 Traceback (most recent call last)",
      "\u001b[0;32m<ipython-input-173-9b48e3080d7d>\u001b[0m in \u001b[0;36m<module>\u001b[0;34m()\u001b[0m\n\u001b[0;32m----> 1\u001b[0;31m \u001b[0mprint\u001b[0m \u001b[0;34m(\u001b[0m\u001b[0;36m1\u001b[0m\u001b[0;34m+\u001b[0m\u001b[0;34m'1'\u001b[0m\u001b[0;34m)\u001b[0m\u001b[0;34m\u001b[0m\u001b[0;34m\u001b[0m\u001b[0m\n\u001b[0m",
      "\u001b[0;31mTypeError\u001b[0m: unsupported operand type(s) for +: 'int' and 'str'"
     ]
    }
   ],
   "source": [
    "print (1+'1')"
   ]
  },
  {
   "cell_type": "markdown",
   "metadata": {
    "ein.tags": "worksheet-0",
    "slideshow": {
     "slide_type": "-"
    }
   },
   "source": [
    "Sin embargo, si le decimos explícitamente qué conversión queremos, todo funciona bien"
   ]
  },
  {
   "cell_type": "code",
   "execution_count": 174,
   "metadata": {
    "autoscroll": false,
    "ein.hycell": false,
    "ein.tags": "worksheet-0",
    "slideshow": {
     "slide_type": "-"
    }
   },
   "outputs": [
    {
     "name": "stdout",
     "output_type": "stream",
     "text": [
      "11\n",
      "2\n",
      "100001.0\n"
     ]
    }
   ],
   "source": [
    "print (str(1) + '1')\n",
    "print (1 + int('1'))\n",
    "print (1 + float('1.e5'))"
   ]
  },
  {
   "cell_type": "code",
   "execution_count": 175,
   "metadata": {
    "autoscroll": false,
    "ein.hycell": false,
    "ein.tags": "worksheet-0",
    "slideshow": {
     "slide_type": "-"
    }
   },
   "outputs": [
    {
     "ename": "ValueError",
     "evalue": "invalid literal for int() with base 10: 'z'",
     "output_type": "error",
     "traceback": [
      "\u001b[0;31m---------------------------------------------------------------------------\u001b[0m",
      "\u001b[0;31mValueError\u001b[0m                                Traceback (most recent call last)",
      "\u001b[0;32m<ipython-input-175-61ad22f41838>\u001b[0m in \u001b[0;36m<module>\u001b[0;34m()\u001b[0m\n\u001b[1;32m      1\u001b[0m \u001b[0;31m# a menos que nosotros **nos equivoquemos explícitamente**\u001b[0m\u001b[0;34m\u001b[0m\u001b[0;34m\u001b[0m\u001b[0;34m\u001b[0m\u001b[0m\n\u001b[0;32m----> 2\u001b[0;31m \u001b[0mprint\u001b[0m \u001b[0;34m(\u001b[0m\u001b[0;36m1\u001b[0m \u001b[0;34m+\u001b[0m \u001b[0mint\u001b[0m\u001b[0;34m(\u001b[0m\u001b[0;34m'z'\u001b[0m\u001b[0;34m)\u001b[0m\u001b[0;34m)\u001b[0m\u001b[0;34m\u001b[0m\u001b[0;34m\u001b[0m\u001b[0m\n\u001b[0m",
      "\u001b[0;31mValueError\u001b[0m: invalid literal for int() with base 10: 'z'"
     ]
    }
   ],
   "source": [
    "# a menos que nosotros **nos equivoquemos explícitamente**\n",
    "print (1 + int('z'))"
   ]
  },
  {
   "cell_type": "code",
   "execution_count": null,
   "metadata": {},
   "outputs": [],
   "source": []
  }
 ],
 "metadata": {
  "kernelspec": {
   "display_name": "Python 3",
   "language": "python",
   "name": "python3"
  },
  "language_info": {
   "codemirror_mode": {
    "name": "ipython",
    "version": 3
   },
   "file_extension": ".py",
   "mimetype": "text/x-python",
   "name": "python",
   "nbconvert_exporter": "python",
   "pygments_lexer": "ipython3",
   "version": "3.7.2"
  },
  "name": "01_introd_python.ipynb"
 },
 "nbformat": 4,
 "nbformat_minor": 1
}
