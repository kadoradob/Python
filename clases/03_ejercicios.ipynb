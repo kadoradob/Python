{
 "cells": [
  {
   "cell_type": "markdown",
   "metadata": {
    "ein.tags": "worksheet-0",
    "slideshow": {
     "slide_type": "-"
    }
   },
   "source": [
    "## Ejercicios 03"
   ]
  },
  {
   "cell_type": "markdown",
   "metadata": {
    "ein.tags": "worksheet-0",
    "slideshow": {
     "slide_type": "-"
    }
   },
   "source": [
    "1. Calcule la suma\n",
    "$$s_{2} = \\sum_{k=1}^{\\infty} \\frac{(-1)^{k} (k+1)}{2 k^{3} + k^{2}}$$\n",
    "con un error relativo estimado menor a $\\epsilon=10^{-5}$. Imprima por pantalla el resultado, el valor máximo de $k$ computado y el error relativo estimado.\n",
    "\n",
    "2. Realice un programa que:\n",
    "  * Lea el archivo names.txt\n",
    "  * Guarde en un nuevo archivo (llamado pares.txt) palabra por medio del archivo original (la primera, tercera, ...) una por línea, pero en el orden inverso al leído\n",
    "  * Agregue al final de dicho archivo, las palabras pares pero separadas por un punto y coma (;)\n",
    "  * En un archivo llamado longitudes.txt guarde las palabras ordenadas por su longitud, y para cada longitud ordenadas alfabéticamente.\n",
    "  * En un archivo llamado letras.txt guarde sólo aquellas palabras que contienen las letras `w,x,y,z`, con el formato:\n",
    "    - w: Walter, ....\n",
    "    - x: Xilofón, ...\n",
    "    - y: ....\n",
    "    - z: ....\n",
    "  * Cree un diccionario, donde cada *key* es la primera letra y cada valor es una lista, cuyo elemento es una tuple (palabra, longitud). Por ejemplo:\n",
    "  ```python\n",
    "  d['a'] = [('Aaa',3),('Anna', 4), ...]\n",
    "  ```\n",
    "\n",
    "\n",
    "3. Cree dos listas: una con los números que no son múltiplos de ninguno de 2,7,11,13 y otra con los que no son múltiplos de 3,5,17. Considere los primeros 5000 números naturales. Cree una nueva lista donde combine las dos listas anteriores ordenada en forma creciente.\n",
    "\n",
    "4. Las funciones de Bessel de orden $n$ cumplen las relaciones de recurrencia\n",
    "  $$\n",
    "   J_{n -1}(x)- \\frac{2n }{x}\\, J_{n }(x) + J_{n +1}(x) = 0 \\\\\n",
    "   J^{2}_{0}(x) + \\sum_{n=1}^{\\infty} 2 J^{2}_{n}(x) = 1\n",
    "  $$\n",
    "\n",
    "  Para calcular la función de Bessel de orden $N$, se empieza con un valor de $M \\gg N$, y utilizando los valores iniciales $J_{M}=1$, $J_{M+1}=0$ se utiliza la primera relación para calcular todos los valores de $n < M$. Luego, utilizando la segunda relación se normalizan todos los valores.  **Nota:** Estas relaciones son válidas si $M \\gg x$ (use algún valor estimado, como por ejemplo $M=N+20$).\n",
    "\n",
    "  Utilice estas relaciones para calcular $J_{N}(x)$ para $N=3,4,7$ y $x=2.5, 5.7, 10$.\n",
    "  Para referencia se dan los valores esperados\n",
    "$$\n",
    "J_3( 2.5) =  0.21660\\\\\n",
    "J_4( 2.5) =  0.07378\\\\\n",
    "J_7( 2.5) =  0.00078\\\\\n",
    "J_3( 5.7) =  0.20228\\\\\n",
    "J_4( 5.7) =  0.38659\\\\\n",
    "J_7( 5.7) =  0.10270\\\\\n",
    "J_3(10.0) =  0.05838\\\\\n",
    "J_4(10.0) = -0.21960\\\\\n",
    "J_7(10.0) =  0.21671\\\\\n",
    "$$ \n",
    "\n",
    "6. Imprima por pantalla una tabla con valores equiespaciados de x entre 0 y 180, con valores de las funciones trigonométricas de la forma:\n",
    "```python\n",
    "\"\"\"\n",
    "  |=================================|\n",
    "  | x  | sen(x) | cos(x) | tan(-x/4)|\n",
    "  |=================================|\n",
    "  |  0 |  0.000 |  1.000 |  -0.000  |\n",
    "  | 10 |  0.174 |  0.985 |  -0.044  |\n",
    "  | 20 |  0.342 |  0.940 |  -0.087  |\n",
    "  | 30 |  0.500 |  0.866 |  -0.132  |\n",
    "  | 40 |  0.643 |  0.766 |  -0.176  |\n",
    "  | 50 |  0.766 |  0.643 |  -0.222  |\n",
    "  | 60 |  0.866 |  0.500 |  -0.268  |\n",
    "  | 70 |  0.940 |  0.342 |  -0.315  |\n",
    "  | 80 |  0.985 |  0.174 |  -0.364  |\n",
    "  | 90 |  1.000 |  0.000 |  -0.414  |\n",
    "  |100 |  0.985 | -0.174 |  -0.466  |\n",
    "  |110 |  0.940 | -0.342 |  -0.521  |\n",
    "  |120 |  0.866 | -0.500 |  -0.577  |\n",
    "  |130 |  0.766 | -0.643 |  -0.637  |\n",
    "  |140 |  0.643 | -0.766 |  -0.700  |\n",
    "  |150 |  0.500 | -0.866 |  -0.767  |\n",
    "  |160 |  0.342 | -0.940 |  -0.839  |\n",
    "  |170 |  0.174 | -0.985 |  -0.916  |\n",
    "  |=================================|\n",
    "\"\"\"```\n",
    "7. Dada una lista de números, vamos a calcular valores relacionados a su estadística.\n",
    "    - Calcular los valores de la media aritmética, la media geométrica y la media armónica, dados por:\n",
    "    $$\n",
    "    A(x_1, \\ldots, x_n) = \\bar{x} = \\frac{x_1 + \\cdots + x_n}{n} \\\\\n",
    "    G(x_1, \\ldots, x_n) = \\sqrt[n]{x_1 \\cdots x_n} \\\\\n",
    "    H(x_1, \\ldots, x_n) = \\frac{n}{\\frac{1}{x_1} + \\cdots + \\frac{1}{x_n}}\n",
    "    $$\n",
    "    - Calcular la desviación estándard:\n",
    "    $$ \\sigma\\equiv\\sqrt{\\frac{1}{n}\\sum_i \\left(x_{i} - \\bar{x} \\right)^2} $$\n",
    "\n",
    "    - Calcular la mediana, que se define como el valor para el cual la mitad de los valores de la lista es menor que ella. Si el número de elementos es par, se toma el promedio entre los dos adyacentes.\n",
    "\n",
    "Realizar los cálculos para las listas de números:\n",
    "    "
   ]
  },
  {
   "cell_type": "code",
   "execution_count": null,
   "metadata": {
    "autoscroll": false,
    "ein.hycell": false,
    "ein.tags": "worksheet-0",
    "slideshow": {
     "slide_type": "-"
    }
   },
   "outputs": [],
   "source": [
    "L1 = [6.41, 1.28, 11.54, 5.13, 8.97, 3.84, 10.26, 14.1, 12.82, 16.67, 2.56, 17.95, 7.69, 15.39]\n",
    "L2 = [4.79, 1.59, 2.13, 4.26, 3.72, 1.06, 6.92, 3.19, 5.32, 2.66, 5.85, 6.39, 0.53]"
   ]
  },
  {
   "cell_type": "markdown",
   "metadata": {
    "ein.tags": "worksheet-0",
    "slideshow": {
     "slide_type": "-"
    }
   },
   "source": [
    "* La *moda* se define como el valor que ocurre más frecuentemente en una colección. Note que la moda puede no ser única. En ese caso debe obtener todos los valores.\n",
    "Calcule la moda de las siguientes listas de números enteros:"
   ]
  },
  {
   "cell_type": "code",
   "execution_count": null,
   "metadata": {
    "autoscroll": false,
    "ein.hycell": false,
    "ein.tags": "worksheet-0",
    "slideshow": {
     "slide_type": "-"
    }
   },
   "outputs": [],
   "source": [
    "L = [8, 9, 10, 11, 10, 6, 10, 17, 8, 8, 5, 10, 14, 7, 9, 12, 8, 17, 10, 12, 9, 11, 9, 12, 11, 11, 6, 9, 12, 5, 12, 9, 10, 16, 8, 4, 5, 8, 11, 12]"
   ]
  },
  {
   "cell_type": "markdown",
   "metadata": {
    "ein.tags": "worksheet-0",
    "slideshow": {
     "slide_type": "-"
    }
   },
   "source": [
    "7. Dada una lista de direcciones en el plano, expresadas por los ángulos en grados a partir de un cierto eje, calcular la dirección promedio, expresada en ángulos. Pruebe su algoritmo con las listas:"
   ]
  },
  {
   "cell_type": "code",
   "execution_count": null,
   "metadata": {
    "autoscroll": false,
    "ein.hycell": false,
    "ein.tags": "worksheet-0",
    "slideshow": {
     "slide_type": "-"
    }
   },
   "outputs": [],
   "source": [
    "t1 = [0, 180, 370, 10]\n",
    "t2 = [30, 0, 80, 180]\n",
    "t3 = [80, 180, 540, 280]"
   ]
  }
 ],
 "metadata": {
  "kernelspec": {
   "display_name": "Python 3",
   "language": "python",
   "name": "python3"
  },
  "language_info": {
   "codemirror_mode": {
    "name": "ipython",
    "version": 3
   },
   "file_extension": ".py",
   "mimetype": "text/x-python",
   "name": "python",
   "nbconvert_exporter": "python",
   "pygments_lexer": "ipython3",
   "version": "3.7.2"
  },
  "name": "03_ejercicios.ipynb",
  "toc": {
   "base_numbering": 1,
   "nav_menu": {},
   "number_sections": true,
   "sideBar": true,
   "skip_h1_title": false,
   "title_cell": "Contenidos",
   "title_sidebar": "Contenidos",
   "toc_cell": false,
   "toc_position": {},
   "toc_section_display": true,
   "toc_window_display": false
  }
 },
 "nbformat": 4,
 "nbformat_minor": 1
}
