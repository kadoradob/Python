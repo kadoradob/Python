{
 "cells": [
  {
   "cell_type": "markdown",
   "metadata": {
    "ein.tags": "worksheet-0",
    "slideshow": {
     "slide_type": "-"
    }
   },
   "source": [
    "## Ejercicios 10\n",
    "\n",
    "\n",
    "1. **PARA ENTREGAR (01/04):** Estimar el valor de π usando diferentes métodos basados en el método de Monte Carlo:\n",
    "\n",
    "    1. Crear una función para calcular el valor de $\\pi$ usando el \"método de cociente de áreas\". Para ello:\n",
    "\n",
    "      * Generar puntos en el plano dentro del cuadrado de lado unidad cuyo lado inferior va de $x=0$ a $x=1$\n",
    "      * Contar cuantos puntos caen dentro del (cuarto de) círculo unidad. Este número tiende a ser proporcional al área del círculo\n",
    "      * La estimación de $\\pi$ será igual a cuatro veces el cociente de números dentro del círculo dividido por el número total de puntos.\n",
    "\n",
    "    2. Crear una función para calcular el valor de $\\pi$ usando el \"método del valor medio\":\n",
    "       Este método se basa en la idea de que el valor medio de una función se puede calcular de la siguiente manera:\n",
    "\n",
    "    $$ \\langle f \\rangle = \\frac{1}{b-a} \\int_{a}^{b} f(x)\\, dx $$\n",
    "\n",
    "    Tomando la función particular $f(x)= \\sqrt{1- x^{2}}$ entre $x=0$ y $x=1$, obtenemos:\n",
    "\n",
    "    $$ \\langle f \\rangle = \\int_{0}^{1} \\sqrt{1- x^{2}}\\, dx = \\frac{\\pi}{4} $$\n",
    "\n",
    "    Entonces, tenemos que estimar el valor medio de la función $f$ y, mediante la relación anterior obtener $\\pi = 4 \\langle f(x) \\rangle$. Para obtener el valor medio de la función notamos que si tomamos $X$ es una variable aleatoria entre 0 y 1, entonces el valor medio de $f(X)$ es justamente $\\langle f \\rangle$. Su función debe entonces\n",
    "\n",
    "      * Generar puntos aleatoriamente en el intervalo $[0,1]$\n",
    "      * Calcular el valor medio de $f(x)$ para los puntos aleatorios $x$.\n",
    "      * El resultado va a ser igual al valor de la integral, y por lo tanto a $\\pi/4$.\n",
    "\n",
    "    3. Utilizar las funciones anteriores con diferentes valores para el número total de puntos $N$. En particular, hacerlo para 20 valores de $N$  equiespaciados logarítmicamente entre 100 y 10000. Para cada valor de $N$ calcular la estimación de $\\pi$. Realizar un gráfico con el valor estimado como función del número $N$ con los dos métodos (dos curvas en un solo gráfico)\n",
    "\n",
    "    4. Para $N=15000$ repetir el \"experimento\" muchas veces (al menos 1000) y realizar un histograma de los valores obtenidos para $\\pi$ con cada método. Graficar el histograma y calcular la desviación standard. Superponer una función Gaussiana con el mismo ancho. El gráfico debe ser similar al siguiente (*el estilo de graficación no tiene que ser el mismo*)\n",
    "\n",
    "    ![](figuras/ejercicio_09_1.png)\n",
    "    \n",
    "    5. El método de la aguja del bufón se puede utilizar para estimar el valor de $\\pi$, y consiste en tirar agujas (o palitos, fósforos, etc) al azar sobre una superficie rayada\n",
    "\n",
    "    ![](figuras/Streicholz-Pi-wiki.jpg)\n",
    "\n",
    "    Por simplicidad vamos a considerar que la distancia entre rayas $t$ es mayor que la longitud de las agujas $\\ell$\n",
    "\n",
    "    ![](figuras/Buffon_needle_wiki.png)\n",
    "\n",
    "    La probabilidad de que una aguja cruce una línea será:\n",
    "\n",
    "    $$ P = \\frac{2 \\ell}{t\\, \\pi} $$\n",
    "\n",
    "    por lo que podemos calcular el valor de $\\pi$ si estimamos la probabilidad $P$. Realizar una función que estime $\\pi$ utilizando este método y repetir las comparaciones de los dos puntos anteriores pero ahora utilizando este método y el de las áreas."
   ]
  }
 ],
 "metadata": {
  "kernelspec": {
   "display_name": "Python 3",
   "language": "python",
   "name": "python3"
  },
  "language_info": {
   "codemirror_mode": {
    "name": "ipython",
    "version": 3
   },
   "file_extension": ".py",
   "mimetype": "text/x-python",
   "name": "python",
   "nbconvert_exporter": "python",
   "pygments_lexer": "ipython3",
   "version": "3.7.2"
  },
  "name": "10_ejercicios.ipynb",
  "toc": {
   "base_numbering": 1,
   "nav_menu": {
    "height": "30.2333px",
    "width": "251.667px"
   },
   "number_sections": true,
   "sideBar": true,
   "skip_h1_title": false,
   "title_cell": "Contenidos",
   "title_sidebar": "Contenidos",
   "toc_cell": false,
   "toc_position": null,
   "toc_section_display": true,
   "toc_window_display": false
  }
 },
 "nbformat": 4,
 "nbformat_minor": 2
}
