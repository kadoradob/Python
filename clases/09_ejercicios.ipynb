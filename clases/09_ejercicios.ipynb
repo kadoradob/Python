{
 "cells": [
  {
   "cell_type": "markdown",
   "metadata": {
    "ein.tags": "worksheet-0",
    "slideshow": {
     "slide_type": "-"
    }
   },
   "source": [
    "## Ejercicios 09\n",
    "\n",
    "1. Para la función definida a trozos:\n",
    "$$\n",
    "f(x) =\n",
    "\\begin{cases}\n",
    "  f_{1}(x) = x^{2}/8 & - \\pi < x \\le \\pi/2  \\\\\n",
    "  f_{2}(x) = -0.3 x  & \\pi/2 < x < \\pi \\\\\n",
    "  f_{3}(x) = -(x - 2 \\pi)^{2}/6 & \\pi \\le x \\le 5 \\pi/2 \\\\\n",
    "  f_{4}(x) = (x - 2 \\pi)/5 & 5 \\pi/2 < x \\le 3 \\pi\n",
    "  \\end{cases}\n",
    "$$\n",
    "realizar la siguiente figura de la manera más fiel posible.\n",
    "![](figuras/ejercicio_08_1.png)\n",
    "**Pistas:** Buscar información sobre `plt.fill_between()` y sobre `plt.xticks` y `plt.yticks`. \n",
    "\n",
    "2. Rehacer la siguiente figura:\n",
    "![](figuras/ejercicio_08_2.png)\n",
    "\n",
    "3. Notando que la curva en color negro corresponde a la suma de las dos curvas en rojo, rehacer la siguiente figura:\n",
    "![](figuras/ejercicio_08_3.png)\n",
    "\n",
    "4. Crear una hoja de estilo que permita hacer gráficos adecuados para posters y presentaciones. Debe modificar los tamaños para hacerlos legibles a mayores distancias (sugerencia 16pt). El tamaño de la letra de los nombres de ejes y en las leyendas debe ser mayor también. Las líneas deben ser más gruesas (sugerencia: ~4), los símbolos de mayor tamaño (sugerencia ~10). "
   ]
  }
 ],
 "metadata": {
  "kernelspec": {
   "display_name": "Python 3",
   "language": "python",
   "name": "python3"
  },
  "language_info": {
   "codemirror_mode": {
    "name": "ipython",
    "version": 3
   },
   "file_extension": ".py",
   "mimetype": "text/x-python",
   "name": "python",
   "nbconvert_exporter": "python",
   "pygments_lexer": "ipython3",
   "version": "3.7.2"
  },
  "name": "09_ejercicios.ipynb",
  "toc": {
   "base_numbering": 1,
   "nav_menu": {
    "height": "30.5667px",
    "width": "252px"
   },
   "number_sections": true,
   "sideBar": true,
   "skip_h1_title": false,
   "title_cell": "Contenidos",
   "title_sidebar": "Contenidos",
   "toc_cell": false,
   "toc_position": null,
   "toc_section_display": true,
   "toc_window_display": false
  }
 },
 "nbformat": 4,
 "nbformat_minor": 1
}
