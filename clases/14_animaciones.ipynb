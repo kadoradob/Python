{
 "cells": [
  {
   "cell_type": "markdown",
   "metadata": {
    "ein.tags": "worksheet-0",
    "slideshow": {
     "slide_type": "-"
    }
   },
   "source": [
    "# Animaciones <a class=\"tocSkip\">\n",
    "\n",
    "## Animaciones con **Matploblib**\n",
    "\n",
    "**Matplotlib** tiene funciones para hacer animaciones de una manera conveniente. \n",
    "Hay excelente información sobre el tema en:\n",
    "\n",
    "- [La documentación (con ejemplos)](http://matplotlib.org/api/animation_api.html)\n",
    "- [Tutorial en Pythonic Perambulations](http://jakevdp.github.io/blog/2012/08/18/matplotlib-animation-tutorial/)\n",
    "\n",
    "Vamos a ver brevemente cómo hacer animaciones, en pocos Pasos\n",
    "\n",
    "### Una animación simple en pocos pasos"
   ]
  },
  {
   "cell_type": "code",
   "execution_count": 1,
   "metadata": {
    "autoscroll": false,
    "ein.hycell": false,
    "ein.tags": "worksheet-0",
    "slideshow": {
     "slide_type": "-"
    }
   },
   "outputs": [
    {
     "data": {
      "text/plain": [
       "'/home/fiol/trabajo/clases/pythons/clases-python/clases'"
      ]
     },
     "execution_count": 1,
     "metadata": {},
     "output_type": "execute_result"
    }
   ],
   "source": [
    "pwd"
   ]
  },
  {
   "cell_type": "code",
   "execution_count": 2,
   "metadata": {
    "autoscroll": false,
    "ein.hycell": false,
    "ein.tags": "worksheet-0",
    "slideshow": {
     "slide_type": "-"
    }
   },
   "outputs": [
    {
     "name": "stdout",
     "output_type": "stream",
     "text": [
      "/home/fiol/trabajo/clases/pythons/clases-python/clases/scripts/animaciones\n"
     ]
    }
   ],
   "source": [
    "cd scripts/animaciones"
   ]
  },
  {
   "cell_type": "code",
   "execution_count": 3,
   "metadata": {
    "autoscroll": false,
    "ein.hycell": false,
    "ein.tags": "worksheet-0",
    "slideshow": {
     "slide_type": "-"
    }
   },
   "outputs": [],
   "source": [
    "%matplotlib tk\n",
    "%run ejemplo_animation_1.py"
   ]
  },
  {
   "cell_type": "markdown",
   "metadata": {
    "ein.tags": "worksheet-0",
    "slideshow": {
     "slide_type": "-"
    }
   },
   "source": [
    "```python\n",
    "import numpy as np\n",
    "import matplotlib.pyplot as plt\n",
    "import matplotlib.animation as animation\n",
    "plt.ioff()\n",
    "# Creamos los datos\n",
    "xmax = 2*np.pi\n",
    "Npts= 50\n",
    "\n",
    "x = np.linspace(0, xmax, Npts)\n",
    "data = np.c_[x, np.sin(x)].T\n",
    "\n",
    "\n",
    "def update_line(num, data, line):\n",
    "  line.set_data(data[:, :num])\n",
    "  return line,\n",
    "\n",
    "# Creamos la figura e inicializamos\n",
    "# Graficamos una línea sin ningún punto\n",
    "# Fijamos las condiciones de graficación\n",
    "fig1, ax = plt.subplots(figsize=(12,8))\n",
    "# L, = plt.plot([], [], '-o') # equivalente a la siguiente\n",
    "L = plt.plot([],[] , '-o')[0]\n",
    "ax.set_xlim(0, xmax)\n",
    "ax.set_ylim(-1.1, 1.1)\n",
    "ax.set_xlabel('x')\n",
    "ax.set_title('Animación de una oscilación')\n",
    "\n",
    "\n",
    "# \n",
    "line_ani = animation.FuncAnimation(fig1, update_line, Npts, fargs=(data, L), interval=100, blit=True)\n",
    "\n",
    "\n",
    "plt.show()\n",
    "```"
   ]
  },
  {
   "cell_type": "markdown",
   "metadata": {
    "ein.tags": "worksheet-0",
    "slideshow": {
     "slide_type": "-"
    }
   },
   "source": [
    "Este código da como resultado una función oscilante que se va creando. Este es un ejemplo simple que puede ser útil para graficar datos de una medición o de un cálculo más o menos largo.\n",
    "\n",
    "\n",
    "![](figuras/line.gif)"
   ]
  },
  {
   "cell_type": "markdown",
   "metadata": {
    "ein.tags": "worksheet-0",
    "slideshow": {
     "slide_type": "-"
    }
   },
   "source": [
    "#### Preparación general\n",
    "\n",
    "Como vemos, después de importar el submódulo `animation` (además de lo usual):\n",
    "```python\n",
    "import numpy as np\n",
    "import matplotlib.pyplot as plt\n",
    "import matplotlib.animation as animation\n",
    "plt.ioff()\n",
    "```\n",
    "nos aseguramos que estamos trabajando en modo **no** interactivo (con `plt.ioff()`).\n",
    "\n",
    "#### Creamos los datos para graficar\n",
    "\n",
    "Creación de datos para graficar\n",
    "\n",
    "Creamos los datos para mostrar en la animación.\n",
    "\n",
    "```python\n",
    "xmax = 2*np.pi\n",
    "Npts= 50\n",
    "x = np.linspace(0, xmax, Npts)\n",
    "data = np.c_[x, np.sin(x)].T\n",
    "```\n",
    "\n",
    "Acá `data` es un array 2D, con los datos $x$, $y$.\n",
    "\n",
    "#### Preparación de la figura\n",
    "\n",
    "A continuación preparamos la zona de graficación:\n",
    "\n",
    "1. Creamos la figura y eje\n",
    "2. Creamos las líneas de graficación (una en este caso)\n",
    "3. Fijamos los límites de graficación\n",
    "4. Agregamos el texto, que va a ser invariante durante la animación\n",
    "\n",
    "```python\n",
    "fig1, ax = plt.subplots(figsize=(12,8))\n",
    "L, = plt.plot([], [], '-o', lw=3)\n",
    "ax.set_xlim(0, xmax)\n",
    "ax.set_ylim(-1.1, 1.1)\n",
    "ax.set_xlabel('x')\n",
    "ax.set_title('Animación de una oscilación')\n",
    "```\n",
    "\n",
    "Como sabemos, el llamado a `plot()` devuelve una lista de líneas (de un solo elemento). A este elemento lo llamamos `L`, y ya le damos las características que queremos que tenga. En este caso, fijamos el símbolo (círculos), con líneas de ancho 3.\n",
    "Vamos a modificar esta línea `L` en cada cuadro de la animación.\n",
    "\n",
    "#### Función para actualizar la línea\n",
    "\n",
    "Debemos crear una función que modifique las curvas en cada cuadro.\n",
    "\n",
    "```python\n",
    "def update_line(num, data, line):\n",
    "  line.set_data(data[:, :num])\n",
    "  return line,\n",
    "```\n",
    "\n",
    "Esta función debe recibir como argumento el número de cuadro, que acá llamamos `num`. Además, en este caso recibe los datos a graficar, y la línea a modificar.\n",
    "\n",
    "Esta función devuelve una línea `L`, que es la parte del gráfico que queremos que se actualice en cada frame. \n",
    "\n",
    "Notemos acá que no es necesario que tome como argumento los datos guardados en `data` y la línea `line`, ya que son variables globales a las que hay acceso dentro del *script*. De la misma manera no es necesario que devuelva la línea, por la misma razón.\n",
    "\n",
    "#### Animación de la figura\n",
    "\n",
    "Finalmente llamamos a la función que hace la animación: `animation.FuncAnimation()`"
   ]
  },
  {
   "cell_type": "code",
   "execution_count": null,
   "metadata": {
    "autoscroll": false,
    "ein.hycell": false,
    "ein.tags": "worksheet-0",
    "slideshow": {
     "slide_type": "-"
    }
   },
   "outputs": [],
   "source": [
    "import matplotlib.animation as animation\n",
    "np.info(animation.FuncAnimation)"
   ]
  },
  {
   "cell_type": "markdown",
   "metadata": {
    "ein.tags": "worksheet-0",
    "slideshow": {
     "slide_type": "-"
    }
   },
   "source": [
    "```python\n",
    "line_anim = animation.FuncAnimation(fig1, update_line, Npts, \n",
    "                   fargs=(data, L), interval=100, blit=True)\n",
    "```\n",
    "\n",
    "La función `FuncAnimation()` toma como argumentos:\n",
    "\n",
    "- la figura (`fig1`) donde se realiza el gráfico.\n",
    "\n",
    "- Una función a la que llama antes de dibujar cada *frame* (`update_line`), \n",
    "\n",
    "- El argumento `interval` da el tiempo entre cuadros, en milisegundos.\n",
    "\n",
    "- El argumento `fargs` es una tuple con los argumentos que necesita la función `update_line()`. En este caso `(data, L)`.\n",
    "\n",
    "- El argumento `blit=True` hace que sólo se actualicen las partes que cambian en la animación, mientras que las partes estáticas no se dibujan en cada cuadro.\n",
    "\n",
    "Es importante que el objeto creado por `FuncAnimation()` no se destruya. Esto lo podemos asegurar asignando el objeto resultante a una variable, en este caso line_anim.\n",
    "\n",
    "#### Opcional: grabar la animación a un archivo\n",
    "\n",
    "Podemos grabar la animación a un archivo usando el método `save()` o el método `to_html5_video()`  del objeto (`anim`) que devuelve la función `FuncAnimation()`.\n",
    "\n",
    "Para poder grabar a archivo las animaciones se necesita tener instalados programas externos (alguno de *ffmpeg*, *avconv*, *imagemagick*). Ver https://matplotlib.org/api/animation_api.html para más información."
   ]
  },
  {
   "cell_type": "markdown",
   "metadata": {
    "ein.tags": "worksheet-0",
    "slideshow": {
     "slide_type": "-"
    }
   },
   "source": [
    "### Segundo ejemplo simple: Quiver\n",
    "\n",
    "Para hacer una animación de un campo de fuerzas o velocidades necesitamos datos en tres dimensiones. El siguiente ejemplo sigue los pasos de la animación anterior, excepto en la creación de datos y la graficación, que en lugar de usar `plot()` usa `quiver()`:\n"
   ]
  },
  {
   "cell_type": "markdown",
   "metadata": {
    "ein.tags": "worksheet-0",
    "slideshow": {
     "slide_type": "-"
    }
   },
   "source": [
    "```python\n",
    "import numpy as np\n",
    "import matplotlib.pyplot as plt\n",
    "import matplotlib.animation as animation\n",
    "plt.style.use('ggplot')\n",
    "\n",
    "plt.ioff()\n",
    "\n",
    "# ############################################################\n",
    "# Creación de datos\n",
    "x = np.linspace(-3, 3, 91)\n",
    "t = np.linspace(0, 25, 30)\n",
    "y = np.linspace(-3, 3, 91)\n",
    "X3, Y3, T3 = np.meshgrid(x, y, t)\n",
    "sinT3 = np.sin(2*np.pi*T3 /\n",
    "               T3.max(axis=2)[..., np.newaxis])\n",
    "\n",
    "G = (X3**2 + Y3**2)*sinT3\n",
    "# Plot every 15th arrow\n",
    "step = 10\n",
    "x_q, y_q = x[::step], y[::step]\n",
    " \n",
    "# Create U and V vectors to plot\n",
    "U = G[::step, ::step, :-1].copy()\n",
    "V = np.roll(U, shift=3, axis=2)\n",
    "\n",
    "# ############################################################\n",
    "# Figura y ejes. \n",
    "fig1, ax = plt.subplots(figsize=(12,8))\n",
    "\n",
    "ax.set_aspect('equal')\n",
    " \n",
    "ax.set(xlim=(-4, 4), ylim=(-4, 4))\n",
    "\n",
    " \n",
    "qax = ax.quiver(x_q, y_q, U[..., 0], V[..., 0],\n",
    "                scale=100)\n",
    " \n",
    "def animate(i):\n",
    "  qax.set_UVC(U[..., i], V[..., i])\n",
    "\n",
    "anim = animation.FuncAnimation(fig1, animate, interval=100, frames=len(t)-1, repeat=True)\n",
    "\n",
    "# anim.save('quiver.gif', writer='imagemagick')\n",
    "anim.save('quiver.mp4')\n",
    "plt.show()\n",
    "```"
   ]
  },
  {
   "cell_type": "code",
   "execution_count": 4,
   "metadata": {
    "autoscroll": false,
    "ein.hycell": false,
    "ein.tags": "worksheet-0",
    "slideshow": {
     "slide_type": "-"
    }
   },
   "outputs": [],
   "source": [
    "%run ejemplo_quiver.py"
   ]
  },
  {
   "cell_type": "markdown",
   "metadata": {
    "ein.tags": "worksheet-0",
    "slideshow": {
     "slide_type": "-"
    }
   },
   "source": [
    "### Tercer ejemplo\n",
    "Veamos un ejemplo similar al primero, pero donde vamos cambiando los límites de los ejes en forma manual.\n",
    "\n"
   ]
  },
  {
   "cell_type": "markdown",
   "metadata": {
    "ein.tags": "worksheet-0",
    "slideshow": {
     "slide_type": "-"
    }
   },
   "source": [
    "```python\n",
    "import numpy as np\n",
    "import matplotlib.pyplot as plt\n",
    "import matplotlib.animation as animation\n",
    "\n",
    "# Calcula los datos en tiempo real. \n",
    "def data_gen(t=0):\n",
    "  cnt = 0\n",
    "  while cnt < 1000:\n",
    "    cnt += 1\n",
    "    t += 0.1\n",
    "    yield t, np.sin(2 * np.pi * t) * np.exp(-t / 10.)\n",
    "\n",
    "\n",
    "# Necesitamos que estas variables puedan ser accedidas\n",
    "# desde varias funciones -> globales\n",
    "fig, ax = plt.subplots()\n",
    "line, = ax.plot([], [], lw=2)\n",
    "xdata, ydata = [], []\n",
    "\n",
    "def init():\n",
    "  ax.grid()\n",
    "  ax.set_ylim(-1.1, 1.1)\n",
    "  ax.set_xlim(0, 10)\n",
    "  del xdata[:]\n",
    "  del ydata[:]\n",
    "  line.set_data(xdata, ydata)\n",
    "  return line,\n",
    "\n",
    "\n",
    "def run(data):\n",
    "  # update the data\n",
    "  t, y = data\n",
    "  xdata.append(t)\n",
    "  ydata.append(y)\n",
    "  xmin, xmax = ax.get_xlim()\n",
    "\n",
    "  # Si los datos salen del eje, agrandamos el eje\n",
    "  # Después tenemos que redibujar el canvas manualmente\n",
    "  if t >= xmax:\n",
    "    ax.set_xlim(xmin, 2 * xmax)\n",
    "    ax.figure.canvas.draw()\n",
    "  line.set_data(xdata, ydata)\n",
    "\n",
    "  return line,\n",
    "\n",
    "ani = animation.FuncAnimation(fig, run, data_gen, blit=False,\n",
    "                              interval=30,repeat=False, init_func=init)\n",
    "\n",
    "plt.show()\n",
    "```"
   ]
  },
  {
   "cell_type": "code",
   "execution_count": 5,
   "metadata": {
    "autoscroll": false,
    "ein.hycell": false,
    "ein.tags": "worksheet-0",
    "slideshow": {
     "slide_type": "-"
    }
   },
   "outputs": [],
   "source": [
    "%run animate_decay.py"
   ]
  },
  {
   "cell_type": "code",
   "execution_count": 6,
   "metadata": {
    "autoscroll": false,
    "ein.hycell": false,
    "ein.tags": "worksheet-0",
    "slideshow": {
     "slide_type": "-"
    }
   },
   "outputs": [],
   "source": [
    "plt.style.reload_library()\n",
    "plt.style.use('default')"
   ]
  },
  {
   "cell_type": "markdown",
   "metadata": {
    "ein.tags": "worksheet-0",
    "slideshow": {
     "slide_type": "-"
    }
   },
   "source": [
    "## Intervalo con ejercicio\n",
    "\n",
    "Utilizando **Matplotlib**:\n",
    "- Hacer un gráfico donde dibuje una parábola $y = x^{2}$ en el rango $[-5,5]$.\n",
    "- En el mismo gráfico, agregar un círculo en $x=-5$.\n",
    "- El círculo debe moverse siguiendo la curva, como se muestra en la figura\n",
    "![](figuras/pelota.gif)"
   ]
  }
 ],
 "metadata": {
  "kernelspec": {
   "display_name": "Python 3",
   "language": "python",
   "name": "python3"
  },
  "language_info": {
   "codemirror_mode": {
    "name": "ipython",
    "version": 3
   },
   "file_extension": ".py",
   "mimetype": "text/x-python",
   "name": "python",
   "nbconvert_exporter": "python",
   "pygments_lexer": "ipython3",
   "version": "3.7.2"
  },
  "name": "14_animaciones.ipynb",
  "toc": {
   "base_numbering": 1,
   "nav_menu": {
    "height": "338.467px",
    "width": "251.833px"
   },
   "number_sections": true,
   "sideBar": true,
   "skip_h1_title": false,
   "title_cell": "Contenidos",
   "title_sidebar": "Contenidos",
   "toc_cell": false,
   "toc_position": null,
   "toc_section_display": true,
   "toc_window_display": false
  }
 },
 "nbformat": 4,
 "nbformat_minor": 1
}
