{
 "cells": [
  {
   "cell_type": "markdown",
   "metadata": {
    "ein.tags": "worksheet-0",
    "slideshow": {
     "slide_type": "-"
    }
   },
   "source": [
    "## Ejercicios 05\n",
    "\n",
    "1. Escriba una serie de funciones que permitan trabajar con polinomios. Vamos a representar a los polinomios como una lista de números reales (los coeficientes):\n",
    "\n",
    "    * Una función que devuelva el orden del polinomio\n",
    "    * Una función que sume dos polinomios y devuelva un polinomio (objeto del mismo tipo)\n",
    "    * Una función que multiplique dos polinomios\n",
    "    * Una función devuelva la derivada del polinomio (otro polinomio).\n",
    "    * Una función que, acepte el polinomio y devuelva la función correspondiente.\n",
    "\n"
   ]
  }
 ],
 "metadata": {
  "kernelspec": {
   "display_name": "Python 3",
   "language": "python",
   "name": "python3"
  },
  "language_info": {
   "codemirror_mode": {
    "name": "ipython",
    "version": 3
   },
   "file_extension": ".py",
   "mimetype": "text/x-python",
   "name": "python",
   "nbconvert_exporter": "python",
   "pygments_lexer": "ipython3",
   "version": "3.7.2"
  },
  "name": "05_ejercicios.ipynb",
  "toc": {
   "base_numbering": 1,
   "nav_menu": {},
   "number_sections": true,
   "sideBar": true,
   "skip_h1_title": false,
   "title_cell": "Contenidos",
   "title_sidebar": "Contenidos",
   "toc_cell": false,
   "toc_position": {},
   "toc_section_display": true,
   "toc_window_display": false
  }
 },
 "nbformat": 4,
 "nbformat_minor": 1
}
