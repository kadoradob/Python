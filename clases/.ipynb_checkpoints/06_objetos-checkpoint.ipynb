{
 "cells": [
  {
   "cell_type": "markdown",
   "metadata": {
    "ein.tags": "worksheet-0",
    "slideshow": {
     "slide_type": "-"
    }
   },
   "source": [
    "# Breve introducción a Programación Orientada a Objetos\n",
    "\n",
    "Vimos como escribir funciones que realizan un trabajo específico y nos devuelven un resultado. La mayor parte de nuestros programas van a estar diseñados con un hilo conductor principal, que utiliza una serie de funciones para realizar el cálculo. De esta manera, el código es altamente reusable.\n",
    "\n",
    "Hay otras maneras de organizar el código, particularmente útil cuando un conjunto de rutinas comparte un dado conjunto de datos. En ese caso, puede ser adecuado utilizar un esquema de programación orientada a objetos.\n",
    "\n",
    "## Clases y Objetos\n",
    "\n",
    "Una Clase define características, que tienen los objetos de dicha clase. En general la clase tiene: un nombre y atributos (campos y métodos).\n",
    "\n",
    "Un Objeto en programación puede pensarse como la representación de un objeto real, de una dada clase. Un objeto real tiene una composición y características, y además puede realizar un conjunto de actividades (tiene un comportamiento). Cuando programamos, las \"partes\" son los datos, y el \"comportamiento\" son los métodos.\n",
    "\n",
    "Ejemplos de la vida diaria serían: Una clase *Bicicleta*, y muchos objetos del tipo bicicleta (mi bicicleta, la suya, etc). La definición de la clase debe contener la información de qué es una bicicleta (dos ruedas, manubrio, etc) y luego se realizan muchas copias del tipo bicicleta (los objetos).\n",
    "\n",
    "Se dice que los **objetos** son instancias de una **clase**, por ejemplo ya vimos los números enteros. Cuando definimos: `a = 3` estamos diciendo que `a` es una instancia (objeto) de la clase `int`.\n",
    "\n",
    "Los objetos pueden guardar datos (en este caso `a` guarda el valor `3`). Las variables de los objetos se llaman usualmente campos. Las acciones que tienen asociadas los objetos se realizan a través de funciones internas, que se llaman métodos. Los métodos y campos tienen una relación directa.\n",
    "\n",
    "Las clases se definen con la palabra reservada `class`, veamos un ejemplo simple:\n",
    "\n"
   ]
  },
  {
   "cell_type": "code",
   "execution_count": 2,
   "metadata": {
    "autoscroll": false,
    "ein.hycell": false,
    "ein.tags": "worksheet-0",
    "slideshow": {
     "slide_type": "-"
    }
   },
   "outputs": [],
   "source": [
    "class Coordenada:\n",
    "  \"Clase para describir un punto en el plano\"\n",
    "\n",
    "  def __init__(self, x, y):\n",
    "    self.x = x\n",
    "    self.y = y\n",
    "\n"
   ]
  },
  {
   "cell_type": "code",
   "execution_count": 3,
   "metadata": {
    "autoscroll": false,
    "ein.hycell": false,
    "ein.tags": "worksheet-0",
    "slideshow": {
     "slide_type": "-"
    }
   },
   "outputs": [],
   "source": [
    "P1 = Coordenada(0.5, 0.5)"
   ]
  },
  {
   "cell_type": "code",
   "execution_count": 4,
   "metadata": {
    "autoscroll": false,
    "ein.hycell": false,
    "ein.tags": "worksheet-0",
    "slideshow": {
     "slide_type": "-"
    }
   },
   "outputs": [
    {
     "data": {
      "text/plain": [
       "<__main__.Coordenada at 0x7ff428fbe438>"
      ]
     },
     "execution_count": 4,
     "metadata": {},
     "output_type": "execute_result"
    }
   ],
   "source": [
    "P1"
   ]
  },
  {
   "cell_type": "code",
   "execution_count": 5,
   "metadata": {
    "autoscroll": false,
    "ein.hycell": false,
    "ein.tags": "worksheet-0",
    "slideshow": {
     "slide_type": "-"
    }
   },
   "outputs": [
    {
     "data": {
      "text/plain": [
       "0.5"
      ]
     },
     "execution_count": 5,
     "metadata": {},
     "output_type": "execute_result"
    }
   ],
   "source": [
    "P1.x"
   ]
  },
  {
   "cell_type": "markdown",
   "metadata": {
    "ein.tags": "worksheet-0",
    "slideshow": {
     "slide_type": "-"
    }
   },
   "source": [
    "Como vemos, acabamos de definir una clase de tipo Coordenada. A continuación definimos un *método* `__init__` que hace el trabajo de inicializar el objeto.\n",
    "\n",
    "Algunos puntos a notar:\n",
    "\n",
    "* La línea `P1 = Coordenada(0.5, 0.5)` crea un nuevo objeto del tipo `Coordenada`. Notar que usamos paréntesis como cuando llamamos a una función pero Python sabe que estamos \"llamando\" a una clase.\n",
    "* El método `__init__` es llamado automáticamente al definir un nuevo objeto de esa clase. Por esa razón, le pasamos los dos argumentos al crear el objeto.\n",
    "\n",
    "* El primer argumento del método, `self`, debe estar presente en la definición de todos los métodos pero no lo pasamos como argumento cuando hacemos una llamada a la función. **Python** se encarga de pasarlo en forma automática. Lo único relevante de este argumento es que es el primero para todos los métodos, el nombre `self` puede cambiarse por cualquier otro **pero, por convención, no se hace**.\n"
   ]
  },
  {
   "cell_type": "code",
   "execution_count": 7,
   "metadata": {
    "autoscroll": false,
    "ein.hycell": false,
    "ein.tags": "worksheet-0",
    "slideshow": {
     "slide_type": "-"
    }
   },
   "outputs": [
    {
     "ename": "TypeError",
     "evalue": "__init__() missing 2 required positional arguments: 'x' and 'y'",
     "output_type": "error",
     "traceback": [
      "\u001b[0;31m---------------------------------------------------------------------------\u001b[0m",
      "\u001b[0;31mTypeError\u001b[0m                                 Traceback (most recent call last)",
      "\u001b[0;32m<ipython-input-7-b1a2afc36990>\u001b[0m in \u001b[0;36m<module>\u001b[0;34m()\u001b[0m\n\u001b[0;32m----> 1\u001b[0;31m \u001b[0mP2\u001b[0m \u001b[0;34m=\u001b[0m \u001b[0mCoordenada\u001b[0m\u001b[0;34m(\u001b[0m\u001b[0;34m)\u001b[0m\u001b[0;34m\u001b[0m\u001b[0;34m\u001b[0m\u001b[0m\n\u001b[0m",
      "\u001b[0;31mTypeError\u001b[0m: __init__() missing 2 required positional arguments: 'x' and 'y'"
     ]
    }
   ],
   "source": [
    "P2 = Coordenada()"
   ]
  },
  {
   "cell_type": "markdown",
   "metadata": {
    "ein.tags": "worksheet-0",
    "slideshow": {
     "slide_type": "-"
    }
   },
   "source": [
    "Por supuesto la creación del objeto falla si no le damos ningún argumento porque los argumentos de `__init__` son no son opcionales. Modifiquemos eso, y aprovechamos para definir algunos otros métodos que pueden ser útiles:"
   ]
  },
  {
   "cell_type": "code",
   "execution_count": 8,
   "metadata": {
    "autoscroll": false,
    "ein.hycell": false,
    "ein.tags": "worksheet-0",
    "slideshow": {
     "slide_type": "-"
    }
   },
   "outputs": [],
   "source": [
    "from math import sqrt, atan2, degrees\n",
    "\n",
    "class Coordenada:\n",
    "  \"Clase para describir un punto en el plano\"\n",
    "\n",
    "  def __init__(self, x=0, y=0):\n",
    "    self.x = x\n",
    "    self.y = y\n",
    "    return None\n",
    "\n",
    "  def modulo(self):\n",
    "    \"Devuelve la distancia del punto al origen\"\n",
    "    r = sqrt(self.x**2 + self.y**2)\n",
    "    return r\n",
    "\n",
    "  def angulo(self):\n",
    "    \"Devuelve el ángulo que forma con el eje x, en radianes\"\n",
    "    return atan2(self.y, self.x)\n",
    "\n",
    "  def angulo_grados(self):\n",
    "    \"Devuelve el ángulo que forma con el eje x, en grados\"\n",
    "    return degrees(self.angulo())\n",
    "\n",
    "  def a_polares(self):\n",
    "    \"Da una representación de las coordenadas de un punto en polares\"\n",
    "    return self.modulo(), self.angulo()"
   ]
  },
  {
   "cell_type": "code",
   "execution_count": 9,
   "metadata": {
    "autoscroll": false,
    "ein.hycell": false,
    "ein.tags": "worksheet-0",
    "slideshow": {
     "slide_type": "-"
    }
   },
   "outputs": [],
   "source": [
    "P1 = Coordenada(0.5, 0.5)"
   ]
  },
  {
   "cell_type": "code",
   "execution_count": 10,
   "metadata": {
    "autoscroll": false,
    "ein.hycell": false,
    "ein.tags": "worksheet-0",
    "slideshow": {
     "slide_type": "-"
    }
   },
   "outputs": [
    {
     "data": {
      "text/plain": [
       "(0.7071067811865476, 0.7853981633974483)"
      ]
     },
     "execution_count": 10,
     "metadata": {},
     "output_type": "execute_result"
    }
   ],
   "source": [
    "P1.a_polares()"
   ]
  },
  {
   "cell_type": "code",
   "execution_count": 11,
   "metadata": {},
   "outputs": [
    {
     "data": {
      "text/plain": [
       "(0.7071067811865476, 0.7853981633974483)"
      ]
     },
     "execution_count": 11,
     "metadata": {},
     "output_type": "execute_result"
    }
   ],
   "source": [
    "Coordenada.a_polares(P1)"
   ]
  },
  {
   "cell_type": "code",
   "execution_count": 12,
   "metadata": {
    "autoscroll": false,
    "ein.hycell": false,
    "ein.tags": "worksheet-0",
    "slideshow": {
     "slide_type": "-"
    }
   },
   "outputs": [
    {
     "data": {
      "text/plain": [
       "0.7853981633974483"
      ]
     },
     "execution_count": 12,
     "metadata": {},
     "output_type": "execute_result"
    }
   ],
   "source": [
    "P1.angulo()"
   ]
  },
  {
   "cell_type": "code",
   "execution_count": 13,
   "metadata": {
    "autoscroll": false,
    "ein.hycell": false,
    "ein.tags": "worksheet-0",
    "slideshow": {
     "slide_type": "-"
    }
   },
   "outputs": [
    {
     "data": {
      "text/plain": [
       "45.0"
      ]
     },
     "execution_count": 13,
     "metadata": {},
     "output_type": "execute_result"
    }
   ],
   "source": [
    "P1.angulo_grados()"
   ]
  },
  {
   "cell_type": "code",
   "execution_count": 14,
   "metadata": {
    "autoscroll": false,
    "ein.hycell": false,
    "ein.tags": "worksheet-0",
    "slideshow": {
     "slide_type": "-"
    }
   },
   "outputs": [],
   "source": [
    "P2 = Coordenada()"
   ]
  },
  {
   "cell_type": "code",
   "execution_count": 15,
   "metadata": {
    "autoscroll": false,
    "ein.hycell": false,
    "ein.tags": "worksheet-0",
    "slideshow": {
     "slide_type": "-"
    }
   },
   "outputs": [
    {
     "data": {
      "text/plain": [
       "0"
      ]
     },
     "execution_count": 15,
     "metadata": {},
     "output_type": "execute_result"
    }
   ],
   "source": [
    "P2.x"
   ]
  },
  {
   "cell_type": "code",
   "execution_count": 16,
   "metadata": {
    "autoscroll": false,
    "ein.hycell": false,
    "ein.tags": "worksheet-0",
    "slideshow": {
     "slide_type": "-"
    }
   },
   "outputs": [
    {
     "name": "stdout",
     "output_type": "stream",
     "text": [
      "Help on Coordenada in module __main__ object:\n",
      "\n",
      "class Coordenada(builtins.object)\n",
      " |  Coordenada(x=0, y=0)\n",
      " |  \n",
      " |  Clase para describir un punto en el plano\n",
      " |  \n",
      " |  Methods defined here:\n",
      " |  \n",
      " |  __init__(self, x=0, y=0)\n",
      " |      Initialize self.  See help(type(self)) for accurate signature.\n",
      " |  \n",
      " |  a_polares(self)\n",
      " |      Da una representación de las coordenadas de un punto en polares\n",
      " |  \n",
      " |  angulo(self)\n",
      " |      Devuelve el ángulo que forma con el eje x, en radianes\n",
      " |  \n",
      " |  angulo_grados(self)\n",
      " |      Devuelve el ángulo que forma con el eje x, en grados\n",
      " |  \n",
      " |  modulo(self)\n",
      " |      Devuelve la distancia del punto al origen\n",
      " |  \n",
      " |  ----------------------------------------------------------------------\n",
      " |  Data descriptors defined here:\n",
      " |  \n",
      " |  __dict__\n",
      " |      dictionary for instance variables (if defined)\n",
      " |  \n",
      " |  __weakref__\n",
      " |      list of weak references to the object (if defined)\n",
      "\n"
     ]
    }
   ],
   "source": [
    "help(P1)"
   ]
  },
  {
   "cell_type": "markdown",
   "metadata": {
    "ein.tags": "worksheet-0",
    "slideshow": {
     "slide_type": "-"
    }
   },
   "source": [
    "Vemos que al hacer la llamada a los métodos, omitimos el argumento `self`. El lenguaje traduce nuestro llamado: `P1.a_polares()` como `Coordenada.a_polares(P1)` ya que `self` se refiere al objeto que llama al método.\n"
   ]
  },
  {
   "cell_type": "markdown",
   "metadata": {
    "ein.tags": "worksheet-0",
    "slideshow": {
     "slide_type": "-"
    }
   },
   "source": [
    "## Herencia\n",
    "\n",
    "Una de las características de la programación orientada a objetos es la alta reutilización de código. Uno de los mecanismos más importantes es a través de la herencia. Cuando definimos una nueva clase, podemos crearla a partir de un objeto que ya exista. Por ejemplo, utilizando la clase `Coordenada` podemos definir una nueva clase:"
   ]
  },
  {
   "cell_type": "code",
   "execution_count": 18,
   "metadata": {
    "autoscroll": false,
    "ein.hycell": false,
    "ein.tags": "worksheet-0",
    "slideshow": {
     "slide_type": "-"
    }
   },
   "outputs": [],
   "source": [
    "class Coordenada3D(Coordenada):\n",
    "  \"Representa un punto en el espacio\"\n",
    "\n",
    "  def __init__(self, x, y, z):\n",
    "    Coordenada.__init__(self,x,y)\n",
    "    self.z = z\n",
    "\n",
    "    \n",
    "  def a_cilindricas(self):\n",
    "    \"\"\"Devuelve las coordenadas cilíndricas (r, theta, z) del punto \"\"\"\n",
    "    r, theta= self.a_polares()\n",
    "    return r, theta, self.z\n",
    "\n",
    "\n",
    "  def a_esfericas(self):\n",
    "    \"\"\"Devuelve las coordenadas esféricas (r, theta, phi) del punto \"\"\"\n",
    "    rho,fi= self.a_polares()\n",
    "    r = sqrt(rho**2 + self.z**2)\n",
    "    # r = sqrt(self.x**2 + self.y**2 + self.z**2)\n",
    "    theta = atan2(r,self.z)\n",
    "    return r, theta, fi\n",
    "    "
   ]
  },
  {
   "cell_type": "code",
   "execution_count": 19,
   "metadata": {
    "autoscroll": false,
    "ein.hycell": false,
    "ein.tags": "worksheet-0",
    "slideshow": {
     "slide_type": "-"
    }
   },
   "outputs": [],
   "source": [
    "c = Coordenada3D(0.3, 0.3, 1)"
   ]
  },
  {
   "cell_type": "code",
   "execution_count": 20,
   "metadata": {
    "autoscroll": false,
    "ein.hycell": false,
    "ein.tags": "worksheet-0",
    "slideshow": {
     "slide_type": "-"
    }
   },
   "outputs": [
    {
     "data": {
      "text/plain": [
       "<__main__.Coordenada3D at 0x7ff428fb54e0>"
      ]
     },
     "execution_count": 20,
     "metadata": {},
     "output_type": "execute_result"
    }
   ],
   "source": [
    "c"
   ]
  },
  {
   "cell_type": "code",
   "execution_count": 21,
   "metadata": {
    "autoscroll": false,
    "ein.hycell": false,
    "ein.tags": "worksheet-0",
    "slideshow": {
     "slide_type": "-"
    }
   },
   "outputs": [
    {
     "data": {
      "text/plain": [
       "(0.3, 0.3, 1)"
      ]
     },
     "execution_count": 21,
     "metadata": {},
     "output_type": "execute_result"
    }
   ],
   "source": [
    "c.x, c.y, c.z"
   ]
  },
  {
   "cell_type": "code",
   "execution_count": 22,
   "metadata": {
    "autoscroll": false,
    "ein.hycell": false,
    "ein.tags": "worksheet-0",
    "slideshow": {
     "slide_type": "-"
    }
   },
   "outputs": [
    {
     "data": {
      "text/plain": [
       "(0.4242640687119285, 0.7853981633974483, 1)"
      ]
     },
     "execution_count": 22,
     "metadata": {},
     "output_type": "execute_result"
    }
   ],
   "source": [
    "c.a_cilindricas()"
   ]
  },
  {
   "cell_type": "code",
   "execution_count": 23,
   "metadata": {
    "autoscroll": false,
    "ein.hycell": false,
    "ein.tags": "worksheet-0",
    "slideshow": {
     "slide_type": "-"
    }
   },
   "outputs": [
    {
     "data": {
      "text/plain": [
       "(1.0862780491200215, 0.8267296217170829, 0.7853981633974483)"
      ]
     },
     "execution_count": 23,
     "metadata": {},
     "output_type": "execute_result"
    }
   ],
   "source": [
    "c.a_esfericas()"
   ]
  },
  {
   "cell_type": "markdown",
   "metadata": {
    "ein.tags": "worksheet-0",
    "slideshow": {
     "slide_type": "-"
    }
   },
   "source": [
    "Los métodos que habíamos definido para los puntos del plano, son accesibles para el nuevo objeto. También podemos agregar nuevos campos y métodos (en este caso el campo `z` y el método `a_esfericas()`)."
   ]
  },
  {
   "cell_type": "markdown",
   "metadata": {
    "ein.tags": "worksheet-0",
    "slideshow": {
     "slide_type": "-"
    }
   },
   "source": [
    "## Algunos métodos \"especiales\"\n",
    "\n",
    "Hay algunos métodos que **Python** interpreta de manera especial. Ya vimos uno de ellos: `__init__`, que es llamado automáticamente cuando se crea una instancia de la clase.\n",
    "\n",
    "### Métodos `__str__` y `__repr__`\n",
    "\n",
    "El método `__str__` es especial, en el sentido en que puede ser utilizado aunque no lo llamemos explícitamente en nuestro código. En particular, es llamado cuando usamos expresiones del tipo `str(objeto)` o automáticamente cuando se utilizan las funciones `format` y `print()`. El objetivo de este método es que sea legible."
   ]
  },
  {
   "cell_type": "code",
   "execution_count": 24,
   "metadata": {
    "autoscroll": false,
    "ein.hycell": false,
    "ein.tags": "worksheet-0",
    "slideshow": {
     "slide_type": "-"
    }
   },
   "outputs": [
    {
     "name": "stdout",
     "output_type": "stream",
     "text": [
      "<__main__.Coordenada3D object at 0x7ff428fb54e0>\n"
     ]
    }
   ],
   "source": [
    "print(c)"
   ]
  },
  {
   "cell_type": "raw",
   "metadata": {
    "autoscroll": false,
    "ein.hycell": false,
    "ein.tags": "worksheet-0",
    "slideshow": {
     "slide_type": "-"
    }
   },
   "source": [
    "Rehagamos la clase "
   ]
  },
  {
   "cell_type": "code",
   "execution_count": 25,
   "metadata": {
    "autoscroll": false,
    "ein.hycell": false,
    "ein.tags": "worksheet-0",
    "slideshow": {
     "slide_type": "-"
    }
   },
   "outputs": [],
   "source": [
    "class Coordenada3D(Coordenada):\n",
    "  \"Representa un punto en el espacio\"\n",
    "\n",
    "  def __init__(self, x, y, z):\n",
    "    Coordenada.__init__(self,x,y)\n",
    "    self.z = z\n",
    "\n",
    "  def __str__(self):\n",
    "    s = \"(x = {}, y = {}, z = {})\".format(self.x, self.y, self.z)\n",
    "    return s\n",
    "    \n",
    "\n",
    "  def a_cilindricas(self):\n",
    "    \"\"\"Devuelve las coordenadas cilíndricas (r, theta, z) del punto \"\"\"\n",
    "    r, theta= self.a_polares()\n",
    "    return r, theta, self.z\n",
    "\n",
    "  def a_esfericas(self):\n",
    "    \"\"\"Devuelve las coordenadas esféricas (r, theta, phi) del punto \"\"\"\n",
    "    rho,fi= self.a_polares()\n",
    "    r = sqrt(rho**2 + self.z**2)\n",
    "    theta = atan2(r,self.z)\n",
    "    return r, theta, fi    "
   ]
  },
  {
   "cell_type": "code",
   "execution_count": 26,
   "metadata": {
    "autoscroll": false,
    "ein.hycell": false,
    "ein.tags": "worksheet-0",
    "slideshow": {
     "slide_type": "-"
    }
   },
   "outputs": [],
   "source": [
    "c2 = Coordenada3D(0.3, 0.3, 1)"
   ]
  },
  {
   "cell_type": "code",
   "execution_count": 28,
   "metadata": {
    "autoscroll": false,
    "ein.hycell": false,
    "ein.tags": "worksheet-0",
    "slideshow": {
     "slide_type": "-"
    }
   },
   "outputs": [
    {
     "name": "stdout",
     "output_type": "stream",
     "text": [
      "(x = 0.3, y = 0.3, z = 1)\n"
     ]
    }
   ],
   "source": [
    "print(c2)"
   ]
  },
  {
   "cell_type": "code",
   "execution_count": 29,
   "metadata": {},
   "outputs": [
    {
     "data": {
      "text/plain": [
       "'punto: (x = 0.3, y = 0.3, z = 1)'"
      ]
     },
     "execution_count": 29,
     "metadata": {},
     "output_type": "execute_result"
    }
   ],
   "source": [
    "ss = 'punto: {}'.format(c2)\n",
    "ss"
   ]
  },
  {
   "cell_type": "code",
   "execution_count": 30,
   "metadata": {
    "autoscroll": false,
    "ein.hycell": false,
    "ein.tags": "worksheet-0",
    "slideshow": {
     "slide_type": "-"
    }
   },
   "outputs": [
    {
     "data": {
      "text/plain": [
       "<__main__.Coordenada3D at 0x7ff428f4af60>"
      ]
     },
     "execution_count": 30,
     "metadata": {},
     "output_type": "execute_result"
    }
   ],
   "source": [
    "c2"
   ]
  },
  {
   "cell_type": "markdown",
   "metadata": {
    "ein.tags": "worksheet-0",
    "slideshow": {
     "slide_type": "-"
    }
   },
   "source": [
    "Como vemos, si no usamos la función `print()` sigue mostrándonos el objeto (que no es muy informativo). Esto puede remediarse agregando el método especial `__repr__`. Este método es el que se llama cuando queremos inspeccionar un objeto. El objetivo de este método es que de información sin ambigüedades."
   ]
  },
  {
   "cell_type": "code",
   "execution_count": 31,
   "metadata": {
    "autoscroll": false,
    "ein.hycell": false,
    "ein.tags": "worksheet-0",
    "slideshow": {
     "slide_type": "-"
    }
   },
   "outputs": [],
   "source": [
    "class Coordenada3D(Coordenada):\n",
    "  \"Representa un punto en el espacio\"\n",
    "\n",
    "  def __init__(self, x, y, z):\n",
    "    Coordenada.__init__(self,x,y)\n",
    "    self.z = z\n",
    "\n",
    "  def __str__(self):\n",
    "    s = \"(x = {}, y = {}, z = {})\".format(self.x, self.y, self.z)\n",
    "    return s\n",
    "    \n",
    "  def __repr__(self):\n",
    "    return \"Coordenada3D(x={}, y={}, z={})\".format(self.x, self.y, self.z)\n",
    "\n",
    "  def a_cilindricas(self):\n",
    "    \"\"\"Devuelve las coordenadas cilíndricas (r, theta, z) del punto \"\"\"\n",
    "    r, theta= self.a_polares()\n",
    "    return r, theta, self.z\n",
    "\n",
    "  def a_esfericas(self):\n",
    "    \"\"\"Devuelve las coordenadas esféricas (r, theta, phi) del punto \"\"\"\n",
    "    rho,fi= self.a_polares()\n",
    "    r = sqrt(rho**2 + self.z**2)\n",
    "    theta = atan2(r,self.z)\n",
    "    return r, theta, fi\n"
   ]
  },
  {
   "cell_type": "code",
   "execution_count": 32,
   "metadata": {
    "autoscroll": false,
    "ein.hycell": false,
    "ein.tags": "worksheet-0",
    "slideshow": {
     "slide_type": "-"
    }
   },
   "outputs": [],
   "source": [
    "c3 = Coordenada3D(0.3, 0.3, 1)"
   ]
  },
  {
   "cell_type": "code",
   "execution_count": 33,
   "metadata": {
    "autoscroll": false,
    "ein.hycell": false,
    "ein.tags": "worksheet-0",
    "slideshow": {
     "slide_type": "-"
    }
   },
   "outputs": [
    {
     "data": {
      "text/plain": [
       "Coordenada3D(x=0.3, y=0.3, z=1)"
      ]
     },
     "execution_count": 33,
     "metadata": {},
     "output_type": "execute_result"
    }
   ],
   "source": [
    "c3"
   ]
  },
  {
   "cell_type": "code",
   "execution_count": 34,
   "metadata": {
    "autoscroll": false,
    "ein.hycell": false,
    "ein.tags": "worksheet-0",
    "slideshow": {
     "slide_type": "-"
    }
   },
   "outputs": [
    {
     "name": "stdout",
     "output_type": "stream",
     "text": [
      "(x = 0.3, y = 0.3, z = 1)\n"
     ]
    }
   ],
   "source": [
    "print(c3)"
   ]
  },
  {
   "cell_type": "code",
   "execution_count": 35,
   "metadata": {
    "autoscroll": false,
    "ein.hycell": false,
    "ein.tags": "worksheet-0",
    "slideshow": {
     "slide_type": "-"
    }
   },
   "outputs": [
    {
     "data": {
      "text/plain": [
       "Coordenada3D(x=5, y=0.3, z=1)"
      ]
     },
     "execution_count": 35,
     "metadata": {},
     "output_type": "execute_result"
    }
   ],
   "source": [
    "c3.x = 5\n",
    "c3"
   ]
  },
  {
   "cell_type": "markdown",
   "metadata": {
    "ein.tags": "worksheet-0",
    "slideshow": {
     "slide_type": "-"
    }
   },
   "source": [
    "Como vemos ahora tenemos una representación del objeto.\n",
    "\n",
    "### Método `__call__`\n",
    "\n",
    "Este método, si existe es ejecutado cuando llamamos al objeto. Si no existe, es un error llamar al objeto:"
   ]
  },
  {
   "cell_type": "code",
   "execution_count": 36,
   "metadata": {
    "autoscroll": false,
    "ein.hycell": false,
    "ein.tags": "worksheet-0",
    "slideshow": {
     "slide_type": "-"
    }
   },
   "outputs": [
    {
     "ename": "TypeError",
     "evalue": "'Coordenada3D' object is not callable",
     "output_type": "error",
     "traceback": [
      "\u001b[0;31m---------------------------------------------------------------------------\u001b[0m",
      "\u001b[0;31mTypeError\u001b[0m                                 Traceback (most recent call last)",
      "\u001b[0;32m<ipython-input-36-870d3f72d4ef>\u001b[0m in \u001b[0;36m<module>\u001b[0;34m()\u001b[0m\n\u001b[0;32m----> 1\u001b[0;31m \u001b[0mc3\u001b[0m\u001b[0;34m(\u001b[0m\u001b[0;34m)\u001b[0m\u001b[0;34m\u001b[0m\u001b[0;34m\u001b[0m\u001b[0m\n\u001b[0m",
      "\u001b[0;31mTypeError\u001b[0m: 'Coordenada3D' object is not callable"
     ]
    }
   ],
   "source": [
    "c3()"
   ]
  },
  {
   "cell_type": "code",
   "execution_count": 37,
   "metadata": {
    "autoscroll": false,
    "ein.hycell": false,
    "ein.tags": "worksheet-0",
    "slideshow": {
     "slide_type": "-"
    }
   },
   "outputs": [],
   "source": [
    "class Coordenada3D(Coordenada):\n",
    "  \"Representa un punto en el espacio\"\n",
    "\n",
    "  def __init__(self, x, y, z):\n",
    "    Coordenada.__init__(self,x,y)\n",
    "    self.z = z\n",
    "\n",
    "  def __str__(self):\n",
    "    s = \"(x = {}, y = {}, z = {})\".format(self.x, self.y, self.z)\n",
    "    return s\n",
    "    \n",
    "  def __repr__(self):\n",
    "    return \"Coordenada3D(x={}, y={}, z={})\".format(self.x, self.y, self.z)\n",
    "\n",
    "  def a_cilindricas(self):\n",
    "    \"\"\"Devuelve las coordenadas cilíndricas (r, theta, z) del punto \"\"\"\n",
    "    r, theta= super().a_polares()\n",
    "    return r, theta, self.z\n",
    "\n",
    "  def a_esfericas(self):\n",
    "    \"\"\"Devuelve las coordenadas esféricas (r, theta, phi) del punto \"\"\"\n",
    "    rho,fi= self.a_polares()\n",
    "    r = sqrt(rho**2 + self.z**2)\n",
    "    theta = atan2(r,self.z)\n",
    "    return r, theta, fi\n",
    "\n",
    "  def __call__(self):\n",
    "    return self.a_esfericas()\n"
   ]
  },
  {
   "cell_type": "code",
   "execution_count": 38,
   "metadata": {
    "autoscroll": false,
    "ein.hycell": false,
    "ein.tags": "worksheet-0",
    "slideshow": {
     "slide_type": "-"
    }
   },
   "outputs": [],
   "source": [
    "c4 = Coordenada3D(0.3, 0.3, 1)"
   ]
  },
  {
   "cell_type": "code",
   "execution_count": 39,
   "metadata": {
    "autoscroll": false,
    "ein.hycell": false,
    "ein.tags": "worksheet-0",
    "slideshow": {
     "slide_type": "-"
    }
   },
   "outputs": [
    {
     "data": {
      "text/plain": [
       "(1.0862780491200215, 0.8267296217170829, 0.7853981633974483)"
      ]
     },
     "execution_count": 39,
     "metadata": {},
     "output_type": "execute_result"
    }
   ],
   "source": [
    "c4()"
   ]
  },
  {
   "cell_type": "code",
   "execution_count": 40,
   "metadata": {
    "autoscroll": false,
    "ein.hycell": false,
    "ein.tags": "worksheet-0",
    "slideshow": {
     "slide_type": "-"
    }
   },
   "outputs": [
    {
     "data": {
      "text/plain": [
       "Coordenada3D(x=0.3, y=0.3, z=1)"
      ]
     },
     "execution_count": 40,
     "metadata": {},
     "output_type": "execute_result"
    }
   ],
   "source": [
    "c4"
   ]
  },
  {
   "cell_type": "code",
   "execution_count": 41,
   "metadata": {
    "autoscroll": false,
    "ein.hycell": false,
    "ein.tags": "worksheet-0",
    "slideshow": {
     "slide_type": "-"
    }
   },
   "outputs": [
    {
     "name": "stdout",
     "output_type": "stream",
     "text": [
      "(x = 0.3, y = 0.3, z = 1)\n"
     ]
    }
   ],
   "source": [
    "print(c4)"
   ]
  },
  {
   "cell_type": "markdown",
   "metadata": {
    "ein.tags": "worksheet-0",
    "slideshow": {
     "slide_type": "-"
    }
   },
   "source": [
    "Notemos que acá modificamos la definición del método `a_cilindricas()` usando la función `super`\n",
    "\n",
    "```python\n",
    "  def a_cilindricas(self):\n",
    "    \"\"\"Devuelve las coordenadas cilíndricas (r, theta, z) del punto \"\"\"\n",
    "    r, theta= super().a_polares()\n",
    "    return r, theta, self.z\n",
    "  ```\n",
    "\n",
    "  La función `super` retorna el objeto del mismo nombre (en este caso `a_polares`) de la clase madre."
   ]
  },
  {
   "cell_type": "code",
   "execution_count": 42,
   "metadata": {
    "autoscroll": false,
    "ein.hycell": false,
    "ein.tags": "worksheet-0",
    "slideshow": {
     "slide_type": "-"
    }
   },
   "outputs": [
    {
     "data": {
      "text/plain": [
       "(0.4242640687119285, 0.7853981633974483, 1)"
      ]
     },
     "execution_count": 42,
     "metadata": {},
     "output_type": "execute_result"
    }
   ],
   "source": [
    "c4.a_cilindricas()"
   ]
  },
  {
   "cell_type": "code",
   "execution_count": 49,
   "metadata": {},
   "outputs": [
    {
     "data": {
      "text/plain": [
       "Coordenada3D(x=0.3, y=0.3, z=1)"
      ]
     },
     "execution_count": 49,
     "metadata": {},
     "output_type": "execute_result"
    }
   ],
   "source": [
    "c4"
   ]
  }
 ],
 "metadata": {
  "kernelspec": {
   "display_name": "Python 3",
   "language": "python",
   "name": "python3"
  },
  "language_info": {
   "codemirror_mode": {
    "name": "ipython",
    "version": 3
   },
   "file_extension": ".py",
   "mimetype": "text/x-python",
   "name": "python",
   "nbconvert_exporter": "python",
   "pygments_lexer": "ipython3",
   "version": "3.7.4"
  },
  "name": "06_objetos.ipynb",
  "toc": {
   "base_numbering": 1,
   "nav_menu": {
    "height": "132.3px",
    "width": "251.5px"
   },
   "number_sections": true,
   "sideBar": true,
   "skip_h1_title": false,
   "title_cell": "Contenidos",
   "title_sidebar": "Contenidos",
   "toc_cell": false,
   "toc_position": null,
   "toc_section_display": true,
   "toc_window_display": false
  }
 },
 "nbformat": 4,
 "nbformat_minor": 1
}
