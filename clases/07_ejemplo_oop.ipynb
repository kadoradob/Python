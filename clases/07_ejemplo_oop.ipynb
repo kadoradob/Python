{
 "cells": [
  {
   "cell_type": "markdown",
   "metadata": {
    "ein.tags": "worksheet-0",
    "slideshow": {
     "slide_type": "-"
    }
   },
   "source": [
    "# Programación orientada a objetos\n",
    "\n",
    "## Ejemplo: OOP\n",
    "\n",
    "En este ejemplo queremos hacer un programa para manejar toda la información relativa a un equipo de fútbol femenino.\n",
    "\n",
    "Una manera de manejar este problema sería tipo \"hoja de cálculo\". Una matriz donde cada fila corresponde a una jugadora, y cada columna corresponde a un dato diferente."
   ]
  },
  {
   "cell_type": "code",
   "execution_count": 1,
   "metadata": {
    "autoscroll": false,
    "ein.hycell": false,
    "ein.tags": "worksheet-0",
    "slideshow": {
     "slide_type": "-"
    }
   },
   "outputs": [],
   "source": [
    "# Primera columna: Nombre\n",
    "# Segunda Columna: Apellido\n",
    "# Tercera Columna: DNI\n",
    "# Cuarta Columna: Posición en que juega\n",
    "socias = [('Vanina', 'Correa', 33333333, 'Arquera', 1),\n",
    "          ('Laurina', 'Oliveros', 39111111, 'Arquera', 2),\n",
    "          ('Gabriela', 'Garton', 36999999, 'Arquera',3)]"
   ]
  },
  {
   "cell_type": "code",
   "execution_count": 2,
   "metadata": {
    "autoscroll": false,
    "ein.hycell": false,
    "ein.tags": "worksheet-0",
    "slideshow": {
     "slide_type": "-"
    }
   },
   "outputs": [
    {
     "name": "stdout",
     "output_type": "stream",
     "text": [
      "Número total de jugadoras 3\n",
      "Laurina\n",
      "Oliveros\n",
      "39111111\n",
      "Arquera\n",
      "2\n"
     ]
    }
   ],
   "source": [
    "print('Número total de jugadoras', len(socias))\n",
    "for v in socias[1]:\n",
    "  print(v)"
   ]
  },
  {
   "cell_type": "markdown",
   "metadata": {
    "ein.tags": "worksheet-0",
    "slideshow": {
     "slide_type": "-"
    }
   },
   "source": [
    "Si queremos agregar una jugadora, podemos usar `append`\n"
   ]
  },
  {
   "cell_type": "code",
   "execution_count": 3,
   "metadata": {
    "autoscroll": false,
    "ein.hycell": false,
    "ein.tags": "worksheet-0",
    "slideshow": {
     "slide_type": "-"
    }
   },
   "outputs": [],
   "source": [
    "socias.append(('Agustina', 'Barroso',38011011,'Defensora',4))"
   ]
  },
  {
   "cell_type": "code",
   "execution_count": 4,
   "metadata": {
    "autoscroll": false,
    "ein.hycell": false,
    "ein.tags": "worksheet-0",
    "scrolled": true,
    "slideshow": {
     "slide_type": "-"
    }
   },
   "outputs": [
    {
     "name": "stdout",
     "output_type": "stream",
     "text": [
      "Número total de jugadoras 4\n",
      "[('Vanina', 'Correa', 33333333, 'Arquera', 1), ('Laurina', 'Oliveros', 39111111, 'Arquera', 2), ('Gabriela', 'Garton', 36999999, 'Arquera', 3), ('Agustina', 'Barroso', 38011011, 'Defensora', 4)]\n"
     ]
    }
   ],
   "source": [
    "print('Número total de jugadoras', len(socias))\n",
    "print(socias)"
   ]
  },
  {
   "cell_type": "markdown",
   "metadata": {
    "ein.tags": "worksheet-0",
    "slideshow": {
     "slide_type": "-"
    }
   },
   "source": [
    "Sin embargo es claro que esta no es una solución óptima.\n",
    "\n",
    "En primer lugar, es engorroso agregar jugadoras. Pero es aún más engorroso agregar detalles a cada jugadora, porque tenemos que encontrar la jugadora correcta y luego agregar \"columnas\". En casos como este puede ser mucho más conveniente usar **diccionarios**, o mejor aún definir un nuevo objeto basado en diccionarios."
   ]
  },
  {
   "cell_type": "code",
   "execution_count": 5,
   "metadata": {
    "autoscroll": false,
    "ein.hycell": false,
    "ein.tags": "worksheet-0",
    "slideshow": {
     "slide_type": "-"
    }
   },
   "outputs": [],
   "source": [
    "\"\"\"Ejemplo de uso de programación orientada a objetos.\n",
    "Descripción de participantes de un club de fútbol. Versión 1.\n",
    "\"\"\"\n",
    "class Socie(dict):\n",
    "  \"\"\"Socie es un objeto que contiene toda la información sobre cada asociade al club\n",
    "  \"\"\"\n",
    "  # dP describe los campos relevantes \n",
    "  dP = ['nombre', 'apellido', 'dni', 'tel', 'email', 'contacto',\n",
    "        'idsoc',                # Número de asociado\n",
    "        'cuotas',               # Cuotas pagas\n",
    "        'asistencia',           # Contamos si asiste a entreanamientos\n",
    "        'posicion'              # Posición en que juega\n",
    "  ]\n",
    "  def __init__(self, datos={}):\n",
    "    for k in self.dP:\n",
    "      self[k] = datos.get(k,None)\n",
    "\n"
   ]
  },
  {
   "cell_type": "code",
   "execution_count": 6,
   "metadata": {
    "autoscroll": false,
    "ein.hycell": false,
    "ein.tags": "worksheet-0",
    "slideshow": {
     "slide_type": "-"
    }
   },
   "outputs": [],
   "source": [
    "  \n",
    "d = {'nombre': 'Vanina', 'apellido':'Correa', 'dni':33333333, 'posicion': 'Arquera', 'idsoc': 1}\n",
    "s = Socie(d)\n"
   ]
  },
  {
   "cell_type": "code",
   "execution_count": 7,
   "metadata": {
    "autoscroll": false,
    "ein.hycell": false,
    "ein.tags": "worksheet-0",
    "slideshow": {
     "slide_type": "-"
    }
   },
   "outputs": [
    {
     "name": "stdout",
     "output_type": "stream",
     "text": [
      "Nombre: Vanina\n",
      "Apellido: Correa\n",
      "Dni: 33333333\n",
      "Tel: None\n",
      "Email: None\n",
      "Contacto: None\n",
      "Idsoc: 1\n",
      "Cuotas: None\n",
      "Asistencia: None\n",
      "Posicion: Arquera\n"
     ]
    }
   ],
   "source": [
    "for k, v in s.items():\n",
    "  print('{}: {}'.format(k.capitalize(), v))\n",
    "    \n",
    "\n",
    "\n",
    "  \n"
   ]
  },
  {
   "cell_type": "code",
   "execution_count": 8,
   "metadata": {},
   "outputs": [
    {
     "data": {
      "text/plain": [
       "{'nombre': 'Vanina',\n",
       " 'apellido': 'Correa',\n",
       " 'dni': 33333333,\n",
       " 'posicion': 'Arquera',\n",
       " 'idsoc': 1}"
      ]
     },
     "execution_count": 8,
     "metadata": {},
     "output_type": "execute_result"
    }
   ],
   "source": [
    "d"
   ]
  },
  {
   "cell_type": "code",
   "execution_count": 9,
   "metadata": {},
   "outputs": [
    {
     "data": {
      "text/plain": [
       "{'nombre': 'Vanina',\n",
       " 'apellido': 'Correa',\n",
       " 'dni': 33333333,\n",
       " 'tel': None,\n",
       " 'email': None,\n",
       " 'contacto': None,\n",
       " 'idsoc': 1,\n",
       " 'cuotas': None,\n",
       " 'asistencia': None,\n",
       " 'posicion': 'Arquera'}"
      ]
     },
     "execution_count": 9,
     "metadata": {},
     "output_type": "execute_result"
    }
   ],
   "source": [
    "s"
   ]
  },
  {
   "cell_type": "code",
   "execution_count": null,
   "metadata": {},
   "outputs": [],
   "source": []
  },
  {
   "cell_type": "markdown",
   "metadata": {
    "ein.tags": "worksheet-0",
    "slideshow": {
     "slide_type": "-"
    }
   },
   "source": [
    "Como vemos, no necesitamos acordarnos a qué corresponde cada columna."
   ]
  },
  {
   "cell_type": "code",
   "execution_count": 10,
   "metadata": {
    "autoscroll": false,
    "ein.hycell": false,
    "ein.tags": "worksheet-0",
    "slideshow": {
     "slide_type": "-"
    }
   },
   "outputs": [],
   "source": [
    "class DatosPersonales(dict):\n",
    "  \"\"\"DatosPersonales es un objeto que contiene toda la información sobre los datos personales de cada asociado\n",
    "  \"\"\"\n",
    "  _dP = ['nombre', 'apellido', 'dni', 'tel', 'email', 'contacto']\n",
    "  def __init__(self, datos={}):\n",
    "    for k in self._dP:\n",
    "      self[k] = datos.get(k,None)\n",
    "\n",
    "class Socie(dict):\n",
    "  \"\"\"Socie es un objeto que contiene toda la información sobre cada asociade al club\n",
    "  \"\"\"\n",
    "  # dP describe los campos relevantes \n",
    "  _info = ['idsoc',                # Número de asociado\n",
    "        'cuotas',               # Cuotas pagas\n",
    "        'asistencia',           # Contamos si asiste a entreanamientos\n",
    "        'posicion'              # Posición en que juega\n",
    "  ]\n",
    "\n",
    "  def __init__(self, datos={}):\n",
    "    self.personal = DatosPersonales(datos)\n",
    "    for k in self._info:\n",
    "      self[k] = datos.get(k,None)\n"
   ]
  },
  {
   "cell_type": "code",
   "execution_count": 11,
   "metadata": {
    "autoscroll": false,
    "ein.hycell": false,
    "ein.tags": "worksheet-0",
    "slideshow": {
     "slide_type": "-"
    }
   },
   "outputs": [],
   "source": [
    "d = {'nombre': 'Vanina', 'apellido':'Correa', 'dni':33333333, 'idsoc':3, 'posicion':'arquera'}\n",
    "s = Socie(d)\n"
   ]
  },
  {
   "cell_type": "code",
   "execution_count": 14,
   "metadata": {
    "autoscroll": false,
    "ein.hycell": false,
    "ein.tags": "worksheet-0",
    "slideshow": {
     "slide_type": "-"
    }
   },
   "outputs": [
    {
     "name": "stdout",
     "output_type": "stream",
     "text": [
      "{'idsoc': 3, 'cuotas': None, 'asistencia': None, 'posicion': 'arquera'}\n"
     ]
    }
   ],
   "source": [
    "print(s)"
   ]
  },
  {
   "cell_type": "code",
   "execution_count": 13,
   "metadata": {
    "autoscroll": false,
    "ein.hycell": false,
    "ein.tags": "worksheet-0",
    "slideshow": {
     "slide_type": "-"
    }
   },
   "outputs": [
    {
     "data": {
      "text/plain": [
       "{'nombre': 'Vanina',\n",
       " 'apellido': 'Correa',\n",
       " 'dni': 33333333,\n",
       " 'tel': None,\n",
       " 'email': None,\n",
       " 'contacto': None}"
      ]
     },
     "execution_count": 13,
     "metadata": {},
     "output_type": "execute_result"
    }
   ],
   "source": [
    "s.personal"
   ]
  },
  {
   "cell_type": "code",
   "execution_count": 15,
   "metadata": {
    "autoscroll": false,
    "ein.hycell": false,
    "ein.tags": "worksheet-0",
    "slideshow": {
     "slide_type": "-"
    }
   },
   "outputs": [],
   "source": [
    "class DatosPersonales(dict):\n",
    "  \"\"\"DatosPersonales es un objeto que contiene toda la información sobre los datos personales de cada asociado\n",
    "  \"\"\"\n",
    "  _dP = ['nombre', 'apellido', 'dni', 'tel', 'email', 'contacto']\n",
    "  def __init__(self, datos={}):\n",
    "    super(DatosPersonales, self).__init__()\n",
    "    for k in self._dP:\n",
    "      self[k] = datos.get(k,None)\n",
    "\n",
    "class Socie(dict):\n",
    "  \"\"\"Socie es un objeto que contiene toda la información sobre cada asociade al club\n",
    "  \"\"\"\n",
    "  # dP describe los campos relevantes \n",
    "  _info = ['idsoc',                # Número de asociado\n",
    "        'cuotas',               # Cuotas pagas\n",
    "        'asistencia',           # Contamos si asiste a entreanamientos\n",
    "        'posicion'              # Posición en que juega\n",
    "  ]\n",
    "\n",
    "  def __init__(self, datos={}):\n",
    "    self.personal = DatosPersonales(datos)\n",
    "    for k in self._info:\n",
    "      self[k] = datos.get(k,None)\n",
    "\n",
    "  def print(self):\n",
    "    s = ''\n",
    "    for k, v in self.items():\n",
    "      s += '{}: {}\\n'.format(k.capitalize(), v)\n",
    "    print(s)"
   ]
  },
  {
   "cell_type": "code",
   "execution_count": 16,
   "metadata": {
    "autoscroll": false,
    "ein.hycell": false,
    "ein.tags": "worksheet-0",
    "slideshow": {
     "slide_type": "-"
    }
   },
   "outputs": [],
   "source": [
    "d = {'nombre': 'Vanina', 'apellido':'Correa', 'dni':33333333, 'idsoc':3, 'posicion':'arquera'}\n",
    "s = Socie(d)\n"
   ]
  },
  {
   "cell_type": "code",
   "execution_count": 17,
   "metadata": {
    "autoscroll": false,
    "ein.hycell": false,
    "ein.tags": "worksheet-0",
    "slideshow": {
     "slide_type": "-"
    }
   },
   "outputs": [
    {
     "data": {
      "text/plain": [
       "{'idsoc': 3, 'cuotas': None, 'asistencia': None, 'posicion': 'arquera'}"
      ]
     },
     "execution_count": 17,
     "metadata": {},
     "output_type": "execute_result"
    }
   ],
   "source": [
    "s"
   ]
  },
  {
   "cell_type": "code",
   "execution_count": 18,
   "metadata": {
    "autoscroll": false,
    "ein.hycell": false,
    "ein.tags": "worksheet-0",
    "slideshow": {
     "slide_type": "-"
    }
   },
   "outputs": [
    {
     "name": "stdout",
     "output_type": "stream",
     "text": [
      "{'idsoc': 3, 'cuotas': None, 'asistencia': None, 'posicion': 'arquera'}\n"
     ]
    }
   ],
   "source": [
    "print(s)"
   ]
  },
  {
   "cell_type": "code",
   "execution_count": 19,
   "metadata": {
    "autoscroll": false,
    "ein.hycell": false,
    "ein.tags": "worksheet-0",
    "slideshow": {
     "slide_type": "-"
    }
   },
   "outputs": [
    {
     "name": "stdout",
     "output_type": "stream",
     "text": [
      "Idsoc: 3\n",
      "Cuotas: None\n",
      "Asistencia: None\n",
      "Posicion: arquera\n",
      "\n"
     ]
    }
   ],
   "source": [
    "s.print()"
   ]
  },
  {
   "cell_type": "markdown",
   "metadata": {
    "ein.tags": "worksheet-0",
    "slideshow": {
     "slide_type": "-"
    }
   },
   "source": [
    "¿Qué pasó acá?\n",
    "\n",
    "Básicamente que los datos personales están encapsulados en el atributo `personal`. Voy a pedir que también lo muestre cuando imprima:"
   ]
  },
  {
   "cell_type": "code",
   "execution_count": 20,
   "metadata": {
    "autoscroll": false,
    "ein.hycell": false,
    "ein.tags": "worksheet-0",
    "slideshow": {
     "slide_type": "-"
    }
   },
   "outputs": [],
   "source": [
    "class DatosPersonales(dict):\n",
    "  \"\"\"DatosPersonales es un objeto que contiene toda la información sobre los datos personales de cada asociado\n",
    "  \"\"\"\n",
    "  _dP = ['nombre', 'apellido', 'dni', 'tel', 'email', 'contacto']\n",
    "  def __init__(self, datos={}):\n",
    "    super(DatosPersonales, self).__init__()\n",
    "    for k in self._dP:\n",
    "      self[k] = datos.get(k,None)\n",
    "\n",
    "class Socie(dict):\n",
    "  \"\"\"Socie es un objeto que contiene toda la información sobre cada asociade al club\n",
    "  \"\"\"\n",
    "  # dP describe los campos relevantes \n",
    "  _info = ['idsoc',                # Número de asociado\n",
    "        'cuotas',               # Cuotas pagas\n",
    "        'asistencia',           # Contamos si asiste a entreanamientos\n",
    "        'posicion'              # Posición en que juega\n",
    "  ]\n",
    "\n",
    "  def __init__(self, datos={}):\n",
    "    self.personal = DatosPersonales(datos)\n",
    "    for k in self._info:\n",
    "      self[k] = datos.get(k,None)\n",
    "\n",
    "  def print(self):\n",
    "    s = 'Datos Personales\\n----- ----------\\n'\n",
    "    for k, v in self.personal.items():\n",
    "      s += '{}: {}\\n'.format(k.capitalize(), v)\n",
    "    s += '\\nEstado actual:\\n'\n",
    "    for k, v in self.items():\n",
    "      s += '{}: {}\\n'.format(k.capitalize(), v)\n",
    "    print(s)\n"
   ]
  },
  {
   "cell_type": "code",
   "execution_count": 21,
   "metadata": {
    "autoscroll": false,
    "ein.hycell": false,
    "ein.tags": "worksheet-0",
    "slideshow": {
     "slide_type": "-"
    }
   },
   "outputs": [],
   "source": [
    "d = {'nombre': 'Vanina', 'apellido':'Correa', 'dni':33333333, 'idsoc':3, 'posicion':'arquera'}\n",
    "s = Socie(d)\n"
   ]
  },
  {
   "cell_type": "code",
   "execution_count": 22,
   "metadata": {
    "autoscroll": false,
    "ein.hycell": false,
    "ein.tags": "worksheet-0",
    "slideshow": {
     "slide_type": "-"
    }
   },
   "outputs": [
    {
     "name": "stdout",
     "output_type": "stream",
     "text": [
      "Datos Personales\n",
      "----- ----------\n",
      "Nombre: Vanina\n",
      "Apellido: Correa\n",
      "Dni: 33333333\n",
      "Tel: None\n",
      "Email: None\n",
      "Contacto: None\n",
      "\n",
      "Estado actual:\n",
      "Idsoc: 3\n",
      "Cuotas: None\n",
      "Asistencia: None\n",
      "Posicion: arquera\n",
      "\n"
     ]
    }
   ],
   "source": [
    "s.print()"
   ]
  },
  {
   "cell_type": "markdown",
   "metadata": {
    "ein.tags": "worksheet-0",
    "slideshow": {
     "slide_type": "-"
    }
   },
   "source": [
    "Como vemos, podemos definir cómo queremos imprimir los datos de una jugadora.\n",
    "\n",
    "Pero eso es exactamente lo que hace el método `__str__`"
   ]
  },
  {
   "cell_type": "code",
   "execution_count": 23,
   "metadata": {
    "autoscroll": false,
    "ein.hycell": false,
    "ein.tags": "worksheet-0",
    "slideshow": {
     "slide_type": "-"
    }
   },
   "outputs": [],
   "source": [
    "class DatosPersonales(dict):\n",
    "  \"\"\"DatosPersonales es un objeto que contiene toda la información sobre los datos personales de cada asociado\n",
    "  \"\"\"\n",
    "  _dP = ['nombre', 'apellido', 'dni', 'tel', 'email', 'contacto']\n",
    "  def __init__(self, datos={}):\n",
    "    super(DatosPersonales, self).__init__()\n",
    "    for k in self._dP:\n",
    "      self[k] = datos.get(k,None)\n",
    "\n",
    "class Socie(dict):\n",
    "  \"\"\"Socie es un objeto que contiene toda la información sobre cada asociade al club\n",
    "  \"\"\"\n",
    "  # dP describe los campos relevantes \n",
    "  _info = ['idsoc',                # Número de asociado\n",
    "        'cuotas',               # Cuotas pagas\n",
    "        'asistencia',           # Contamos si asiste a entreanamientos\n",
    "        'posicion'              # Posición en que juega\n",
    "  ]\n",
    "\n",
    "  def __init__(self, datos={}):\n",
    "    self.personal = DatosPersonales(datos)\n",
    "    for k in self._info:\n",
    "      self[k] = datos.get(k,None)\n",
    "\n",
    "  def __str__(self):\n",
    "    s = 'Datos Personales\\n----- ----------\\n'\n",
    "    for k, v in self.personal.items():\n",
    "      s += '{}: {}\\n'.format(k.capitalize(), v)\n",
    "    s += '\\nEstado actual:\\n'\n",
    "    for k, v in self.items():\n",
    "      s += '{}: {}\\n'.format(k.capitalize(), v)\n",
    "    return s\n"
   ]
  },
  {
   "cell_type": "code",
   "execution_count": 24,
   "metadata": {
    "autoscroll": false,
    "ein.hycell": false,
    "ein.tags": "worksheet-0",
    "slideshow": {
     "slide_type": "-"
    }
   },
   "outputs": [],
   "source": [
    "d = {'nombre': 'Vanina', 'apellido':'Correa', 'dni':33333333, 'idsoc':3, 'posicion':'arquera'}\n",
    "s = Socie(d)\n"
   ]
  },
  {
   "cell_type": "code",
   "execution_count": 25,
   "metadata": {
    "autoscroll": false,
    "ein.hycell": false,
    "ein.tags": "worksheet-0",
    "slideshow": {
     "slide_type": "-"
    }
   },
   "outputs": [
    {
     "name": "stdout",
     "output_type": "stream",
     "text": [
      "Datos Personales\n",
      "----- ----------\n",
      "Nombre: Vanina\n",
      "Apellido: Correa\n",
      "Dni: 33333333\n",
      "Tel: None\n",
      "Email: None\n",
      "Contacto: None\n",
      "\n",
      "Estado actual:\n",
      "Idsoc: 3\n",
      "Cuotas: None\n",
      "Asistencia: None\n",
      "Posicion: arquera\n",
      "\n"
     ]
    }
   ],
   "source": [
    "print(s)"
   ]
  },
  {
   "cell_type": "markdown",
   "metadata": {
    "ein.tags": "worksheet-0",
    "slideshow": {
     "slide_type": "-"
    }
   },
   "source": [
    "## Ejercicio\n",
    "\n",
    "En nuestro ejemplo quedó un problema. Cuando representamos el objeto, en la forma:"
   ]
  },
  {
   "cell_type": "code",
   "execution_count": 26,
   "metadata": {
    "autoscroll": false,
    "ein.hycell": false,
    "ein.tags": "worksheet-0",
    "slideshow": {
     "slide_type": "-"
    }
   },
   "outputs": [
    {
     "data": {
      "text/plain": [
       "{'idsoc': 3, 'cuotas': None, 'asistencia': None, 'posicion': 'arquera'}"
      ]
     },
     "execution_count": 26,
     "metadata": {},
     "output_type": "execute_result"
    }
   ],
   "source": [
    "s"
   ]
  },
  {
   "cell_type": "markdown",
   "metadata": {
    "autoscroll": false,
    "ein.hycell": false,
    "ein.tags": "worksheet-0",
    "slideshow": {
     "slide_type": "-"
    }
   },
   "source": [
    "no muestra nada respecto a los datos personales. Solucione esto."
   ]
  }
 ],
 "metadata": {
  "kernelspec": {
   "display_name": "Python 3",
   "language": "python",
   "name": "python3"
  },
  "language_info": {
   "codemirror_mode": {
    "name": "ipython",
    "version": 3
   },
   "file_extension": ".py",
   "mimetype": "text/x-python",
   "name": "python",
   "nbconvert_exporter": "python",
   "pygments_lexer": "ipython3",
   "version": "3.7.2"
  },
  "name": "07_ejemplo_oop.ipynb",
  "toc": {
   "base_numbering": 1,
   "nav_menu": {},
   "number_sections": true,
   "sideBar": true,
   "skip_h1_title": false,
   "title_cell": "Contenidos",
   "title_sidebar": "Contenidos",
   "toc_cell": false,
   "toc_position": {},
   "toc_section_display": true,
   "toc_window_display": false
  }
 },
 "nbformat": 4,
 "nbformat_minor": 2
}
