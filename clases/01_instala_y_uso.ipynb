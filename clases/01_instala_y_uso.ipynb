{
 "cells": [
  {
   "cell_type": "markdown",
   "metadata": {
    "ein.tags": "worksheet-0",
    "slideshow": {
     "slide_type": "-"
    }
   },
   "source": [
    "# Introducción al lenguaje\n",
    "\n",
    "## Cómo empezar: Instalación y uso\n",
    "\n",
    "**Python** es un lenguaje de programación interpretado, que se puede ejecutar sobre distintos sistemas operativos, esto se conoce como multiplataforma (suele usarse el término *cross-platform*). Además, la mayoría de los programas que existen (y posiblemente todos los que nosotros escribamos) pueden ejecutarse tanto en Linux como en windows y en Mac sin realizar ningún cambio.\n"
   ]
  },
  {
   "cell_type": "markdown",
   "metadata": {
    "ein.tags": "worksheet-0",
    "slideshow": {
     "slide_type": "-"
    }
   },
   "source": [
    "**Versiones:** Hay dos versiones activas del lenguaje Python.\n",
    "\n",
    "   - **Python2.X** (Python 2) es una versión madura, estable, y con muchas aplicaciones, y utilidades disponibles. No se desarrolla pero se corrigen los errores.\n",
    "\n",
    "   - **Python3.X** (Python 3) es la versión presente y futura. Se introdujo por primera vez en 2008, y produjo cambios incompatibles con Python 2. Por esa razón se mantienen ambas versiones y algunos de los desarrollos de Python 3 se *portan* a Python 2. En este momento la mayoría de las utilidades de Python 2 han sido modificadas para Python 3 por lo que, salvo muy contadas excepciones, no hay razones para seguir utilizando Python 2.\n",
    "\n"
   ]
  },
  {
   "cell_type": "markdown",
   "metadata": {
    "ein.tags": "worksheet-0",
    "slideshow": {
     "slide_type": "-"
    }
   },
   "source": [
    "### Instalación\n",
    "\n",
    "En este curso utilizaremos **Python 3**\n",
    "\n",
    "Para una instalación fácil de Python y los paquetes para uso científico se pueden usar alguna de las distribuciones:\n",
    "\n",
    "  - [Anaconda](https://www.anaconda.com/distribution).   (Linux, Windows, MacOs)\n",
    "  - [Canopy](http://www.enthought.com/product/canopy/).  (Linux, Windows, MacOs)\n",
    "  - [Winpython](https://winpython.github.io/).  (Windows)\n",
    "  - [Python(x,y)](http://python-xy.github.io).   (Windows, no actualizado desde 2015)\n",
    "\n",
    "En linux se podría instalar alguna de estas distribuciones pero puede ser más fácil instalar directamente todo lo necesario desde los repositorios. Por ejemplo en Ubuntu: \n",
    "\n",
    "    `sudo apt-get install ipython3 ipython3-notebook spyder python3-matplotlib python3-numpy python3-scipy`\n",
    "\n",
    "    o, en Fedora 28, en adelante:\n",
    "\n",
    "    `sudo dnf install python3-ipython python3-notebook python3-matplotlib python3-numpy python3-scipy`\n",
    "\n",
    "    \n",
    "  * Editores de Texto:\n",
    "    - En windows: [Notepad++](https://notepad-plus-plus.org), [Jedit](http://www.jedit.org/), ... (no Notepad o Wordpad)\n",
    "\n",
    "    - En Linux: cualquier editor de texto (gedit, geany, kate, nano, emacs, vim, ...)\n",
    "\n",
    "    - En Mac: TextEdit funciona, sino TextWrangler, [JEdit](http://www.jedit.org/), ...\n",
    "\n",
    "    \n",
    "  * Editores Multiplataforma e IDEs\n",
    "\n",
    "    - [spyder](https://github.com/spyder-ide/spyder/). (IDE - También viene con Anaconda, y con Python(x,y)).\n",
    "    - [Atom](https://atom.io/) Moderno editor de texto, extensible a través de paquetes (más de 3000).\n",
    "    - [Pycharm](https://www.jetbrains.com/pycharm/). (IDE, una versión comercial y una libre, ambos con muchas funcionalidades)\n",
    "\n",
    "\n",
    "### Documentación y ayudas\n",
    "\n",
    "Algunas fuentes de ayuda *constante* son:\n",
    "\n",
    "* [La documentación oficial de Python](https://docs.python.org/3/)\n",
    "* En particular el [Tutorial](https://docs.python.org/3/tutorial/), también [en español](http://docs.python.org.ar/tutorial/3/) y la [referencia de bibliotecas](https://docs.python.org/3/reference/index.html)\n",
    "* En una terminal, puede obtener información sobre un paquete con `pydoc <comando>`\n",
    "* En una consola interactiva de **Python**, mediante `help(<comando>)`\n",
    "* La documentación de los paquetes:\n",
    "    - [Numpy](http://docs.scipy.org/doc/numpy/user/)\n",
    "    - [Matplotlib](http://matplotlib.org), en particular la [galería](http://matplotlib.org/gallery.html)\n",
    "    - [Scipy](http://docs.scipy.org/doc/scipy/reference/)\n",
    "* Buscar \"palabras clave + python\" en un buscador. Es particularmente útil el sitio [stackoverflow](http://stackoverflow.com/)\n",
    "\n",
    "\n",
    "### Uso de Python: Interactivo o no\n",
    "\n",
    "\n",
    "#### Interfaces interactivas (consolas/terminales, notebooks)\n",
    "\n",
    "Hay muchas maneras de usar el lenguaje Python.  Es un lenguaje **interpretado** e **interactivo**. Si ejecutamos la consola (`cmd.exe` en windows) y luego `python`, se abrirá la consola interactiva\n",
    "\n",
    "![](figuras/console.png)\n",
    "\n",
    "En la consola interactiva podemos escribir sentencias o pequeños bloques de código que son ejecutados inmediatamente. Pero *la consola interactiva* estándar no tiene tantas características de conveniencia como otras, por ejemplo **IPython** que viene con \"accesorios de *comfort*\".\n",
    "\n",
    "![](figuras/ipython.png)\n",
    "\n",
    "La consola IPython supera a la estándar en muchos sentidos. Podemos autocompletar (`<TAB>`), ver ayuda rápida de cualquier objeto (`?`), etc. \n",
    "\n",
    "#### Programas/scripts\n",
    "\n",
    "Una forma muy común/poderosa de usar Python es en forma *no interactiva*, escribiendo *programas* o *scripts*. Esto es, escribir nuestro código en un archivo con extensión *.py* para luego ejecutarlo con el intérprete. Por ejemplo, podemos crear un archivo *hello.py* (al que se le llama *módulo*) con este contenido:\n",
    "\n",
    "    print(\"Hola Mundo!\")\n",
    "\n",
    "Si ejecutamos `python hello.py` o `ipython hello.py` se ejecutará el interprete Python y obtendremos el resultado esperado (impresión por pantalla de \"Hola Mundo!\", sin las comillas)\n",
    "\n",
    "\n",
    "**Python** no exige un editor específico y hay muchos modos y maneras de programar. Lo que es importante al programar en **Python** es que la *indentación* define los bloques (definición de loops, if/else, funciones, clases, etc). Por esa razón es importante que el tabulado no mezcle espacios con caracteres específicos de tabulación. La manera que recomendaría es usar siempre espacios (uno usa la tecla [TAB] pero el editor lo traduce a un número determinado de espacios).\n",
    "La indentación recomendada es de __4__ espacios (pero van a notar que yo uso **2**).\n",
    "\n",
    "Un buen editor es **Spyder** que tiene características de IDE (entorno integrado: editor + ayuda + consola interactiva). \n",
    "\n",
    "![](figuras/spyder.png)\n",
    "\n",
    "Otro entorno integrado, que funciona muy bien, viene instalado con **Canopy**.\n",
    "\n",
    "![](figuras/canopy-cluster.png)\n",
    "\n",
    "En ambos casos se puede ejecutar todo el módulo en la consola interactiva que incluye. Alternativamente, también se puede seleccionar **sólo** una porción del código para ejecutar.\n",
    "\n",
    "\n",
    "#### Notebooks de Jupyter\n",
    "\n",
    "Para trabajar en forma interactiva es muy útil usar los *Notebooks* de Jupyter. El notebook es un entorno interactivo enriquecido. Podemos crear y editar \"celdas\" código Python que se pueden editar y volver a ejecutar, se pueden intercalar celdas de texto, fórmulas matemáticas, y hacer que los gráficos se muestren inscrutados en la misma pantalla o en ventanas separadas. Además se puede escribir texto con formato (como este que estamos viendo) con secciones, títulos.\n",
    "Estos archivos se guardan con extensión *.ipynb*, que pueden exportarse en distintos formatos tales como html (estáticos), en formato PDF, LaTeX, o como código python puro. (.py)\n",
    "\n",
    "\n",
    "### Comandos de Ipython \n",
    "\n",
    "#### Comandos de Navegación\n",
    "\n",
    "IPython conoce varios de los comandos más comunes en Linux. En la terminal de IPython estos comandos funcionan independientemente del sistema operativo (sí, incluso en windows). Estos se conocen con el nombre de **comandos mágicos** y comienzan con el signo porcentaje `%`. Para obtener una lista de los comandos usamos `%lsmagic`:"
   ]
  },
  {
   "cell_type": "code",
   "execution_count": 40,
   "metadata": {
    "autoscroll": false,
    "ein.hycell": false,
    "ein.tags": "worksheet-0",
    "slideshow": {
     "slide_type": "-"
    }
   },
   "outputs": [
    {
     "data": {
      "application/json": {
       "cell": {
        "!": "OSMagics",
        "HTML": "Other",
        "SVG": "Other",
        "bash": "Other",
        "capture": "ExecutionMagics",
        "debug": "ExecutionMagics",
        "file": "Other",
        "html": "DisplayMagics",
        "javascript": "DisplayMagics",
        "js": "DisplayMagics",
        "latex": "DisplayMagics",
        "markdown": "DisplayMagics",
        "perl": "Other",
        "prun": "ExecutionMagics",
        "pypy": "Other",
        "python": "Other",
        "python2": "Other",
        "python3": "Other",
        "ruby": "Other",
        "script": "ScriptMagics",
        "sh": "Other",
        "svg": "DisplayMagics",
        "sx": "OSMagics",
        "system": "OSMagics",
        "time": "ExecutionMagics",
        "timeit": "ExecutionMagics",
        "writefile": "OSMagics"
       },
       "line": {
        "alias": "OSMagics",
        "alias_magic": "BasicMagics",
        "autocall": "AutoMagics",
        "automagic": "AutoMagics",
        "autosave": "KernelMagics",
        "bookmark": "OSMagics",
        "cat": "Other",
        "cd": "OSMagics",
        "clear": "KernelMagics",
        "colors": "BasicMagics",
        "config": "ConfigMagics",
        "connect_info": "KernelMagics",
        "cp": "Other",
        "debug": "ExecutionMagics",
        "dhist": "OSMagics",
        "dirs": "OSMagics",
        "doctest_mode": "BasicMagics",
        "ed": "Other",
        "edit": "KernelMagics",
        "env": "OSMagics",
        "gui": "BasicMagics",
        "hist": "Other",
        "history": "HistoryMagics",
        "killbgscripts": "ScriptMagics",
        "ldir": "Other",
        "less": "KernelMagics",
        "lf": "Other",
        "lk": "Other",
        "ll": "Other",
        "load": "CodeMagics",
        "load_ext": "ExtensionMagics",
        "loadpy": "CodeMagics",
        "logoff": "LoggingMagics",
        "logon": "LoggingMagics",
        "logstart": "LoggingMagics",
        "logstate": "LoggingMagics",
        "logstop": "LoggingMagics",
        "ls": "Other",
        "lsmagic": "BasicMagics",
        "lx": "Other",
        "macro": "ExecutionMagics",
        "magic": "BasicMagics",
        "man": "KernelMagics",
        "matplotlib": "PylabMagics",
        "mkdir": "Other",
        "more": "KernelMagics",
        "mv": "Other",
        "notebook": "BasicMagics",
        "page": "BasicMagics",
        "pastebin": "CodeMagics",
        "pdb": "ExecutionMagics",
        "pdef": "NamespaceMagics",
        "pdoc": "NamespaceMagics",
        "pfile": "NamespaceMagics",
        "pinfo": "NamespaceMagics",
        "pinfo2": "NamespaceMagics",
        "pip": "BasicMagics",
        "popd": "OSMagics",
        "pprint": "BasicMagics",
        "precision": "BasicMagics",
        "profile": "BasicMagics",
        "prun": "ExecutionMagics",
        "psearch": "NamespaceMagics",
        "psource": "NamespaceMagics",
        "pushd": "OSMagics",
        "pwd": "OSMagics",
        "pycat": "OSMagics",
        "pylab": "PylabMagics",
        "qtconsole": "KernelMagics",
        "quickref": "BasicMagics",
        "recall": "HistoryMagics",
        "rehashx": "OSMagics",
        "reload_ext": "ExtensionMagics",
        "rep": "Other",
        "rerun": "HistoryMagics",
        "reset": "NamespaceMagics",
        "reset_selective": "NamespaceMagics",
        "rm": "Other",
        "rmdir": "Other",
        "run": "ExecutionMagics",
        "save": "CodeMagics",
        "sc": "OSMagics",
        "set_env": "OSMagics",
        "store": "StoreMagics",
        "sx": "OSMagics",
        "system": "OSMagics",
        "tb": "ExecutionMagics",
        "time": "ExecutionMagics",
        "timeit": "ExecutionMagics",
        "unalias": "OSMagics",
        "unload_ext": "ExtensionMagics",
        "who": "NamespaceMagics",
        "who_ls": "NamespaceMagics",
        "whos": "NamespaceMagics",
        "xdel": "NamespaceMagics",
        "xmode": "BasicMagics"
       }
      },
      "text/plain": [
       "Available line magics:\n",
       "%alias  %alias_magic  %autocall  %automagic  %autosave  %bookmark  %cat  %cd  %clear  %colors  %config  %connect_info  %cp  %debug  %dhist  %dirs  %doctest_mode  %ed  %edit  %env  %gui  %hist  %history  %killbgscripts  %ldir  %less  %lf  %lk  %ll  %load  %load_ext  %loadpy  %logoff  %logon  %logstart  %logstate  %logstop  %ls  %lsmagic  %lx  %macro  %magic  %man  %matplotlib  %mkdir  %more  %mv  %notebook  %page  %pastebin  %pdb  %pdef  %pdoc  %pfile  %pinfo  %pinfo2  %popd  %pprint  %precision  %profile  %prun  %psearch  %psource  %pushd  %pwd  %pycat  %pylab  %qtconsole  %quickref  %recall  %rehashx  %reload_ext  %rep  %rerun  %reset  %reset_selective  %rm  %rmdir  %run  %save  %sc  %set_env  %store  %sx  %system  %tb  %time  %timeit  %unalias  %unload_ext  %who  %who_ls  %whos  %xdel  %xmode\n",
       "\n",
       "Available cell magics:\n",
       "%%!  %%HTML  %%SVG  %%bash  %%capture  %%debug  %%file  %%html  %%javascript  %%js  %%latex  %%markdown  %%perl  %%prun  %%pypy  %%python  %%python2  %%python3  %%ruby  %%script  %%sh  %%svg  %%sx  %%system  %%time  %%timeit  %%writefile\n",
       "\n",
       "Automagic is ON, % prefix IS NOT needed for line magics."
      ]
     },
     "execution_count": 40,
     "metadata": {},
     "output_type": "execute_result"
    }
   ],
   "source": [
    "%lsmagic"
   ]
  },
  {
   "cell_type": "markdown",
   "metadata": {
    "ein.tags": "worksheet-0",
    "slideshow": {
     "slide_type": "-"
    }
   },
   "source": [
    "\n",
    "#### Algunos de los comandos mágicos \n",
    "\n",
    "Algunos de los comandos mágicos más importantes son:\n",
    "\n",
    "* ``%cd`` *direct*     (Nos ubica en la carpeta direct)\n",
    "* ``%ls``              (muestra un listado del directorio)\n",
    "* ``%pwd``             (muestra el directorio donde estamos trabajando)\n",
    "* ``%run`` *filename*  (corre un dado programa)\n",
    "* ``%hist``            (muestra la historia de comandos utilizados)\n",
    "* ``%mkdir`` *dname*    (crea un directorio llamado dname)\n",
    "* ``%cat`` *fname*      (Muestra por pantalla el contenido del archivo fname)\n",
    "\n",
    "* Tab completion:\n",
    "\tApretando [TAB] completa los comandos o nombres de archivos."
   ]
  },
  {
   "cell_type": "markdown",
   "metadata": {
    "ein.tags": "worksheet-0",
    "slideshow": {
     "slide_type": "-"
    }
   },
   "source": [
    "\n",
    "En la consola de IPython tipee ``%cd ~`` (*i.e.* \"``%cd``\" -- \"espacio\" -- \"tilde\", y luego presione [RETURN]. Esto nos pone en el directorio HOME (default).\n",
    "\n",
    "Después tipee ``%pwd`` (<b>p</b>rint <b>w</b>orking <b>d</b>irectory) y presione [RETURN] para ver en qué directorio estamos:"
   ]
  },
  {
   "cell_type": "code",
   "execution_count": 41,
   "metadata": {
    "autoscroll": false,
    "ein.hycell": false,
    "ein.tags": "worksheet-0",
    "slideshow": {
     "slide_type": "-"
    }
   },
   "outputs": [
    {
     "name": "stdout",
     "output_type": "stream",
     "text": [
      "/home/fiol\n"
     ]
    }
   ],
   "source": [
    "%cd ~"
   ]
  },
  {
   "cell_type": "code",
   "execution_count": 42,
   "metadata": {
    "autoscroll": false,
    "ein.hycell": false,
    "ein.tags": "worksheet-0",
    "slideshow": {
     "slide_type": "-"
    }
   },
   "outputs": [
    {
     "data": {
      "text/plain": [
       "'/home/fiol'"
      ]
     },
     "execution_count": 42,
     "metadata": {},
     "output_type": "execute_result"
    }
   ],
   "source": [
    "%pwd"
   ]
  },
  {
   "cell_type": "markdown",
   "metadata": {
    "ein.tags": "worksheet-0",
    "slideshow": {
     "slide_type": "-"
    }
   },
   "source": [
    "En windows, el comando `pwd` va a dar algo así como:\n",
    "\n",
    "    In [3]: pwd\n",
    "    Out[3]: C:\\\\Users\\\\usuario"
   ]
  },
  {
   "cell_type": "markdown",
   "metadata": {
    "ein.tags": "worksheet-0",
    "slideshow": {
     "slide_type": "-"
    }
   },
   "source": [
    "Vamos a crear un directorio donde guardar ahora los programas de ejemplo que escribamos. Lo vamos a llamar ``scripts``.\n",
    "\n",
    "Primero vamos a ir al directorio que queremos, y crearlo. En mi caso lo voy a crear en mi HOME."
   ]
  },
  {
   "cell_type": "code",
   "execution_count": 43,
   "metadata": {
    "autoscroll": false,
    "ein.hycell": false,
    "ein.tags": "worksheet-0",
    "slideshow": {
     "slide_type": "-"
    }
   },
   "outputs": [
    {
     "name": "stdout",
     "output_type": "stream",
     "text": [
      "/home/fiol\n"
     ]
    }
   ],
   "source": [
    "%cd "
   ]
  },
  {
   "cell_type": "code",
   "execution_count": 44,
   "metadata": {
    "autoscroll": false,
    "ein.hycell": false,
    "ein.tags": "worksheet-0",
    "scrolled": true,
    "slideshow": {
     "slide_type": "-"
    }
   },
   "outputs": [
    {
     "name": "stdout",
     "output_type": "stream",
     "text": [
      "mkdir: cannot create directory ‘scripts’: File exists\r\n"
     ]
    }
   ],
   "source": [
    "%mkdir scripts"
   ]
  },
  {
   "cell_type": "code",
   "execution_count": 45,
   "metadata": {
    "autoscroll": false,
    "ein.hycell": false,
    "ein.tags": "worksheet-0",
    "slideshow": {
     "slide_type": "-"
    }
   },
   "outputs": [
    {
     "name": "stdout",
     "output_type": "stream",
     "text": [
      "/home/fiol/scripts\n"
     ]
    }
   ],
   "source": [
    "%cd scripts"
   ]
  },
  {
   "cell_type": "markdown",
   "metadata": {
    "ein.tags": "worksheet-0",
    "slideshow": {
     "slide_type": "-"
    }
   },
   "source": [
    "Ahora voy a escribir una línea de **Python** en un archivo llamado *prog1.py*. Y lo vamos a ver con el comando `%cat`"
   ]
  },
  {
   "cell_type": "code",
   "execution_count": 46,
   "metadata": {
    "autoscroll": false,
    "ein.hycell": false,
    "ein.tags": "worksheet-0",
    "slideshow": {
     "slide_type": "-"
    }
   },
   "outputs": [
    {
     "name": "stdout",
     "output_type": "stream",
     "text": [
      "print(121231)\r\n",
      " \r\n",
      "print('hola')\r\n"
     ]
    }
   ],
   "source": [
    "%cat prog1.py"
   ]
  },
  {
   "cell_type": "code",
   "execution_count": 47,
   "metadata": {
    "autoscroll": false,
    "ein.hycell": false,
    "ein.tags": "worksheet-0",
    "slideshow": {
     "slide_type": "-"
    }
   },
   "outputs": [
    {
     "name": "stdout",
     "output_type": "stream",
     "text": [
      "121231\n",
      "hola\n"
     ]
    }
   ],
   "source": [
    "%run prog1.py"
   ]
  },
  {
   "cell_type": "code",
   "execution_count": 48,
   "metadata": {
    "autoscroll": false,
    "ein.hycell": false,
    "ein.tags": "worksheet-0",
    "slideshow": {
     "slide_type": "-"
    }
   },
   "outputs": [
    {
     "name": "stdout",
     "output_type": "stream",
     "text": [
      "%cd ..\n",
      "%cd -\n",
      "%pwd\n",
      "%cd -\n",
      "%pwd\n",
      "%cd ..\n",
      "%cd -\n",
      "%pwd\n",
      "%cd -\n",
      "%cd ..\n",
      "%cd\n",
      "%mkdir scripts\n",
      "%mkdir scripts\n",
      "%cd scripts\n",
      "!echo \"print(121231)\" > prog1.py\n",
      "!echo \"print(121231)\" > prog1.py\n",
      "!cat prog1.py\n",
      "%magic\n",
      "%lsmagic\n",
      "%quickref\n",
      "%lsmagic\n",
      "%cd ~\n",
      "%pwd\n",
      "%cd\n",
      "%mkdir scripts\n",
      "%cat scripts/.\n",
      "%cat scripts/prog1.py\n",
      "%run prog1.py\n",
      "%cd scripts\n",
      "%cat prog1.py\n",
      "%run prog1.py\n",
      "%edit prog1.py\n",
      "%hist\n",
      "!echo \" \" >> prog1.py\n",
      "!echo \"print('hola')\" >> prog1.py\n",
      "%run prog1.py\n",
      "%quickref\n",
      "%echo \"hola\"\n",
      "%cat prog1.py\n",
      "%run prog1.py\n",
      "%lsmagic\n",
      "%cd ~\n",
      "%pwd\n",
      "%cd\n",
      "%mkdir scripts\n",
      "%cd scripts\n",
      "%cat prog1.py\n",
      "%run prog1.py\n",
      "%hist\n"
     ]
    }
   ],
   "source": [
    "%hist"
   ]
  },
  {
   "cell_type": "markdown",
   "metadata": {
    "ein.tags": "worksheet-0",
    "slideshow": {
     "slide_type": "-"
    }
   },
   "source": [
    "\n",
    "Hay varios otros comandos mágicos en IPython. Para leer información sobre el sistema de comandos mágicos utilice:"
   ]
  },
  {
   "cell_type": "code",
   "execution_count": 49,
   "metadata": {
    "autoscroll": false,
    "ein.hycell": false,
    "ein.tags": "worksheet-0",
    "slideshow": {
     "slide_type": "-"
    }
   },
   "outputs": [],
   "source": [
    "%magic"
   ]
  },
  {
   "cell_type": "markdown",
   "metadata": {
    "ein.tags": "worksheet-0",
    "slideshow": {
     "slide_type": "-"
    }
   },
   "source": [
    "Finalmente, para obtener un resumen de comandos con una explicación breve, utilice:"
   ]
  },
  {
   "cell_type": "code",
   "execution_count": 50,
   "metadata": {
    "autoscroll": false,
    "ein.hycell": false,
    "ein.tags": "worksheet-0",
    "slideshow": {
     "slide_type": "-"
    }
   },
   "outputs": [],
   "source": [
    "%quickref"
   ]
  },
  {
   "cell_type": "markdown",
   "metadata": {
    "ein.tags": "worksheet-0",
    "slideshow": {
     "slide_type": "-"
    }
   },
   "source": [
    "#### Comandos de Shell\n",
    "\n",
    "Se pueden correr comandos del sistema operativo (más útil en linux) tipeando ``!`` seguido por el comando que se quiere ejecutar. Por ejemplo:\n",
    "\n",
    "#####  comandos\n"
   ]
  },
  {
   "cell_type": "code",
   "execution_count": 51,
   "metadata": {
    "autoscroll": false,
    "ein.hycell": false,
    "ein.tags": "worksheet-0",
    "slideshow": {
     "slide_type": "-"
    }
   },
   "outputs": [],
   "source": [
    "!echo \" \" >> prog1.py\n",
    "!echo \"print('hola otra vez')\" >> prog1.py"
   ]
  },
  {
   "cell_type": "code",
   "execution_count": 52,
   "metadata": {
    "autoscroll": false,
    "ein.hycell": false,
    "ein.tags": "worksheet-0",
    "slideshow": {
     "slide_type": "-"
    }
   },
   "outputs": [
    {
     "name": "stdout",
     "output_type": "stream",
     "text": [
      "print(121231)\r\n",
      " \r\n",
      "print('hola')\r\n",
      " \r\n",
      "print('hola otra vez')\r\n"
     ]
    }
   ],
   "source": [
    "%cat prog1.py"
   ]
  },
  {
   "cell_type": "code",
   "execution_count": 53,
   "metadata": {
    "autoscroll": false,
    "ein.hycell": false,
    "ein.tags": "worksheet-0",
    "slideshow": {
     "slide_type": "-"
    }
   },
   "outputs": [
    {
     "name": "stdout",
     "output_type": "stream",
     "text": [
      "121231\n",
      "hola\n",
      "hola otra vez\n"
     ]
    }
   ],
   "source": [
    "%run prog1.py"
   ]
  },
  {
   "cell_type": "code",
   "execution_count": 55,
   "metadata": {},
   "outputs": [
    {
     "name": "stdout",
     "output_type": "stream",
     "text": [
      "Mon Feb 11 09:15:55 -03 2019\r\n"
     ]
    }
   ],
   "source": [
    "!date"
   ]
  },
  {
   "cell_type": "code",
   "execution_count": null,
   "metadata": {},
   "outputs": [],
   "source": []
  }
 ],
 "metadata": {
  "kernelspec": {
   "display_name": "Python 3",
   "language": "python",
   "name": "python3"
  },
  "language_info": {
   "codemirror_mode": {
    "name": "ipython",
    "version": 3
   },
   "file_extension": ".py",
   "mimetype": "text/x-python",
   "name": "python",
   "nbconvert_exporter": "python",
   "pygments_lexer": "ipython3",
   "version": "3.7.2"
  },
  "name": "01_instala_y_uso.ipynb"
 },
 "nbformat": 4,
 "nbformat_minor": 1
}
