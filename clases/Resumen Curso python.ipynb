{
 "cells": [
  {
   "cell_type": "code",
   "execution_count": null,
   "metadata": {},
   "outputs": [],
   "source": [
    "import turtle\n",
    "window = turtle.Screen()\n",
    "david =turtle.Turtle()\n",
    "david.forward(50)\n",
    "david.left(90)\n",
    "david.forward(50)\n",
    "david.left(90)\n",
    "david.forward(50)\n",
    "david.left(90)\n",
    "david.forward(50)\n",
    "david.left(90)\n",
    "turtle.mainloop()"
   ]
  },
  {
   "cell_type": "code",
   "execution_count": 5,
   "metadata": {},
   "outputs": [
    {
     "name": "stdout",
     "output_type": "stream",
     "text": [
      "0\n",
      "1\n",
      "2\n"
     ]
    }
   ],
   "source": [
    "for i in range(0,3):\n",
    "    print(i)\n"
   ]
  },
  {
   "cell_type": "code",
   "execution_count": null,
   "metadata": {},
   "outputs": [],
   "source": [
    "# -*- coding : utf-8 -*- \n",
    "name=str(input(\"cuál es tu nombre?\"))\n",
    "print('Hola'+name+'!')"
   ]
  },
  {
   "cell_type": "code",
   "execution_count": null,
   "metadata": {},
   "outputs": [],
   "source": [
    "## funciones python forma de definir donde comienzan los progrmas \n",
    "## en python main , se corre de arriba hacia abajo \n",
    "### si no dices nada , la forma es defiendo if name == main y python\n",
    "### le llama main \n",
    "import turtle\n",
    "\n",
    "def main(): \n",
    "    window = turtle.Screen()\n",
    "    dave= turtle.Turtle()\n",
    "    make_square(dave)\n",
    "    \n",
    "def make_square(dave):\n",
    "    length= int(input('Tamaño'))\n",
    "    for i in range(4):\n",
    "        make_line_and_turn(dave,length)\n",
    "    \n",
    "def make_line_and_turn(dave,length):\n",
    "    dave.forward(length)\n",
    "    dave.left(90)\n",
    "\n",
    "### Para definir dónde comenzar el código usamos la línea \n",
    "if __name__ == '__main__':\n",
    "    main()"
   ]
  },
  {
   "cell_type": "code",
   "execution_count": null,
   "metadata": {},
   "outputs": [],
   "source": [
    "## funciones con parametros \n",
    "def hello ():\n",
    "    print('Platzi')"
   ]
  },
  {
   "cell_type": "markdown",
   "metadata": {},
   "source": [
    "if __name__ == '__main__':\n",
    "run()\n",
    "esto te deci donde debe arrancar el codigo ,si no esta \n",
    "esto comienza de arriba a abajo de izquierda a darecha "
   ]
  },
  {
   "cell_type": "code",
   "execution_count": null,
   "metadata": {},
   "outputs": [],
   "source": [
    "def foreign_exchange_calculator(ammount):\n",
    "    mex_to_col_rate=145.97\n",
    "    return mex_to_col_rate*ammount\n",
    "\n",
    "def run():\n",
    "    print('Calculadora de Divisas')\n",
    "    print('Convierte de COP a MXN')\n",
    "    \n",
    "    ammount= float(input('Ingresa MXN'))\n",
    "    \n",
    "    result=foreign_exchange_calculator(ammount)\n",
    "    \n",
    "    print('${} pesos MXN son ${} COP'.format(ammount,result))\n",
    "\n",
    "if __name__ == '__main__':\n",
    "    run()\n",
    "    print('Final')"
   ]
  },
  {
   "cell_type": "markdown",
   "metadata": {},
   "source": [
    "FLUJO DE EJECUCION SIN FUNCIONES DE ARRIBA -ABAJO y DE IZQUIERDA  A DARECHA !!!!\n",
    "CUANDO UNA DECLARACIÓN CONTIENE UNA LLAMADA A UNA FUNCION , EL CUERPO DE LA FUNCIÓN SE EJECUTA CON LAS MISMAS REGLAS."
   ]
  },
  {
   "cell_type": "markdown",
   "metadata": {},
   "source": [
    "SOLO DENTRO DE LA FUNCION PUEDES ACCEDER A LAS VARIABLES \n",
    "AFUERA NO PUEDES ACCEDER A ELLAS , PARA SOLUCIONAR ESTO \n",
    "PUEDES DEFINIR VARIABLES GLOBALES "
   ]
  },
  {
   "cell_type": "markdown",
   "metadata": {},
   "source": [
    "### CONDICIONALES"
   ]
  },
  {
   "cell_type": "code",
   "execution_count": null,
   "metadata": {},
   "outputs": [],
   "source": [
    "def say_hello(age):\n",
    "    if age > 18:\n",
    "        print('hello señor usted esta viejo ')\n",
    "    else:\n",
    "        print('hello pelao')\n",
    "if __name__  == '__main__':\n",
    "    say_hello(20)"
   ]
  },
  {
   "cell_type": "code",
   "execution_count": null,
   "metadata": {},
   "outputs": [],
   "source": [
    "def is_prime(number):\n",
    "    if number<2:\n",
    "        return False\n",
    "    elif number== 2:\n",
    "        return True \n",
    "    elif number >2 and number % 2 == 0:\n",
    "        return False \n",
    "    else:\n",
    "        for i in range (3,number):\n",
    "            if number % i  == 0:\n",
    "                return False\n",
    "def run():\n",
    "    number=int(input('escribe un numero:'))\n",
    "    result= is_prime(number)\n",
    "        \n",
    "    if result is True:\n",
    "        print(' Tu numero es primo')\n",
    "    else:\n",
    "        print('Tu numero no es primo')\n",
    "if __name__  == '__main__':\n",
    "    run()\n"
   ]
  },
  {
   "cell_type": "markdown",
   "metadata": {},
   "source": [
    "BUENAS PRACTICAS DEL LENGUAJE "
   ]
  },
  {
   "cell_type": "code",
   "execution_count": null,
   "metadata": {},
   "outputs": [],
   "source": [
    "import this"
   ]
  },
  {
   "cell_type": "markdown",
   "metadata": {},
   "source": [
    "### string"
   ]
  },
  {
   "cell_type": "code",
   "execution_count": null,
   "metadata": {},
   "outputs": [],
   "source": [
    "def run():    \n",
    "    n = int(input())\n",
    "    student_marks = {}\n",
    "    for _ in range(n):\n",
    "        name, *line = input().split()\n",
    "        scores = list(map(float, line))\n",
    "        student_marks[name] = scores\n",
    "    \n",
    "    query_name = input()\n",
    "    \n",
    "    result=media(student_marks,query_name)\n",
    "    \n",
    "    print('{0:.2f}'.format(result))\n",
    "\n",
    "def media(student_marks,query_name):\n",
    "    scores=student_marks[query_name]\n",
    "    media=sum(scores)/len(scores)\n",
    "    return media\n",
    "\n",
    "if __name__ == '__main__':\n",
    "    run()"
   ]
  },
  {
   "cell_type": "markdown",
   "metadata": {},
   "source": [
    "-*- coding : utf-8 -*-  este peadazo de codigo sirve para \n",
    "para que el interprete de python use unicode y no ASCII \n",
    "Python 2 asume que los string están en asci minetras que en python 3 aumen que los string son unicode,Diferencia entre ASCII y Unicode\n",
    "\n",
    "Los caracteres también son números, para esto existen estándares que asignan un número a cada carácter, para generar un estándar se creó el ASCII pero esta solo toma en cuenta los caracteres en inglés, para dar soporte a más lenguajes se crea UNICODE.\n",
    "\n",
    "Python codifica en ASCII por default, para cambiarlo por UNICODE debemos colocar u antes del string. "
   ]
  },
  {
   "cell_type": "markdown",
   "metadata": {},
   "source": [
    "### recursion Esto es nuevo para mi \n",
    "existe una forma adicional de como realizar computos que se llama recursion , un  poco dificil de aprender , una funcion puede llamarse asi misma dentro de la misma funcion(medio raro)\n",
    "ejemplo funcion factorial "
   ]
  },
  {
   "cell_type": "code",
   "execution_count": null,
   "metadata": {},
   "outputs": [],
   "source": [
    "def factorial(number):\n",
    "    if number == 0:\n",
    "        return 1 \n",
    "    return number*factorial(number-1)\n",
    "\n",
    "if __name__ == '__main__':\n",
    "    number= int(input('Escribe un número:'))\n",
    "    result =factorial(number)\n",
    "    print(result)"
   ]
  },
  {
   "cell_type": "code",
   "execution_count": null,
   "metadata": {},
   "outputs": [],
   "source": [
    "## practica Nested Lists "
   ]
  },
  {
   "cell_type": "code",
   "execution_count": null,
   "metadata": {},
   "outputs": [],
   "source": [
    "def run():\n",
    "    students=[]\n",
    "    for _ in range(int(input())):\n",
    "        name = input()\n",
    "        score = float(input())\n",
    "        students.append([name,score])\n",
    "    \n",
    "    result=second_lowest_grade(students)\n",
    "    \n",
    "    \n",
    "    print(result)\n",
    "    \n",
    "def get_segundo_elemento(students):\n",
    "    return students[1]    \n",
    "    \n",
    "        \n",
    "def second_lowest_grade(students):\n",
    "    \n",
    "    return min(students,key=get_segundo_elemento)\n",
    "\n",
    "if __name__ == '__main__':\n",
    "    run()"
   ]
  },
  {
   "cell_type": "code",
   "execution_count": null,
   "metadata": {},
   "outputs": [],
   "source": [
    "def poblacion(pais):\n",
    "    return {\n",
    "        \"Estados Unidos\": 327,\n",
    "        \"China\": 1391,\n",
    "        \"Indonesia\": 264,\n",
    "        \"India\": 1364\n",
    "    }[pais]\n",
    "\n",
    "paises = [\"Estados Unidos\", \"China\", \"Indonesia\", \"India\"]\n",
    "print(max(paises, key=poblacion))  # China.\n",
    "print(min(paises, key=poblacion))  # Indonesia."
   ]
  },
  {
   "cell_type": "markdown",
   "metadata": {},
   "source": [
    "### separar cadenas de texto en Python\n",
    "\n",
    "slice [comienzo:final:paso] sobre string "
   ]
  },
  {
   "cell_type": "code",
   "execution_count": null,
   "metadata": {},
   "outputs": [],
   "source": [
    "my_string='platzi'\n",
    "my_string[2:6:2]"
   ]
  },
  {
   "cell_type": "markdown",
   "metadata": {},
   "source": [
    "### ciclos For and while : iteraciones \n",
    "en este caso hay dos palabras resevadas continue y break , el ciclo for tambien recorre string , mas adelante vemos que podemos recorrer listas "
   ]
  },
  {
   "cell_type": "code",
   "execution_count": null,
   "metadata": {},
   "outputs": [],
   "source": [
    "string='david'\n",
    "for letter in string:\n",
    "    print(letter)"
   ]
  },
  {
   "cell_type": "code",
   "execution_count": null,
   "metadata": {},
   "outputs": [],
   "source": [
    "for i in range(30):\n",
    "    if i % 3 !=0:\n",
    "        continue\n",
    "    else:\n",
    "        print(i**2)"
   ]
  },
  {
   "cell_type": "code",
   "execution_count": null,
   "metadata": {},
   "outputs": [],
   "source": [
    "for i in range(30):\n",
    "    if i % 3 ==0:\n",
    "        print(i**2)\n",
    "    elif i==22:\n",
    "        break"
   ]
  },
  {
   "cell_type": "code",
   "execution_count": null,
   "metadata": {},
   "outputs": [],
   "source": [
    "import random\n",
    "def run():\n",
    "    number_found= False\n",
    "    random_number= random.randint(0,20)\n",
    "    \n",
    "    while not number_found:\n",
    "        number= int(input('Inttenta un numero:'))\n",
    "        \n",
    "        if number == random_number:\n",
    "            print('congratulations, find the number')\n",
    "            number_found= True\n",
    "        elif number > random_number:\n",
    "            print('the number smaller ')\n",
    "        else:\n",
    "            print('the number es mas grande')\n",
    "\n",
    "if __name__=='__main__':\n",
    "    run()"
   ]
  },
  {
   "cell_type": "code",
   "execution_count": null,
   "metadata": {},
   "outputs": [],
   "source": [
    "def run():\n",
    "    palabra=str(input('Ingresa una Palabra:'))\n",
    "    result=palindromo(palabra)\n",
    "    if palabra == result:\n",
    "        print('la palabra es palindromo')\n",
    "    else:\n",
    "        print('No es palindromo')\n",
    "    \n",
    "    \n",
    "def palindromo(palabra):\n",
    "    palabra=palabra[::-1]\n",
    "    return palabra\n",
    "\n",
    "\n",
    "if __name__=='__main__':\n",
    "    run()"
   ]
  },
  {
   "cell_type": "markdown",
   "metadata": {},
   "source": [
    "### metodos insert append , y uno nuevo que no conocia \n",
    "#### join (recibe una secuencia de caracteres)"
   ]
  },
  {
   "cell_type": "markdown",
   "metadata": {},
   "source": [
    "### las listas son mutables no los strings eso es que hace apppend \n",
    "una cosa mas , cuando usamos mayusculas en un codigo en python quiere decir que esta será una constante , ya que no hay forma de declarar constantes en python"
   ]
  },
  {
   "cell_type": "code",
   "execution_count": 6,
   "metadata": {},
   "outputs": [
    {
     "name": "stdout",
     "output_type": "stream",
     "text": [
      "B I E N V E N I D O S  A  A H O R C A D O S\n",
      "\n",
      "\n",
      "    +---+\n",
      "    |   |\n",
      "        |\n",
      "        |\n",
      "        |\n",
      "        |\n",
      "        =========\n",
      "\n",
      "['-', '-', '-', '-', '-', '-', '-']\n",
      "--- * --- * --- * --- * --- * --- \n",
      "Escoge una letra: k\n",
      "\n",
      "\n",
      "    +---+\n",
      "    |   |\n",
      "    O   |\n",
      "        |\n",
      "        |\n",
      "        |\n",
      "        =========\n",
      "\n",
      "['-', '-', '-', '-', '-', '-', '-']\n",
      "--- * --- * --- * --- * --- * --- \n",
      "Escoge una letra: a\n",
      "\n",
      "\n",
      "    +---+\n",
      "    |   |\n",
      "    O   |\n",
      "        |\n",
      "        |\n",
      "        |\n",
      "        =========\n",
      "\n",
      "['-', '-', '-', '-', 'a', '-', '-']\n",
      "--- * --- * --- * --- * --- * --- \n",
      "Escoge una letra: e\n",
      "\n",
      "\n",
      "    +---+\n",
      "    |   |\n",
      "    O   |\n",
      "        |\n",
      "        |\n",
      "        |\n",
      "        =========\n",
      "\n",
      "['-', 'e', '-', '-', 'a', '-', '-']\n",
      "--- * --- * --- * --- * --- * --- \n",
      "Escoge una letra: s\n",
      "\n",
      "\n",
      "    +---+\n",
      "    |   |\n",
      "    O   |\n",
      "    |   |\n",
      "        |\n",
      "        |\n",
      "        =========\n",
      "\n",
      "['-', 'e', '-', '-', 'a', '-', '-']\n",
      "--- * --- * --- * --- * --- * --- \n",
      "Escoge una letra: d\n",
      "\n",
      "\n",
      "    +---+\n",
      "    |   |\n",
      "    O   |\n",
      "    |   |\n",
      "        |\n",
      "        |\n",
      "        =========\n",
      "\n",
      "['-', 'e', '-', '-', 'a', 'd', '-']\n",
      "--- * --- * --- * --- * --- * --- \n",
      "Escoge una letra: s\n",
      "\n",
      "\n",
      "    +---+\n",
      "    |   |\n",
      "    O   |\n",
      "   /|   |\n",
      "        |\n",
      "        |\n",
      "        =========\n",
      "\n",
      "['-', 'e', '-', '-', 'a', 'd', '-']\n",
      "--- * --- * --- * --- * --- * --- \n",
      "Escoge una letra: o\n",
      "\n",
      "\n",
      "    +---+\n",
      "    |   |\n",
      "    O   |\n",
      "   /|   |\n",
      "        |\n",
      "        |\n",
      "        =========\n",
      "\n",
      "['-', 'e', '-', '-', 'a', 'd', 'o']\n",
      "--- * --- * --- * --- * --- * --- \n",
      "Escoge una letra: t\n",
      "\n",
      "\n",
      "    +---+\n",
      "    |   |\n",
      "    O   |\n",
      "   /|   |\n",
      "        |\n",
      "        |\n",
      "        =========\n",
      "\n",
      "['t', 'e', '-', '-', 'a', 'd', 'o']\n",
      "--- * --- * --- * --- * --- * --- \n",
      "Escoge una letra: c\n",
      "\n",
      "\n",
      "    +---+\n",
      "    |   |\n",
      "    O   |\n",
      "   /|   |\n",
      "        |\n",
      "        |\n",
      "        =========\n",
      "\n",
      "['t', 'e', 'c', '-', 'a', 'd', 'o']\n",
      "--- * --- * --- * --- * --- * --- \n",
      "Escoge una letra: l\n",
      "\n",
      "¡Felicidades! Ganaste. La palabra es: teclado\n"
     ]
    }
   ],
   "source": [
    "import random\n",
    "\n",
    "\n",
    "IMAGES = ['''\n",
    "\n",
    "    +---+\n",
    "    |   |\n",
    "        |\n",
    "        |\n",
    "        |\n",
    "        |\n",
    "        =========''', '''\n",
    "\n",
    "    +---+\n",
    "    |   |\n",
    "    O   |\n",
    "        |\n",
    "        |\n",
    "        |\n",
    "        =========''', '''\n",
    "\n",
    "    +---+\n",
    "    |   |\n",
    "    O   |\n",
    "    |   |\n",
    "        |\n",
    "        |\n",
    "        =========''', '''\n",
    "\n",
    "    +---+\n",
    "    |   |\n",
    "    O   |\n",
    "   /|   |\n",
    "        |\n",
    "        |\n",
    "        =========''', '''\n",
    "\n",
    "    +---+\n",
    "    |   |\n",
    "    O   |\n",
    "   /|\\  |\n",
    "        |\n",
    "        |\n",
    "        =========''', '''\n",
    "\n",
    "    +---+\n",
    "    |   |\n",
    "    O   |\n",
    "   /|\\  |\n",
    "    |   |\n",
    "        |\n",
    "        =========''', '''\n",
    "\n",
    "    +---+\n",
    "    |   |\n",
    "    O   |\n",
    "   /|\\  |\n",
    "    |   |\n",
    "   /    |\n",
    "        =========''', '''\n",
    "\n",
    "    +---+\n",
    "    |   |\n",
    "    O   |\n",
    "   /|\\  |\n",
    "    |   |\n",
    "   / \\  |\n",
    "        =========''', '''\n",
    "''']\n",
    "\n",
    "WORDS = [\n",
    "    'lavadora',\n",
    "    'secadora',\n",
    "    'sofa',\n",
    "    'gobierno',\n",
    "    'diputado',\n",
    "    'democracia',\n",
    "    'computadora',\n",
    "    'teclado'\n",
    "]\n",
    "\n",
    "\n",
    "def random_word():\n",
    "    idx = random.randint(0, len(WORDS) - 1)\n",
    "    return WORDS[idx]\n",
    "\n",
    "\n",
    "def display_board(hidden_word, tries):\n",
    "    print(IMAGES[tries])\n",
    "    print('')\n",
    "    print(hidden_word)\n",
    "    print('--- * --- * --- * --- * --- * --- ')\n",
    "\n",
    "\n",
    "def run():\n",
    "    word = random_word()\n",
    "    hidden_word = ['-'] * len(word)\n",
    "    tries = 0\n",
    "\n",
    "    while True:\n",
    "        display_board(hidden_word, tries)\n",
    "        current_letter = str(input('Escoge una letra: '))\n",
    "\n",
    "        letter_indexes = []\n",
    "        for idx in range(len(word)):\n",
    "            if word[idx] == current_letter:\n",
    "                letter_indexes.append(idx)\n",
    "\n",
    "        if len(letter_indexes) == 0:\n",
    "            tries += 1\n",
    "\n",
    "            if tries == 7:\n",
    "                display_board(hidden_word, tries)\n",
    "                print('')\n",
    "                print('¡Perdiste! La palabra correcta era {}'.format(word))\n",
    "                break\n",
    "        else:\n",
    "            for idx in letter_indexes:\n",
    "                hidden_word[idx] = current_letter\n",
    "\n",
    "            letter_indexes = []\n",
    "\n",
    "        try:\n",
    "            hidden_word.index('-')\n",
    "        except ValueError:\n",
    "            print('')\n",
    "            print('¡Felicidades! Ganaste. La palabra es: {}'.format(word))\n",
    "            break\n",
    "\n",
    "\n",
    "if __name__ == '__main__':\n",
    "    print('B I E N V E N I D O S  A  A H O R C A D O S')\n",
    "    run()"
   ]
  },
  {
   "cell_type": "markdown",
   "metadata": {},
   "source": [
    "# algoritmos y recursiovidad "
   ]
  },
  {
   "cell_type": "code",
   "execution_count": null,
   "metadata": {},
   "outputs": [],
   "source": [
    "def binary_Search(numbers,number_to_find,low,high):\n",
    "    if low > high:\n",
    "        return False\n",
    "    mid = int((low+high)/2)\n",
    "    \n",
    "    if numbers[mid]==number_to_find:\n",
    "        return True \n",
    "    \n",
    "    elif numbers[mid]> number_to_find:\n",
    "        return binary_Search(numbers,number_to_find,low,mid-1)\n",
    "    else :\n",
    "        return binary_Search(numbers,number_to_find,mid+1,high)\n",
    "        \n",
    "    \n",
    "    \n",
    "\n",
    "if __name__ == '__main__':\n",
    "    numbers=[1,6,78,89,34,67,8,56,18,9]\n",
    "    numbers=sorted(numbers)\n",
    "     \n",
    "    number_to_find= int(input('Ingresa un numero:'))\n",
    "    \n",
    "    result=binary_Search(numbers,number_to_find,0,len(numbers)-1)\n",
    "           \n",
    "    if result is True:\n",
    "        print('El numero si esta en la lista ')\n",
    "    else:\n",
    "        print('El numero no esta en la lista')\n",
    "        "
   ]
  },
  {
   "cell_type": "markdown",
   "metadata": {},
   "source": [
    "# diccionarios "
   ]
  },
  {
   "cell_type": "markdown",
   "metadata": {},
   "source": [
    "Un diccionario es un mapa de valores, los cuales deben tener una llav. Los diccionarios se declaran con (llaves) {} o con la función dict()\n",
    "\n",
    "Cuando iteramos en diccionarios podemos hacerlo a través de las llaves, valores o ítems.\n",
    "\n",
    "Declarar diccionarios"
   ]
  },
  {
   "cell_type": "code",
   "execution_count": null,
   "metadata": {},
   "outputs": [],
   "source": [
    "mi_diccionario = {}\n",
    "mi_diccionario['primer elemento'] = 'Hola'\n",
    "mi_diccionario['segundo elemento'] = 'Adios'"
   ]
  },
  {
   "cell_type": "code",
   "execution_count": 46,
   "metadata": {},
   "outputs": [
    {
     "name": "stdout",
     "output_type": "stream",
     "text": [
      "9\n",
      "4\n",
      "8\n",
      "10\n",
      "llave:algoritmos , valor :9\n",
      "llave:matematicas , valor :4\n",
      "llave:web , valor :8\n",
      "llave:bases_de_datos , valor :10\n"
     ]
    }
   ],
   "source": [
    "calificaciones={}\n",
    "calificaciones['algoritmos']=9\n",
    "calificaciones['matematicas']=4\n",
    "calificaciones['web']=8\n",
    "calificaciones['bases_de_datos']=10\n",
    "\n",
    "for value in calificaciones.values():\n",
    "    print(value)\n",
    "    \n",
    "for key , value in calificaciones.items():\n",
    "    print('llave:{} , valor :{}'.format(key,value))"
   ]
  },
  {
   "cell_type": "code",
   "execution_count": 49,
   "metadata": {},
   "outputs": [
    {
     "data": {
      "text/plain": [
       "7.75"
      ]
     },
     "execution_count": 49,
     "metadata": {},
     "output_type": "execute_result"
    }
   ],
   "source": [
    "suma_de_calificaciones=0\n",
    "for calificacion in calificaciones.values():\n",
    "    suma_de_calificaciones += calificacion\n",
    "promedio=suma_de_calificaciones/len(calificaciones.values())\n",
    "promedio"
   ]
  },
  {
   "cell_type": "code",
   "execution_count": null,
   "metadata": {},
   "outputs": [],
   "source": [
    "KEYS = {\n",
    "    'a': 'w',\n",
    "    'b': 'E',\n",
    "    'c': 'x',\n",
    "    'd': '1',\n",
    "    'e': 'a',\n",
    "    'f': 't',\n",
    "    'g': '0',\n",
    "    'h': 'C',\n",
    "    'i': 'b',\n",
    "    'j': '!',\n",
    "    'k': 'z',\n",
    "    'l': '8',\n",
    "    'm': 'M',\n",
    "    'n': 'I',\n",
    "    'o': 'd',\n",
    "    'p': '.',\n",
    "    'q': 'U',\n",
    "    'r': 'Y',\n",
    "    's': 'i',\n",
    "    't': '3',\n",
    "    'u': ',',\n",
    "    'v': 'J',\n",
    "    'w': 'N',\n",
    "    'x': 'f',\n",
    "    'y': 'm',\n",
    "    'z': 'W',\n",
    "    'A': 'G',\n",
    "    'B': 'S',\n",
    "    'C': 'j',\n",
    "    'D': 'n',\n",
    "    'E': 's',\n",
    "    'F': 'Q',\n",
    "    'G': 'o',\n",
    "    'H': 'e',\n",
    "    'I': 'u',\n",
    "    'J': 'g',\n",
    "    'K': '2',\n",
    "    'L': '9',\n",
    "    'M': 'A',\n",
    "    'N': '5',\n",
    "    'O': '4',\n",
    "    'P': '?',\n",
    "    'Q': 'c',\n",
    "    'R': 'r',\n",
    "    'S': 'O',\n",
    "    'T': 'P',\n",
    "    'U': 'h',\n",
    "    'V': '6',\n",
    "    'W': 'q',\n",
    "    'X': 'H',\n",
    "    'Y': 'R',\n",
    "    'Z': 'l',\n",
    "    '0': 'k',\n",
    "    '1': '7',\n",
    "    '2': 'X',\n",
    "    '3': 'L',\n",
    "    '4': 'p',\n",
    "    '5': 'v',\n",
    "    '6': 'T',\n",
    "    '7': 'V',\n",
    "    '8': 'y',\n",
    "    '9': 'K',\n",
    "    '.': 'Z',\n",
    "    ',': 'D',\n",
    "    '?': 'F',\n",
    "    '!': 'B',\n",
    "}\n",
    "\n",
    "def cypher(message):\n",
    "    words= message.split(' ')\n",
    "    cypher_message =[]\n",
    "    \n",
    "    for word in words:\n",
    "        cypher_word= ''\n",
    "        for letter in word:\n",
    "            cypher_word+=KEYS[letter]\n",
    "            \n",
    "        cypher_message.append(cypher_word)\n",
    "        \n",
    "    return ' '.join(cypher_message)\n",
    "\n",
    "\n",
    "def decipher(message):\n",
    "    words=message.split(' ')\n",
    "    decipher_message=[]\n",
    "    \n",
    "    for word in words:\n",
    "        decipher_world=''\n",
    "        for letter in word:\n",
    "            for key, value in KEYS.items():\n",
    "                if value == letter:\n",
    "                    decipher_world+=key \n",
    "        decipher_message.append(decipher_world)\n",
    "        \n",
    "    return ''.join(decipher_message)\n",
    "\n",
    "\n",
    "def run():\n",
    "\n",
    "    while True:\n",
    "\n",
    "        command = str(input('''--- * --- * --- * --- * --- * --- * --- * ---\n",
    "\n",
    "            Bienvenido a criptografía. ¿Qué deseas hacer?\n",
    "\n",
    "            [c]ifrar mensaje\n",
    "            [d]ecifrar mensaje\n",
    "            [s]alir\n",
    "        '''))\n",
    "\n",
    "        if command == 'c':\n",
    "            message=str(input('escribe un mensaje:'))\n",
    "            cypher_message =cypher(message)\n",
    "            print(cypher_message)\n",
    "            \n",
    "            \n",
    "            \n",
    "        elif command == 'd':\n",
    "            message=str(input('escribe un mensaje:'))\n",
    "            decipher_message =decipher(message)\n",
    "            print(decipher_message)\n",
    " \n",
    "        elif command == 's':\n",
    "            print('salir')\n",
    "        else:\n",
    "            print('¡Comando no encontrado!')\n",
    "\n",
    "\n",
    "if __name__ == '__main__':\n",
    "    print('M E N S A J E S  C I F R A D O S')\n",
    "    run()"
   ]
  },
  {
   "cell_type": "markdown",
   "metadata": {},
   "source": [
    "# Tuplas "
   ]
  },
  {
   "cell_type": "markdown",
   "metadata": {},
   "source": [
    "las tuplas son parecidas a las listas en estructura , pero \n",
    "algo fundamental es que estas son inmutables , no asi las \n",
    "listas \n",
    "\n",
    "lambda se pone antes de definir una funcion de una linea"
   ]
  },
  {
   "cell_type": "code",
   "execution_count": 4,
   "metadata": {},
   "outputs": [
    {
     "name": "stdout",
     "output_type": "stream",
     "text": [
      "Escribe una secuencia de caracteres: kddkdaks\n",
      "El primer caracter no repetido es: a\n"
     ]
    }
   ],
   "source": [
    "\"\"\"\n",
    "\"abacabad\" c\n",
    "\"abacabaabacaba\" _\n",
    "\"abcdefghijklmnopqrstuvwxyziflskecznslkjfabe\" d\n",
    "\"bcccccccccccccyb\" y\n",
    "\"\"\"\n",
    "\n",
    "def first_not_repeating_char(char_sequence):\n",
    "    seen_letters = {}\n",
    "\n",
    "    for idx, letter in enumerate(char_sequence):\n",
    "        if letter not in seen_letters:\n",
    "            seen_letters[letter] = (idx, 1)\n",
    "        else:\n",
    "            seen_letters[letter] = (seen_letters[letter][0], seen_letters[letter][1] + 1)\n",
    "\n",
    "    final_letters = []\n",
    "    for key, value in seen_letters.items():\n",
    "        if value[1] == 1:\n",
    "            final_letters.append( (key, value[0]) )\n",
    "\n",
    "    not_repeated_letters = sorted(final_letters, key=lambda value: value[1])\n",
    "\n",
    "    if not_repeated_letters:\n",
    "        return not_repeated_letters[0][0]\n",
    "    else:\n",
    "        return '_'\n",
    "\n",
    "if __name__ == '__main__':\n",
    "    char_sequence = str(input('Escribe una secuencia de caracteres: '))\n",
    "\n",
    "    result = first_not_repeating_char(char_sequence)\n",
    "\n",
    "    if result == '_':\n",
    "        print('Todos los caracteres se repiten.')\n",
    "    else:\n",
    "        print('El primer caracter no repetido es: {}'.format(result))"
   ]
  },
  {
   "cell_type": "markdown",
   "metadata": {},
   "source": [
    "# sets o conjuntos \n",
    "los sets son smiliares a las listas pero no permiten \n",
    "elementos repetidos \n",
    "\n",
    "suponemos un conjunto s y t \n",
    "s=([1,2,3])\n",
    "s=([3,4,5])\n",
    "\n",
    "union = s union t\n",
    "union=([1,2,3,4,5])\n",
    "\n",
    "interseccion=s intersection t\n",
    "interseccion=3 \n",
    "\n",
    "diferencia=s difrencia t \n",
    "los elementos en s que no estan compartidos con t \n",
    "diferencia=([1,2])\n",
    "\n",
    "diferencia=t difrencia s\n",
    "diferencia=([4,5])\n"
   ]
  },
  {
   "cell_type": "markdown",
   "metadata": {},
   "source": [
    "algo de codigo"
   ]
  },
  {
   "cell_type": "code",
   "execution_count": 7,
   "metadata": {},
   "outputs": [],
   "source": [
    "s= set([1,2,3])\n",
    "t= set([3,4,5])"
   ]
  },
  {
   "cell_type": "code",
   "execution_count": 8,
   "metadata": {},
   "outputs": [
    {
     "data": {
      "text/plain": [
       "{1, 2, 3, 4, 5}"
      ]
     },
     "execution_count": 8,
     "metadata": {},
     "output_type": "execute_result"
    }
   ],
   "source": [
    "s.union(t)"
   ]
  },
  {
   "cell_type": "code",
   "execution_count": 9,
   "metadata": {},
   "outputs": [
    {
     "data": {
      "text/plain": [
       "{3}"
      ]
     },
     "execution_count": 9,
     "metadata": {},
     "output_type": "execute_result"
    }
   ],
   "source": [
    "s.intersection(t)"
   ]
  },
  {
   "cell_type": "code",
   "execution_count": 10,
   "metadata": {},
   "outputs": [
    {
     "data": {
      "text/plain": [
       "{1, 2}"
      ]
     },
     "execution_count": 10,
     "metadata": {},
     "output_type": "execute_result"
    }
   ],
   "source": [
    "s.difference(t)"
   ]
  },
  {
   "cell_type": "code",
   "execution_count": 15,
   "metadata": {},
   "outputs": [
    {
     "data": {
      "text/plain": [
       "{4, 5}"
      ]
     },
     "execution_count": 15,
     "metadata": {},
     "output_type": "execute_result"
    }
   ],
   "source": [
    "t.difference(s)"
   ]
  },
  {
   "cell_type": "code",
   "execution_count": 16,
   "metadata": {},
   "outputs": [
    {
     "data": {
      "text/plain": [
       "True"
      ]
     },
     "execution_count": 16,
     "metadata": {},
     "output_type": "execute_result"
    }
   ],
   "source": [
    "1 in s"
   ]
  },
  {
   "cell_type": "code",
   "execution_count": 17,
   "metadata": {},
   "outputs": [
    {
     "data": {
      "text/plain": [
       "False"
      ]
     },
     "execution_count": 17,
     "metadata": {},
     "output_type": "execute_result"
    }
   ],
   "source": [
    "1 in t"
   ]
  },
  {
   "cell_type": "code",
   "execution_count": 18,
   "metadata": {},
   "outputs": [
    {
     "data": {
      "text/plain": [
       "False"
      ]
     },
     "execution_count": 18,
     "metadata": {},
     "output_type": "execute_result"
    }
   ],
   "source": [
    "1 not in s"
   ]
  },
  {
   "cell_type": "code",
   "execution_count": 19,
   "metadata": {},
   "outputs": [
    {
     "data": {
      "text/plain": [
       "True"
      ]
     },
     "execution_count": 19,
     "metadata": {},
     "output_type": "execute_result"
    }
   ],
   "source": [
    "1 not in t"
   ]
  },
  {
   "cell_type": "code",
   "execution_count": 20,
   "metadata": {},
   "outputs": [
    {
     "data": {
      "text/plain": [
       "{3}"
      ]
     },
     "execution_count": 20,
     "metadata": {},
     "output_type": "execute_result"
    }
   ],
   "source": [
    "s&t"
   ]
  },
  {
   "cell_type": "markdown",
   "metadata": {},
   "source": [
    "# list comprensions y dictinary comprehensions SINTASIS SUGAR"
   ]
  },
  {
   "cell_type": "markdown",
   "metadata": {},
   "source": [
    "Dictionary comprehension y list comprehension nos permite escribir listas o diccionarios de forma más sencilla. ejemplo:"
   ]
  },
  {
   "cell_type": "code",
   "execution_count": 22,
   "metadata": {},
   "outputs": [],
   "source": [
    "pares = []\n",
    "\n",
    "for num in range(1,31):\n",
    "    if num % 2 == 0:\n",
    "        pares.append(num)"
   ]
  },
  {
   "cell_type": "code",
   "execution_count": 23,
   "metadata": {},
   "outputs": [],
   "source": [
    "pares = [num for num in range(1,31) if num % 2 == 0]"
   ]
  },
  {
   "cell_type": "code",
   "execution_count": 25,
   "metadata": {},
   "outputs": [
    {
     "data": {
      "text/plain": [
       "{1: 1, 2: 4, 3: 9, 4: 16, 5: 25, 6: 36, 7: 49, 8: 64, 9: 81, 10: 100}"
      ]
     },
     "execution_count": 25,
     "metadata": {},
     "output_type": "execute_result"
    }
   ],
   "source": [
    "cuadrados={}\n",
    "for num in range(1,11):\n",
    "    cuadrados[num]=num**2\n",
    "cuadrados"
   ]
  },
  {
   "cell_type": "code",
   "execution_count": 27,
   "metadata": {},
   "outputs": [
    {
     "data": {
      "text/plain": [
       "{1: 1, 2: 4, 3: 9, 4: 16, 5: 25, 6: 36, 7: 49, 8: 64, 9: 81, 10: 100}"
      ]
     },
     "execution_count": 27,
     "metadata": {},
     "output_type": "execute_result"
    }
   ],
   "source": [
    "cuadrados ={num: num ** 2 for num in range(1,11)}\n",
    "cuadrados"
   ]
  },
  {
   "cell_type": "markdown",
   "metadata": {},
   "source": [
    "# Manejo de errores "
   ]
  },
  {
   "cell_type": "markdown",
   "metadata": {},
   "source": [
    "Cuando el programa no sabe como hacer algo o se traba en un proceso va a arrojar un error.\n",
    "\n",
    "Es importante poder manejar estos errores y poder manejarlos, en python podemos capturar esos errores con try y except.\n",
    "\n",
    "cada vez que queremos manejar un error lo debemos encapsular \n",
    "entre try y except \n",
    "\n",
    "la jerarquia de errores de python \n",
    "\n",
    "try/ except /else / finally \n",
    "\n",
    "finally siempre se ejecuta  sin importar lo que sucedee \n",
    "\n",
    "except manejo de error \n",
    "\n",
    "try metemos codigo \n",
    "\n",
    "else si de hecho no sucede error \n",
    "\n",
    "https://docs.python.org/3.5/reference/compound_stmts.html#try"
   ]
  },
  {
   "cell_type": "code",
   "execution_count": null,
   "metadata": {},
   "outputs": [
    {
     "name": "stdout",
     "output_type": "stream",
     "text": [
      "escribe nombre de paisuruguay\n",
      "no tenemos el dato de uruguay\n",
      "escribe nombre de paiscolombia\n",
      "la poblacion de colombia  es : 44 millones\n",
      "escribe nombre de paisjapon\n",
      "no tenemos el dato de japon\n"
     ]
    }
   ],
   "source": [
    "countries={'mexico':122 ,'colombia':44 ,'argentina':44 ,'peru':31}\n",
    "while True:\n",
    "    country=str(input('escribe nombre de pais')).lower()\n",
    "    \n",
    "    try:\n",
    "        print('la poblacion de {}  es : {} millones'.format(country, countries[country]))\n",
    "    except KeyError:\n",
    "        print('no tenemos el dato de {}'.format(country))"
   ]
  },
  {
   "cell_type": "markdown",
   "metadata": {},
   "source": [
    "Con Python también podemos leer y escribir archivos del sistema.\n",
    "\n",
    "Existen varios modos en los que podemos manejar archivos\n",
    "\n",
    "‘r’ = leer\n",
    "’w’ = escribir\n",
    "’a’ = añadir\n",
    "’r+’ = leer y escribir\n",
    "\n",
    "Siempre recuerda cerrar el archivo.\n",
    "\n",
    "El keyword 'with' nos permite manejar el contexto al trabajar con archivos\n",
    "file es una palabra reservada de python asi que ojo al poner file \n",
    "\n",
    "cuando estamos adentro del context manager no es necesario usar el close"
   ]
  },
  {
   "cell_type": "code",
   "execution_count": 5,
   "metadata": {},
   "outputs": [
    {
     "name": "stdout",
     "output_type": "stream",
     "text": [
      "esta es la historia de kevin dorado \n",
      "\n",
      "kevin tiene 27 y nacio en locombia  viviendo en argentina por ahora\n",
      "\n",
      "hoy hablaremos de su historia  hoy \n"
     ]
    }
   ],
   "source": [
    "with open ('Biografia','r') as f:\n",
    "    for line in f:\n",
    "        print(line)"
   ]
  },
  {
   "cell_type": "code",
   "execution_count": 10,
   "metadata": {},
   "outputs": [],
   "source": [
    "def run():\n",
    "    with open ('archivo','w') as f:\n",
    "        for i in range(0,10):\n",
    "            f.write(str(i))\n",
    "\n",
    "\n",
    "if __name__ == '__main__':\n",
    "    run()"
   ]
  },
  {
   "cell_type": "code",
   "execution_count": 14,
   "metadata": {},
   "outputs": [
    {
     "name": "stdout",
     "output_type": "stream",
     "text": [
      "Beatriz se encuentra 27 veces en aleph\n"
     ]
    }
   ],
   "source": [
    "def run():\n",
    "    counter=0\n",
    "    with open('aleph','r') as f:\n",
    "        for line in f:\n",
    "            counter+=line.count('Beatriz')\n",
    "            \n",
    "    print('Beatriz se encuentra {} veces en aleph'.format(counter))\n",
    "            \n",
    "if __name__ == '__main__':\n",
    "    run()"
   ]
  },
  {
   "cell_type": "code",
   "execution_count": null,
   "metadata": {},
   "outputs": [],
   "source": []
  },
  {
   "cell_type": "markdown",
   "metadata": {},
   "source": [
    "### PROGRAMACIÓN ORIENTADA A OBJETOS  EN PYTHON"
   ]
  },
  {
   "cell_type": "markdown",
   "metadata": {},
   "source": [
    "existen diferentes formas de programar, entre ellos la POO este es un paradigma de programcion , modelamos  en si el objeto , permite manejar datos y logicas en su contenedor.\n",
    "\n",
    "pongamos de ejemplo un auto: \n",
    "\n",
    "**Objeto**: auto\n",
    "\n",
    "\n",
    "**Estado**: velocidad , cuanta gasolina tiene \n",
    "\n",
    "**Metodos formas u operaciones**: \n",
    "\n",
    "las cuales modifica el estado: \n",
    "acelerar = solo funciona si tenemos gasolina \n",
    "frenar  = solo si es estan bien los frenos\n",
    "\n",
    "**Atributos** : guardan el estado \n",
    "ejemplo si esta prendio o apagado el carro (*estado booleano*) \n",
    "o el tanque de gasolina que tiene un rango de operacion (*variable continua*) \n",
    "\n",
    "*Hasta ahora hemos visto dos clases de variables en el curso*\n",
    "\n",
    "* **variables globales**\n",
    "* **variables locales** \n",
    "\n",
    "existen dos mas: \n",
    "\n",
    "* **variables de clases** : \n",
    "\n",
    "los atributos que comparten todas las instancias de este objeto\n",
    "\n",
    "\n",
    "ejemplo : el auto tiene 4 llantas \n",
    "\n",
    "* **variables de instancias**: \n",
    "ejemplo : el color del auto \n",
    "\n",
    "* **variables privadas** : \n",
    "no es un concepto que python maneje nativamente , para se hace de forma conveccional entonces declarar con un guion bajo antes __variable_privada\n",
    "\n",
    "metodos son las funciones que viven dentro de los objetos.\n",
    "\n",
    "existen distintos tipos de metodos:\n",
    "\n",
    "\n",
    "* metodos de clases \n",
    "* metodos estaticos \n",
    "* metodos de instancias \n",
    "* getter y setter \n",
    "\n",
    "¿ como podemos declarar los diferentes metodos y diferencias y similitudes entre los diferentes tipos de metodos?"
   ]
  },
  {
   "cell_type": "markdown",
   "metadata": {},
   "source": [
    "el encapsulamiento es uno de los mas importantes \n",
    "en programacion , esconder la complejidad.\n",
    "\n",
    "por lo regular **la clases** se comienzan en **mayuscula** antes de cada palabras\n",
    "\n",
    "__init__ es el constructor de la clases es el que primero se ejecuta \n",
    "\n",
    "turnon son metodos \n",
    "\n",
    "en este caso def run () es una funcion y no un metodo por que esta fuera de la clase \n",
    "\n",
    "run declara una instancia nueva de la clase\n",
    "\n",
    "lamp.turn_on() es es una instancia de nuestra clase y usamos el metodo de turnon"
   ]
  },
  {
   "cell_type": "code",
   "execution_count": 1,
   "metadata": {},
   "outputs": [
    {
     "name": "stdout",
     "output_type": "stream",
     "text": [
      "\n",
      "        ¿What do you want?\n",
      "        [o]n\n",
      "        [of]f\n",
      "        [e]exit\n",
      "        o\n",
      "         |\n",
      " \\     _____     /\n",
      "     /           (         )\n",
      "-   ( ))))))) )   -\n",
      "     \\ \\   / /\n",
      "      \\|___|/\n",
      "  /    |___|           |___| \n",
      "       |___|\n",
      "\n",
      "\n",
      "        ¿What do you want?\n",
      "        [o]n\n",
      "        [of]f\n",
      "        [e]exit\n",
      "        e\n"
     ]
    }
   ],
   "source": [
    "### ejemplo de POO\n",
    "class Lamp:\n",
    "    \n",
    "    _LAMPS=[\"\"\"         |\n",
    " \\     _____     /\n",
    "     /       \\\n",
    "    (         )\n",
    "-   ( ))))))) )   -\n",
    "     \\ \\   / /\n",
    "      \\|___|/\n",
    "  /    |___|    \\\n",
    "       |___| \n",
    "       |___|\n",
    "\"\"\",\"\"\"    _____  \n",
    "   .'     `.\n",
    "  /         \\\n",
    " |           | \n",
    " '.  +^^^+  .'\n",
    "   `. \\./ .'\n",
    "     |_|_|  \n",
    "     (___)    \n",
    "     (___)\n",
    "     `---'\n",
    "\"\"\"\n",
    "        \n",
    "    ]\n",
    "    \n",
    "    \n",
    "    \n",
    "    def __init__(self,is_turned_on):\n",
    "        self._is_turned_on =is_turned_on\n",
    "        ## iniciarlizar\n",
    "    \n",
    "    def turn_on(self):\n",
    "        self.is_turned_on =True\n",
    "        self._display_imagen()\n",
    "        \n",
    "    \n",
    "    def turn_off(self):\n",
    "        self.is_turned_on=False\n",
    "        self._display_imagen()\n",
    "        \n",
    "        \n",
    "    def _display_imagen(self):\n",
    "        if self.is_turned_on:\n",
    "            print(self._LAMPS[0])\n",
    "        else:\n",
    "            print(self._LAMPS[1])\n",
    "            \n",
    "def run():\n",
    "    lamp= Lamp(is_turned_on=False)\n",
    "    \n",
    "    while True:\n",
    "        command=str(input('''\n",
    "        ¿What do you want?\n",
    "        [o]n\n",
    "        [of]f\n",
    "        [e]exit\n",
    "        '''))\n",
    "        \n",
    "        if command == 'o':\n",
    "            lamp.turn_on()\n",
    "        elif command == 'of':\n",
    "            lamp.turn_off()\n",
    "        else:\n",
    "            break \n",
    "        \n",
    "        \n",
    "        \n",
    "            \n",
    "if __name__ == '__main__':\n",
    "    run()"
   ]
  },
  {
   "cell_type": "markdown",
   "metadata": {},
   "source": [
    "declaramos una clase class \n",
    "declaramos su nombre con mayuscula \n",
    "declaramos las variables \n",
    "__init__ "
   ]
  },
  {
   "cell_type": "code",
   "execution_count": null,
   "metadata": {},
   "outputs": [],
   "source": [
    "class Empleado:\n",
    "\n",
    "    def __init__(self):\n",
    "        self.nombre=input(\"Ingrese el nombre del empleado:\")\n",
    "        self.sueldo=float(input(\"Ingrese el sueldo:\"))\n",
    "\n",
    "    def imprimir(self):\n",
    "        print(\"Nombre:\",self.nombre)\n",
    "        print(\"Sueldo:\",self.sueldo)\n",
    "\n",
    "    def paga_impuestos(self):\n",
    "        if self.sueldo>3000:\n",
    "            print(\"Debe pagar impuestos\")\n",
    "        else:\n",
    "            print(\"No paga impuestos\")\n",
    "\n",
    "\n",
    "# bloque principal\n",
    "\n",
    "empleado1=Empleado()\n",
    "empleado1.imprimir()\n",
    "empleado1.paga_impuestos()"
   ]
  },
  {
   "cell_type": "markdown",
   "metadata": {},
   "source": [
    "# decoradores :sintasis suggar\n",
    "un decorador es una funcion que recibe como parametro a\n",
    "otra funcion y modifica su comportamiento \n",
    "arrojando otra función \n",
    "son muy utilizados cuando se usa flask o django:\n",
    "importante si haces desarrollo web backend\n",
    "\n",
    "un decorador se aplica a una funcion o metodo con el simbolo @\n",
    "super util para definir si una funcion debe ejecutarse o no \n",
    "\n",
    "por ejemplo en servidores web. existen funciones que nada mas deben ejecutarse si ususario se encuentra autenticado\n",
    "@protected\n",
    "def protected_func():\n",
    "\n",
    "@arriba de la funcion que queremos decorar"
   ]
  },
  {
   "cell_type": "code",
   "execution_count": 3,
   "metadata": {},
   "outputs": [
    {
     "name": "stdout",
     "output_type": "stream",
     "text": [
      "Ingresa tu contraseña:platzi\n",
      "Tu contraseña es correcta\n"
     ]
    }
   ],
   "source": [
    "def protected(func):\n",
    "    def wrapper(password):\n",
    "        if password== 'platzi':\n",
    "            return func()\n",
    "        else:\n",
    "            print('contraseña incorrecta')\n",
    "    \n",
    "    return wrapper\n",
    "\n",
    "@protected\n",
    "def protected_func():\n",
    "    print('Tu contraseña es correcta')\n",
    "        \n",
    "            \n",
    "if __name__ == '__main__':\n",
    "    password= str(input('Ingresa tu contraseña:'))\n",
    "    protected_func(password)\n",
    "    "
   ]
  },
  {
   "cell_type": "markdown",
   "metadata": {},
   "source": [
    "# Paquetes y Modulos\n",
    "1-un modulo permite agrupar funcionalidad comun en un archivo \n",
    "\n",
    "2- cuando varios modulos agrupan funcionalidades comunes , se pueden agrupar, \n",
    "a su vez , en paquetes\n",
    "\n",
    "3- python reconoce que un directorio es un paquete por que contiene un archivo llamado \n",
    "__init__.py"
   ]
  },
  {
   "cell_type": "markdown",
   "metadata": {},
   "source": []
  },
  {
   "cell_type": "markdown",
   "metadata": {},
   "source": [
    "\\textbf {'Python Virtual Environment | Introduction'\n",
    "} :\n",
    "\n",
    "A virtual environment is a tool that helps to keep dependencies required by different projects separate by creating isolated python virtual environments for them. This is one of the most important tools that most of the Python developers use.\n",
    "\n",
    "Why do we need a virtual environment?\n",
    "\n",
    "Imagine a scenario where you are working on two web based python projects and one of them uses a Django 1.9 and the other uses Django 1.10 and so on. In such situations virtual environment can be really useful to maintain dependencies of both the projects."
   ]
  },
  {
   "cell_type": "markdown",
   "metadata": {},
   "source": [
    "in this class seen flask is a micro web framework \n",
    "written in python . it is classified as a microframework\n",
    "because it does not require particular tools or\n",
    "libraries "
   ]
  }
 ],
 "metadata": {
  "kernelspec": {
   "display_name": "Python 3",
   "language": "python",
   "name": "python3"
  },
  "language_info": {
   "codemirror_mode": {
    "name": "ipython",
    "version": 3
   },
   "file_extension": ".py",
   "mimetype": "text/x-python",
   "name": "python",
   "nbconvert_exporter": "python",
   "pygments_lexer": "ipython3",
   "version": "3.6.7"
  }
 },
 "nbformat": 4,
 "nbformat_minor": 2
}
