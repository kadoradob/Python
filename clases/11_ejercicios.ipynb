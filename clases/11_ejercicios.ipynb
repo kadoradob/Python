{
 "cells": [
  {
   "cell_type": "markdown",
   "metadata": {
    "ein.tags": "worksheet-0",
    "slideshow": {
     "slide_type": "-"
    }
   },
   "source": [
    "# 11 Ejercicios\n",
    "\n",
    "1. En el archivo `palabras.words.gz` hay una larga lista de palabras, en formato comprimido.\n",
    "Siguiendo la idea del ejemplo dado en clases realizar un histograma de las longitudes de las palabras.\n",
    "\n",
    "2. Modificar el programa del ejemplo de la clase para calcular el histograma de frecuencia de letras en las palabras (no sólo la primera). Considere el caso insensible a la capitalización: las mayúsculas y minúsculas corresponden a la misma letra ('á' es lo mismo que 'Á').\n",
    "\n",
    "3. Utilizando el mismo archivo de palabras, Guardar todas las palabras en un array y obtener los índices de las palabras que tienen una dada letra (por ejemplo la letra 'j'), los índices de las palabras con un número dado de letras (por ejemplo 5 letras), y los índices de las palabras cuya tercera letra es una vocal. En cada caso, dar luego las palabras que cumplen dichas condiciones.\n",
    "\n",
    "4. En el archivo `colision.npy` hay una gran cantidad de datos que corresponden al resultado de una simulación. Los datos están organizados en trece columnas. La primera corresponde a un parámetro, mientras que las 12 restantes corresponde a cada una de las tres componentes de la velocidad de cuatro partículas. Calcular y graficar:\n",
    "  1. la distribución de ocurrencias del primer parámetro.\n",
    "  2. la distribución de ocurrencias de energías de la tercera partícula.\n",
    "  3. la distribución de ocurrencias de ángulos de la cuarta partícula, medido respecto al tercer eje.\n",
    "  4. la distribución de energías de la tercera partícula cuando la cuarta partícula tiene un ángulo menor a 90 grados con el tercer eje.\n",
    "\n",
    "  Realizar los cuatro gráficos utilizando un formato adecuado para presentación (charla o poster).\n",
    "\n",
    "5. Leer el archivo `colision.npy` y guardar los datos en formato texto con un encabezado adecuado. Usando el comando mágico `%timeit` o el módulo timeit, comparar el tiempo que tarda en leer los datos e imprimir el último valor utilizando el formato de texto y el formato original `npy`. Comparar el tamaño de los dos archivos.\n",
    "  \n",
    "1. El submódulo **scipy.constants** tiene valores de constantes físicas de interés. \n",
    "Usando este módulo compute la constante de Stefan-Boltzmann $\\sigma$ utilizando la relación:\n",
    "$$\\sigma = \\frac{2 \\pi^5 k_B^4}{15 h^3 c^2}$$\n",
    "Confirme que el valor obtenido es correcto comparando con la constante para esta cantidad en ``scipy.constants``\n",
    "\n",
    "2. Usando **Scipy** y **Matplotlib** grafique las funciones de onda del oscilador armónico unidimensional para las cuatro energías más bajas ($n=1,2,3,4$), en el intervalo $[-5,5]$. Asegúrese de que están correctamente normalizados.\n",
    "\n",
    "Las funciones están dadas por:\n",
    "\n",
    "$$ \\psi _{n}(x)={\\frac {1}{\\sqrt {2^{n}\\,n!}}}\\cdot \\left({\\frac {\\omega }{\\pi}}\\right)^{1/4}\\cdot e^{-{\\frac {\\omega x^{2}}{2 }}}\\cdot H_{n}\\left({\\sqrt{\\omega}}\\, x\\right),\\qquad n=0,1,2,\\ldots .$$\n",
    "\n",
    "donde $H_{n}$ son los polinomios de Hermite, y usando $\\omega = 2$.\n",
    "\n",
    "Trate de obtener un gráfico similar al siguiente (tomado de [wikipedia](https://en.wikipedia.org/wiki/Quantum_harmonic_oscillator). Realizado por By AllenMcC. - File:HarmOsziFunktionen.jpg, [CC BY-SA 3.0](https://commons.wikimedia.org/w/index.php?curid=11623546))\n",
    "\n",
    "![](figuras/HarmOsziFunktionen.png)"
   ]
  },
  {
   "cell_type": "code",
   "execution_count": null,
   "metadata": {},
   "outputs": [],
   "source": []
  }
 ],
 "metadata": {
  "kernelspec": {
   "display_name": "Python 3",
   "language": "python",
   "name": "python3"
  },
  "language_info": {
   "codemirror_mode": {
    "name": "ipython",
    "version": 3
   },
   "file_extension": ".py",
   "mimetype": "text/x-python",
   "name": "python",
   "nbconvert_exporter": "python",
   "pygments_lexer": "ipython3",
   "version": "3.7.2"
  },
  "name": "10b_ejercicios.ipynb",
  "toc": {
   "base_numbering": 1,
   "nav_menu": {},
   "number_sections": true,
   "sideBar": true,
   "skip_h1_title": false,
   "title_cell": "Contenidos",
   "title_sidebar": "Contenidos",
   "toc_cell": false,
   "toc_position": {},
   "toc_section_display": true,
   "toc_window_display": false
  }
 },
 "nbformat": 4,
 "nbformat_minor": 2
}
