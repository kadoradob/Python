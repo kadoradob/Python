{
 "cells": [
  {
   "cell_type": "markdown",
   "metadata": {
    "ein.tags": "worksheet-0",
    "slideshow": {
     "slide_type": "-"
    }
   },
   "source": [
    "# Funciones y módulos"
   ]
  },
  {
   "cell_type": "markdown",
   "metadata": {
    "ein.tags": "worksheet-0",
    "slideshow": {
     "slide_type": "-"
    }
   },
   "source": [
    "## Funciones como argumento y retorno\n",
    "\n",
    "Las funciones pueden ser pasadas como argumento y pueden ser retornadas por una función, como cualquier otro objeto (números, listas, tuples, cadenas de caracteres, diccionarios, etc):\n"
   ]
  },
  {
   "cell_type": "code",
   "execution_count": 1,
   "metadata": {
    "autoscroll": false,
    "collapsed": false,
    "ein.hycell": false,
    "ein.tags": "worksheet-0",
    "slideshow": {
     "slide_type": "-"
    }
   },
   "outputs": [],
   "source": [
    "def mas_uno(func):\n",
    "  \"Devuelve una función\"\n",
    "  def fun(args):\n",
    "    \"Agrega 1 a cada uno de los elementos y luego aplica la función\"\n",
    "    xx = [x+1 for x in args]\n",
    "    y= func(xx)\n",
    "    return y\n",
    "  return fun"
   ]
  },
  {
   "cell_type": "markdown",
   "metadata": {
    "ein.tags": "worksheet-0",
    "slideshow": {
     "slide_type": "-"
    }
   },
   "source": [
    "La función `mas_uno` toma como argumento una función y devuelve otra función."
   ]
  },
  {
   "cell_type": "code",
   "execution_count": 2,
   "metadata": {
    "autoscroll": false,
    "collapsed": false,
    "ein.hycell": false,
    "ein.tags": "worksheet-0",
    "slideshow": {
     "slide_type": "-"
    }
   },
   "outputs": [],
   "source": [
    "a = [1, 3.3, 5, 7.5, 2.2]\n",
    "h= mas_uno(sum)                 # h es una función\n",
    "f= mas_uno(min)                 # f es una función\n",
    "g= mas_uno(max)                 # g es una función"
   ]
  },
  {
   "cell_type": "code",
   "execution_count": 3,
   "metadata": {
    "autoscroll": false,
    "collapsed": false,
    "ein.hycell": false,
    "ein.tags": "worksheet-0",
    "slideshow": {
     "slide_type": "-"
    }
   },
   "outputs": [
    {
     "name": "stdout",
     "output_type": "stream",
     "text": [
      "[1, 3.3, 5, 7.5, 2.2]\n",
      "19.0 24.0\n",
      "1 2\n",
      "7.5 8.5\n"
     ]
    }
   ],
   "source": [
    "print(a)\n",
    "print(sum(a), h(a))\n",
    "print(min(a), f(a))\n",
    "print(max(a), g(a))\n",
    "\n"
   ]
  },
  {
   "cell_type": "markdown",
   "metadata": {
    "ein.tags": "worksheet-0",
    "slideshow": {
     "slide_type": "-"
    }
   },
   "source": [
    "## Aplicacion: Ordenamiento de listas\n",
    "\n",
    "Consideremos el problema del ordenamiento de una lista de strings. Como vemos el resultado usual no es necesariamente el deseado"
   ]
  },
  {
   "cell_type": "code",
   "execution_count": 4,
   "metadata": {
    "autoscroll": false,
    "collapsed": false,
    "ein.hycell": false,
    "ein.tags": "worksheet-0",
    "slideshow": {
     "slide_type": "-"
    }
   },
   "outputs": [
    {
     "name": "stdout",
     "output_type": "stream",
     "text": [
      "['Estudiantes', 'caballeros', 'Python', 'Curso', 'pc', 'aereo']\n",
      "['Curso', 'Estudiantes', 'Python', 'aereo', 'caballeros', 'pc']\n"
     ]
    }
   ],
   "source": [
    "s1 = ['Estudiantes', 'caballeros', 'Python', 'Curso', 'pc', 'aereo']\n",
    "print(s1)\n",
    "print(sorted(s1))"
   ]
  },
  {
   "cell_type": "markdown",
   "metadata": {
    "ein.tags": "worksheet-0",
    "slideshow": {
     "slide_type": "-"
    }
   },
   "source": [
    "Acá `sorted` es una función, similar al método `str.sort()` que mencionamos anteriormente, con la diferencia que devuelve una nueva lista con los elementos ordenados.\n",
    "Como los elementos son *strings*, la comparación se hace respecto a su posición en el abecedario. En este caso no es lo mismo mayúsculas o minúsculas."
   ]
  },
  {
   "cell_type": "code",
   "execution_count": 5,
   "metadata": {
    "autoscroll": false,
    "collapsed": false,
    "ein.hycell": false,
    "ein.tags": "worksheet-0",
    "slideshow": {
     "slide_type": "-"
    }
   },
   "outputs": [
    {
     "name": "stdout",
     "output_type": "stream",
     "text": [
      "['estudiantes', 'caballeros', 'python', 'curso', 'pc', 'aereo']\n",
      "['aereo', 'caballeros', 'curso', 'estudiantes', 'pc', 'python']\n"
     ]
    }
   ],
   "source": [
    "s2 = ['estudiantes', 'caballeros', 'python', 'curso', 'pc', 'aereo']\n",
    "print(s2)\n",
    "print(sorted(s2))"
   ]
  },
  {
   "cell_type": "markdown",
   "metadata": {
    "ein.tags": "worksheet-0",
    "slideshow": {
     "slide_type": "-"
    }
   },
   "source": [
    "Posiblemente queremos el orden que obtuvimos en segundo lugar pero con los elementos dados originalmente (con sus mayúsculas y minúsculas originales).\n",
    "Para poder modificar el modo en que se ordenan los elementos, la función `sorted` (y el método `sort`) tienen el argumento opcional `key`"
   ]
  },
  {
   "cell_type": "code",
   "execution_count": 6,
   "metadata": {
    "autoscroll": false,
    "collapsed": false,
    "ein.hycell": false,
    "ein.tags": "worksheet-0",
    "slideshow": {
     "slide_type": "-"
    }
   },
   "outputs": [
    {
     "name": "stdout",
     "output_type": "stream",
     "text": [
      "Help on built-in function sorted in module builtins:\n",
      "\n",
      "sorted(iterable, /, *, key=None, reverse=False)\n",
      "    Return a new list containing all items from the iterable in ascending order.\n",
      "    \n",
      "    A custom key function can be supplied to customize the sort order, and the\n",
      "    reverse flag can be set to request the result in descending order.\n",
      "\n"
     ]
    }
   ],
   "source": [
    "help(sorted)"
   ]
  },
  {
   "cell_type": "markdown",
   "metadata": {
    "ein.tags": "worksheet-0",
    "slideshow": {
     "slide_type": "-"
    }
   },
   "source": [
    "Como vemos tiene un argumento `key` que acepta una función."
   ]
  },
  {
   "cell_type": "code",
   "execution_count": 7,
   "metadata": {
    "autoscroll": false,
    "collapsed": false,
    "ein.hycell": false,
    "ein.tags": "worksheet-0",
    "slideshow": {
     "slide_type": "-"
    }
   },
   "outputs": [
    {
     "data": {
      "text/plain": [
       "['aereo', 'caballeros', 'Curso', 'Estudiantes', 'pc', 'Python']"
      ]
     },
     "execution_count": 7,
     "metadata": {},
     "output_type": "execute_result"
    }
   ],
   "source": [
    "sorted(s1, key=str.lower)"
   ]
  },
  {
   "cell_type": "markdown",
   "metadata": {
    "ein.tags": "worksheet-0",
    "slideshow": {
     "slide_type": "-"
    }
   },
   "source": [
    "Como vemos, los strings están ordenados adecuadamente. Si queremos ordenarlos por longitud de la palabra"
   ]
  },
  {
   "cell_type": "code",
   "execution_count": 8,
   "metadata": {
    "autoscroll": false,
    "collapsed": false,
    "ein.hycell": false,
    "ein.tags": "worksheet-0",
    "slideshow": {
     "slide_type": "-"
    }
   },
   "outputs": [
    {
     "data": {
      "text/plain": [
       "['pc', 'Curso', 'aereo', 'Python', 'caballeros', 'Estudiantes']"
      ]
     },
     "execution_count": 8,
     "metadata": {},
     "output_type": "execute_result"
    }
   ],
   "source": [
    "sorted(s1, key=len)"
   ]
  },
  {
   "cell_type": "markdown",
   "metadata": {
    "ein.tags": "worksheet-0",
    "slideshow": {
     "slide_type": "-"
    }
   },
   "source": [
    "Supongamos que queremos ordenarla alfabéticamente por la segunda letra"
   ]
  },
  {
   "cell_type": "code",
   "execution_count": 9,
   "metadata": {
    "autoscroll": false,
    "collapsed": false,
    "ein.hycell": false,
    "ein.tags": "worksheet-0",
    "slideshow": {
     "slide_type": "-"
    }
   },
   "outputs": [
    {
     "data": {
      "text/plain": [
       "['caballeros', 'pc', 'aereo', 'Estudiantes', 'Curso', 'Python']"
      ]
     },
     "execution_count": 9,
     "metadata": {},
     "output_type": "execute_result"
    }
   ],
   "source": [
    "def segunda(a):\n",
    "  return a[1]\n",
    "\n",
    "sorted(s1, key=segunda)"
   ]
  },
  {
   "cell_type": "markdown",
   "metadata": {
    "ein.tags": "worksheet-0",
    "slideshow": {
     "slide_type": "-"
    }
   },
   "source": [
    "## Funciones anónimas\n",
    "\n",
    "En ocasiones como esta suele ser más rápido (o conveniente) definir la función, que se va a utilizar una única vez, sin darle un nombre. Estas se llaman funciones *lambda*, y el ejemplo anterior se escribiría"
   ]
  },
  {
   "cell_type": "code",
   "execution_count": 10,
   "metadata": {
    "autoscroll": false,
    "collapsed": false,
    "ein.hycell": false,
    "ein.tags": "worksheet-0",
    "slideshow": {
     "slide_type": "-"
    }
   },
   "outputs": [
    {
     "data": {
      "text/plain": [
       "['caballeros', 'pc', 'aereo', 'Estudiantes', 'Curso', 'Python']"
      ]
     },
     "execution_count": 10,
     "metadata": {},
     "output_type": "execute_result"
    }
   ],
   "source": [
    "sorted(s1, key=lambda a: a[1])"
   ]
  },
  {
   "cell_type": "markdown",
   "metadata": {
    "ein.tags": "worksheet-0",
    "slideshow": {
     "slide_type": "-"
    }
   },
   "source": [
    "Si queremos ordenarla alfabéticamente empezando deesde la última letra:"
   ]
  },
  {
   "cell_type": "code",
   "execution_count": 11,
   "metadata": {
    "autoscroll": false,
    "collapsed": false,
    "ein.hycell": false,
    "ein.tags": "worksheet-0",
    "slideshow": {
     "slide_type": "-"
    }
   },
   "outputs": [
    {
     "data": {
      "text/plain": [
       "['pc', 'Python', 'aereo', 'Curso', 'Estudiantes', 'caballeros']"
      ]
     },
     "execution_count": 11,
     "metadata": {},
     "output_type": "execute_result"
    }
   ],
   "source": [
    "sorted(s1, key=lambda a: a[::-1])"
   ]
  },
  {
   "cell_type": "markdown",
   "metadata": {
    "ein.tags": "worksheet-0",
    "slideshow": {
     "slide_type": "-"
    }
   },
   "source": [
    "## Ejemplo: Funciones como argumentos de funciones\n",
    "\n",
    "Veamos en más detalle el caso de funciones que reciben como argumento otra función, estudiando un caso usual: una función de integración debe recibir como argumento al menos una función a integrar y los límites de integración:"
   ]
  },
  {
   "cell_type": "code",
   "execution_count": 12,
   "metadata": {
    "autoscroll": false,
    "collapsed": false,
    "ein.hycell": false,
    "ein.tags": "worksheet-0",
    "slideshow": {
     "slide_type": "-"
    }
   },
   "outputs": [],
   "source": [
    "%load scripts/05_ejemplo_1.py"
   ]
  },
  {
   "cell_type": "code",
   "execution_count": 13,
   "metadata": {
    "autoscroll": false,
    "collapsed": false,
    "ein.hycell": false,
    "ein.tags": "worksheet-0",
    "slideshow": {
     "slide_type": "-"
    }
   },
   "outputs": [],
   "source": [
    "# %load scripts/05_ejemplo_1.py\n",
    "def integrate_simps(f, a, b, N=10):\n",
    "  \"\"\"Calcula numéricamente la integral de la función en el intervalo dado\n",
    "  utilizando la regla de Simpson\n",
    "\n",
    "  Keyword Arguments:\n",
    "  f -- Función a integrar\n",
    "  a -- Límite inferior\n",
    "  b -- Límite superior\n",
    "  N -- El intervalo se separa en 2*N intervalos\n",
    "  \"\"\"\n",
    "  h = (b - a) / (2 * N)\n",
    "  I = f(a) - f(b)\n",
    "  for j in range(1, N + 1):\n",
    "    x2j = a + 2 * j * h\n",
    "    x2jm1 = a + (2 * j - 1) * h\n",
    "    I += 2 * f(x2j) + 4 * f(x2jm1)\n",
    "  return I * h / 3\n"
   ]
  },
  {
   "cell_type": "markdown",
   "metadata": {
    "ein.tags": "worksheet-0",
    "slideshow": {
     "slide_type": "-"
    }
   },
   "source": [
    "En este ejemplo programamos la fórmula de integración de Simpson para obtener la integral de una función `f(x)` provista por el usuario, en un dado intervalo:\n",
    "$$\n",
    "\\int _{a}^{b}f(x)\\,dx\\approx \\frac{h}{3} \\bigg[ f(x_{0}) + 2 \\sum_{j=1}^{n/2} f(x_{2j}) + 4 \\sum_{j=1}^{n/2} f(x_{2j-1}) - f(x_{n})\\bigg]\n",
    "$$\n",
    "\n",
    "¿Cómo usamos la función de integración?"
   ]
  },
  {
   "cell_type": "code",
   "execution_count": 14,
   "metadata": {
    "autoscroll": false,
    "collapsed": false,
    "ein.hycell": false,
    "ein.tags": "worksheet-0",
    "slideshow": {
     "slide_type": "-"
    }
   },
   "outputs": [
    {
     "data": {
      "text/plain": [
       "9.0"
      ]
     },
     "execution_count": 14,
     "metadata": {},
     "output_type": "execute_result"
    }
   ],
   "source": [
    "def potencia2(x):\n",
    "  return x**2\n",
    "\n",
    "integrate_simps(potencia2, 0, 3, 7)"
   ]
  },
  {
   "cell_type": "markdown",
   "metadata": {
    "ein.tags": "worksheet-0",
    "slideshow": {
     "slide_type": "-"
    }
   },
   "source": [
    "Acá definimos una función, y se la pasamos como argumento a la función de integración. "
   ]
  },
  {
   "cell_type": "markdown",
   "metadata": {
    "ein.tags": "worksheet-0",
    "slideshow": {
     "slide_type": "-"
    }
   },
   "source": [
    "### Uso de funciones anónimas\n",
    "\n",
    "Veamos como sería el uso de funciones anónimas en este contexto"
   ]
  },
  {
   "cell_type": "code",
   "execution_count": 15,
   "metadata": {
    "autoscroll": false,
    "collapsed": false,
    "ein.hycell": false,
    "ein.tags": "worksheet-0",
    "slideshow": {
     "slide_type": "-"
    }
   },
   "outputs": [
    {
     "data": {
      "text/plain": [
       "9.0"
      ]
     },
     "execution_count": 15,
     "metadata": {},
     "output_type": "execute_result"
    }
   ],
   "source": [
    "integrate_simps(lambda x: x**2, 0, 3, 7)"
   ]
  },
  {
   "cell_type": "markdown",
   "metadata": {
    "ein.tags": "worksheet-0",
    "slideshow": {
     "slide_type": "-"
    }
   },
   "source": [
    "La notación es un poco más corta, que es cómodo pero no muy relevante para un caso.\n",
    "Si queremos, por ejemplo, aplicar el integrador a una familia de funciones la notación se simplifica notablemente:"
   ]
  },
  {
   "cell_type": "code",
   "execution_count": 16,
   "metadata": {
    "autoscroll": false,
    "collapsed": false,
    "ein.hycell": false,
    "ein.tags": "worksheet-0",
    "slideshow": {
     "slide_type": "-"
    }
   },
   "outputs": [
    {
     "name": "stdout",
     "output_type": "stream",
     "text": [
      "Integrales:\n",
      "I ( 1 x^0, 0, 3) = 3.00000\n",
      "I ( 2 x^1, 0, 3) = 9.00000\n",
      "I ( 3 x^2, 0, 3) = 27.00000\n",
      "I ( 4 x^3, 0, 3) = 81.00000\n",
      "I ( 5 x^4, 0, 3) = 243.00101\n",
      "I ( 6 x^5, 0, 3) = 729.00911\n"
     ]
    }
   ],
   "source": [
    "print('Integrales:')\n",
    "a = 0\n",
    "b = 3\n",
    "for n in range(6):\n",
    "  I = integrate_simps(lambda x: (n + 1) * x**n, a, b, 10)\n",
    "  print('I ( {} x^{}, {}, {}) = {:.5f}'.format(n + 1, n, a, b, I))\n"
   ]
  },
  {
   "cell_type": "markdown",
   "metadata": {
    "ein.tags": "worksheet-0",
    "slideshow": {
     "slide_type": "-"
    }
   },
   "source": [
    "Este es un ejemplo de uso de las funciones anónimas `lambda`. Recordemos que la forma general de las funciones `lambda` es:\n",
    "```python\n",
    "lambda x,y,z: expresión_de(x,y,z)\n",
    "```\n",
    "por ejemplo en el ejemplo anterior, para calcular $(n+1) x^n$, hicimos:\n",
    "```python\n",
    "lambda x: (n+1) * x**n\n",
    "```"
   ]
  },
  {
   "cell_type": "markdown",
   "metadata": {
    "ein.tags": "worksheet-0",
    "slideshow": {
     "slide_type": "-"
    }
   },
   "source": [
    "## Funciones que retornan funciones\n",
    "\n",
    "Veamos ahora una función que retorna una función. Supongamos que tenemos una tabla de puntos (x,y) por los que pasan nuestros datos y queremos interpolar los datos con un polinomio.\n",
    "\n",
    "Sabemos que dados N puntos, hay un único polinomio de grado N que pasa por todos los puntos. En este ejemplo utilizamos la fórmula de Lagrange para obtenerlo."
   ]
  },
  {
   "cell_type": "code",
   "execution_count": 17,
   "metadata": {
    "autoscroll": false,
    "collapsed": false,
    "ein.hycell": false,
    "ein.tags": "worksheet-0",
    "slideshow": {
     "slide_type": "-"
    }
   },
   "outputs": [],
   "source": [
    "%load scripts/ejemplo_05_2.py"
   ]
  },
  {
   "cell_type": "code",
   "execution_count": null,
   "metadata": {
    "autoscroll": false,
    "collapsed": false,
    "ein.hycell": false,
    "ein.tags": "worksheet-0",
    "slideshow": {
     "slide_type": "-"
    }
   },
   "outputs": [],
   "source": [
    "# %load scripts/ejemplo_05_2.py\n",
    "def polinomio_interp(x, y):\n",
    "  \"\"\"Devuelve el polinomio interpolador que pasa por los puntos (x_i, y_i)\n",
    "\n",
    "    Warning: La implementación es numéricamente inestable. Funciona para algunos puntos (menor a 20)\n",
    "\n",
    "  Keyword Arguments:\n",
    "  x -- Lista con los valores de x\n",
    "  y -- Lista con los valores de y\n",
    "  \"\"\"\n",
    "\n",
    "  M = len(x)\n",
    "\n",
    "  def polin(xx):\n",
    "    \"\"\"Evalúa el polinomio interpolador de Lagrange\"\"\"\n",
    "    P = 0\n",
    "\n",
    "    for j in range(M):\n",
    "      pt = y[j]\n",
    "      for k in range(M):\n",
    "        if k == j:\n",
    "          continue\n",
    "        fac = x[j] - x[k]\n",
    "        pt *= (xx - x[k]) / fac\n",
    "      P += pt\n",
    "    return P\n",
    "\n",
    "  return polin\n"
   ]
  },
  {
   "cell_type": "code",
   "execution_count": 18,
   "metadata": {
    "autoscroll": false,
    "collapsed": false,
    "ein.hycell": false,
    "ein.tags": "worksheet-0",
    "slideshow": {
     "slide_type": "-"
    }
   },
   "outputs": [],
   "source": [
    "# %load scripts/ejemplo_05_2.py\n",
    "def polinomio_interp(x, y):\n",
    "  \"\"\"Devuelve el polinomio interpolador que pasa por los puntos (x_i, y_i)\n",
    "\n",
    "    Warning: La implementación es numéricamente inestable. Funciona para algunos puntos (menor a 20)\n",
    "\n",
    "  Keyword Arguments:\n",
    "  x -- Lista con los valores de x\n",
    "  y -- Lista con los valores de y\n",
    "  \"\"\"\n",
    "\n",
    "  M = len(x)\n",
    "\n",
    "  def polin(xx):\n",
    "    \"\"\"Evalúa el polinomio interpolador de Lagrange\"\"\"\n",
    "    P = 0\n",
    "\n",
    "    for j in range(M):\n",
    "      pt = y[j]\n",
    "      for k in range(M):\n",
    "        if k == j:\n",
    "          continue\n",
    "        fac = x[j] - x[k]\n",
    "        pt *= (xx - x[k]) / fac\n",
    "      P += pt\n",
    "    return P\n",
    "\n",
    "  return polin\n"
   ]
  },
  {
   "cell_type": "code",
   "execution_count": 19,
   "metadata": {
    "autoscroll": false,
    "collapsed": false,
    "ein.hycell": false,
    "ein.tags": "worksheet-0",
    "slideshow": {
     "slide_type": "-"
    }
   },
   "outputs": [],
   "source": [
    "# %load scripts/ejemplo_05_2.py\n",
    "def polinomio_interp(x, y):\n",
    "  \"\"\"Devuelve el polinomio interpolador que pasa por los puntos (x_i, y_i)\n",
    "\n",
    "    Warning: La implementación es numéricamente inestable. Funciona para algunos puntos (menor a 20)\n",
    "\n",
    "  Keyword Arguments:\n",
    "  x -- Lista con los valores de x\n",
    "  y -- Lista con los valores de y\n",
    "  \"\"\"\n",
    "\n",
    "  M = len(x)\n",
    "\n",
    "  def polin(xx):\n",
    "    \"\"\"Evalúa el polinomio interpolador de Lagrange\"\"\"\n",
    "    P = 0\n",
    "\n",
    "    for j in range(M):\n",
    "      pt = y[j]\n",
    "      for k in range(M):\n",
    "        if k == j:\n",
    "          continue\n",
    "        fac = x[j] - x[k]\n",
    "        pt *= (xx - x[k]) / fac\n",
    "      P += pt\n",
    "    return P\n",
    "\n",
    "  return polin\n"
   ]
  },
  {
   "cell_type": "markdown",
   "metadata": {
    "ein.tags": "worksheet-0",
    "slideshow": {
     "slide_type": "-"
    }
   },
   "source": [
    "Lo que obtenemos al llamar a esta función es una función"
   ]
  },
  {
   "cell_type": "code",
   "execution_count": 20,
   "metadata": {
    "autoscroll": false,
    "collapsed": false,
    "ein.hycell": false,
    "ein.tags": "worksheet-0",
    "slideshow": {
     "slide_type": "-"
    }
   },
   "outputs": [],
   "source": [
    "f = polinomio_interp([0,1], [0,2])"
   ]
  },
  {
   "cell_type": "code",
   "execution_count": 21,
   "metadata": {
    "autoscroll": false,
    "collapsed": false,
    "ein.hycell": false,
    "ein.tags": "worksheet-0",
    "slideshow": {
     "slide_type": "-"
    }
   },
   "outputs": [
    {
     "data": {
      "text/plain": [
       "<function __main__.polinomio_interp.<locals>.polin(xx)>"
      ]
     },
     "execution_count": 21,
     "metadata": {},
     "output_type": "execute_result"
    }
   ],
   "source": [
    "f"
   ]
  },
  {
   "cell_type": "code",
   "execution_count": 22,
   "metadata": {
    "autoscroll": false,
    "collapsed": false,
    "ein.hycell": false,
    "ein.tags": "worksheet-0",
    "slideshow": {
     "slide_type": "-"
    }
   },
   "outputs": [
    {
     "name": "stdout",
     "output_type": "stream",
     "text": [
      "Help on function polin in module __main__:\n",
      "\n",
      "polin(xx)\n",
      "    Evalúa el polinomio interpolador de Lagrange\n",
      "\n"
     ]
    }
   ],
   "source": [
    "help(f)"
   ]
  },
  {
   "cell_type": "code",
   "execution_count": 23,
   "metadata": {
    "autoscroll": false,
    "collapsed": false,
    "ein.hycell": false,
    "ein.tags": "worksheet-0",
    "slideshow": {
     "slide_type": "-"
    }
   },
   "outputs": [
    {
     "data": {
      "text/plain": [
       "6.8"
      ]
     },
     "execution_count": 23,
     "metadata": {},
     "output_type": "execute_result"
    }
   ],
   "source": [
    "f(3.4)"
   ]
  },
  {
   "cell_type": "markdown",
   "metadata": {
    "ein.tags": "worksheet-0",
    "slideshow": {
     "slide_type": "-"
    }
   },
   "source": [
    "Este es el resultado esperado porque queremos el polinomio que pasa por dos puntos (una recta), y en este caso es la recta $y = 2x$. Veamos cómo usarlo, en forma más general:"
   ]
  },
  {
   "cell_type": "code",
   "execution_count": 24,
   "metadata": {
    "autoscroll": false,
    "collapsed": false,
    "ein.hycell": false,
    "ein.tags": "worksheet-0",
    "slideshow": {
     "slide_type": "-"
    }
   },
   "outputs": [
    {
     "name": "stdout",
     "output_type": "stream",
     "text": [
      "\n",
      " x   f2(x)   f3(x)\n",
      "------------------\n",
      "0.0   0.00    0.00\n",
      "0.2   0.04    0.02\n",
      "0.4   0.16    0.13\n",
      "0.6   0.36    0.43\n",
      "0.8   0.64    1.02\n",
      "1.0   1.00    2.00\n",
      "1.2   1.44    3.46\n",
      "1.4   1.96    5.49\n",
      "1.6   2.56    8.19\n",
      "1.8   3.24   11.66\n",
      "2.0   4.00   16.00\n",
      "2.2   4.84   21.30\n",
      "2.4   5.76   27.65\n",
      "2.6   6.76   35.15\n",
      "2.8   7.84   43.90\n",
      "3.0   9.00   54.00\n",
      "3.2  10.24   65.54\n",
      "3.4  11.56   78.61\n",
      "3.6  12.96   93.31\n",
      "3.8  14.44  109.74\n",
      "4.0  16.00  128.00\n",
      "4.2  17.64  148.18\n",
      "4.4  19.36  170.37\n",
      "4.6  21.16  194.67\n",
      "4.8  23.04  221.18\n"
     ]
    }
   ],
   "source": [
    "# %load scripts/ejemplo_05_3\n",
    "#from ejemplo_05_2 import polinomio_interp\n",
    "\n",
    "xmax = 5\n",
    "step = 0.2\n",
    "N = int(5 / step)\n",
    "\n",
    "x2, y2 = [1, 2, 3], [1, 4, 9]   # x^2\n",
    "f2 = polinomio_interp(x2, y2)\n",
    "\n",
    "x3, y3 = [0, 1, 2, 3], [0, 2, 16, 54]  # 2 x^3\n",
    "f3 = polinomio_interp(x3, y3)\n",
    "\n",
    "print('\\n x   f2(x)   f3(x)\\n' + 18 * '-')\n",
    "for j in range(N):\n",
    "  x = step * j\n",
    "  print('{:.1f}  {:5.2f}  {:6.2f}'.format(x, f2(x), f3(x)))\n"
   ]
  },
  {
   "cell_type": "code",
   "execution_count": 25,
   "metadata": {
    "autoscroll": false,
    "collapsed": false,
    "ein.hycell": false,
    "ein.tags": "worksheet-0",
    "slideshow": {
     "slide_type": "-"
    }
   },
   "outputs": [],
   "source": [
    "%matplotlib inline"
   ]
  },
  {
   "cell_type": "code",
   "execution_count": 26,
   "metadata": {
    "autoscroll": false,
    "collapsed": false,
    "ein.hycell": false,
    "ein.tags": "worksheet-0",
    "slideshow": {
     "slide_type": "-"
    }
   },
   "outputs": [
    {
     "data": {
      "text/plain": [
       "<matplotlib.legend.Legend at 0x7fcd01a970b8>"
      ]
     },
     "execution_count": 26,
     "metadata": {},
     "output_type": "execute_result"
    },
    {
     "data": {
      "image/png": "[encoded data removed]",
      "text/plain": [
       "<Figure size 432x288 with 1 Axes>"
      ]
     },
     "metadata": {},
     "output_type": "display_data"
    }
   ],
   "source": [
    "# %load scripts/ejemplo_05_4\n",
    "import numpy as np\n",
    "import matplotlib.pyplot as plt\n",
    "#from ejemplo_05_2 import polinomio_interp\n",
    "\n",
    "# -------------------- Definición de las funciones --------------------\n",
    "x2, y2 = [1, 2, 3], [1, 4, 9]\n",
    "f2 = polinomio_interp(x2, y2)\n",
    "\n",
    "x3, y3 = [0, 1, 2, 3], [0, 2, 16, 54]\n",
    "f3 = polinomio_interp(x3, y3)\n",
    "\n",
    "# ---------------------------- Graficación ----------------------------\n",
    "plt.ion()\n",
    "plt.clf()\n",
    "\n",
    "xx = np.linspace(0, 5, 50)\n",
    "\n",
    "plt.plot(x2, y2, 'ob', xx, f2(xx), label='$x^2$')\n",
    "plt.plot(x3, y3, 'og', xx, f3(xx), label='$x^3$')\n",
    "\n",
    "# Agregamos el texto\n",
    "plt.text(3.8, 35, 'x = {}\\ny = {}'.format(str(x2), str(y2)),\n",
    "         color='b', bbox={'facecolor': 'none', 'edgecolor': 'blue'})\n",
    "plt.text(2.9, 200, 'x = {}\\ny = {}'.format(str(x3), str(y3)),\n",
    "         color='g', bbox={'facecolor': 'none', 'edgecolor': 'green'})\n",
    "\n",
    "# Texto a ejes y leyenda\n",
    "plt.xlabel('$x$')\n",
    "plt.ylabel('$f(x)$')\n",
    "plt.legend(loc='best')\n"
   ]
  },
  {
   "cell_type": "markdown",
   "metadata": {
    "ein.tags": "worksheet-0",
    "slideshow": {
     "slide_type": "-"
    }
   },
   "source": [
    "En estos últimos dos ejemplos, y en particular en el último, estamos usando funciones que no definimos. Las funciones de graficación entre otras, están definidas en un paquete externo `matplotlib`. Para poder utilizar las funciones debemos primero *importar* el módulo donde están definidas.\n",
    "\n",
    "Lo mismo ocurre con nuestro programa. Veamos en más detalle cómo es el mecanismo de importación."
   ]
  }
 ],
 "metadata": {
  "kernelspec": {
   "display_name": "Python 3",
   "name": "python3"
  },
  "language_info": {
   "codemirror_mode": {
    "name": "ipython",
    "version": 3
   },
   "file_extension": ".py",
   "mimetype": "text/x-python",
   "name": "python",
   "nbconvert_exporter": "python",
   "pygments_lexer": "ipython3",
   "version": "3.7.2"
  },
  "name": "05_algunos_ejemplos.ipynb",
  "toc": {
   "base_numbering": 1,
   "nav_menu": null,
   "number_sections": true,
   "sideBar": true,
   "skip_h1_title": false,
   "title_cell": "Contenidos",
   "title_sidebar": "Contenidos",
   "toc_cell": false,
   "toc_position": null,
   "toc_section_display": true,
   "toc_window_display": true
  }
 },
 "nbformat": 4,
 "nbformat_minor": 1
}
